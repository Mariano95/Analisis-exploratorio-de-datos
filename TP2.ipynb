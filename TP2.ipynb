{
 "cells": [
  {
   "cell_type": "code",
   "execution_count": 1,
   "metadata": {},
   "outputs": [],
   "source": [
    "import numpy as np\n",
    "import pandas as pd\n",
    "import seaborn as sb\n",
    "import matplotlib.pyplot as plt\n",
    "%matplotlib inline\n",
    "plt.rcParams['figure.figsize'] = (16, 9)\n",
    "plt.style.use('ggplot')\n",
    "from sklearn import tree\n",
    "from sklearn.metrics import accuracy_score\n",
    "from sklearn.model_selection import KFold\n",
    "from sklearn.model_selection import cross_val_score\n",
    "from IPython.display import Image as PImage\n",
    "from subprocess import check_call\n",
    "from PIL import Image, ImageDraw, ImageFont"
   ]
  },
  {
   "cell_type": "code",
   "execution_count": 2,
   "metadata": {},
   "outputs": [],
   "source": [
    "test_final_100k_ = pd.read_csv('Datos/test_final_100k.csv')"
   ]
  },
  {
   "cell_type": "markdown",
   "metadata": {},
   "source": [
    "# Pre procesamiento de los datos\n"
   ]
  },
  {
   "cell_type": "markdown",
   "metadata": {},
   "source": [
    "## Postulantes"
   ]
  },
  {
   "cell_type": "code",
   "execution_count": 3,
   "metadata": {},
   "outputs": [],
   "source": [
    "postulantes_educacion_desde_15_Abril = pd.read_csv('Datos/Fiuba_desde_15_Abril/fiuba_1_postulantes_educacion.csv')\n",
    "postulantes_genero_y_edad_desde_15_Abril = pd.read_csv('Datos/Fiuba_desde_15_Abril/fiuba_2_postulantes_genero_y_edad.csv')\n",
    "postulantes_educacion_hasta_15_abril = pd.read_csv('Datos/fiuba_hasta_15_abril/fiuba_1_postulantes_educacion.csv')\n",
    "postulantes_genero_y_edad_hasta_15_abril = pd.read_csv('Datos/fiuba_hasta_15_abril/fiuba_2_postulantes_genero_y_edad.csv')\n",
    "postulantes_educacion_original = pd.read_csv('Datos/datos_navent_fiuba/fiuba_1_postulantes_educacion.csv')\n",
    "postulantes_genero_y_edad_original = pd.read_csv('Datos/datos_navent_fiuba/fiuba_2_postulantes_genero_y_edad.csv')"
   ]
  },
  {
   "cell_type": "code",
   "execution_count": 4,
   "metadata": {},
   "outputs": [],
   "source": [
    "postulantes_genero_y_edad = pd.concat([postulantes_genero_y_edad_desde_15_Abril,postulantes_genero_y_edad_hasta_15_abril,postulantes_genero_y_edad_original], axis=0)\n",
    "postulantes_genero_y_edad = postulantes_genero_y_edad.drop_duplicates('idpostulante')"
   ]
  },
  {
   "cell_type": "code",
   "execution_count": 5,
   "metadata": {},
   "outputs": [],
   "source": [
    "#Descarto los postulantes que están presentes en el set de prueba\n",
    "\n",
    "postulantes_genero_y_edad = postulantes_genero_y_edad.set_index('idpostulante').drop(test_final_100k_.drop_duplicates('idpostulante').idpostulante).reset_index()"
   ]
  },
  {
   "cell_type": "code",
   "execution_count": 6,
   "metadata": {},
   "outputs": [],
   "source": [
    "postulantes_educacion = pd.concat([postulantes_educacion_desde_15_Abril,postulantes_educacion_hasta_15_abril,postulantes_educacion_original], axis=0)\n",
    "postulantes_educacion = postulantes_educacion"
   ]
  },
  {
   "cell_type": "code",
   "execution_count": 7,
   "metadata": {},
   "outputs": [],
   "source": [
    "#Renombro las columnas a un nombre más apropiado\n",
    "\n",
    "postulantes_educacion = postulantes_educacion.rename(columns={\"nombre\":\"educacion\"})"
   ]
  },
  {
   "cell_type": "code",
   "execution_count": 8,
   "metadata": {},
   "outputs": [
    {
     "data": {
      "text/plain": [
       "idpostulante    False\n",
       "educacion       False\n",
       "estado          False\n",
       "dtype: bool"
      ]
     },
     "execution_count": 8,
     "metadata": {},
     "output_type": "execute_result"
    }
   ],
   "source": [
    "#Hay algun dato nulo?\n",
    "\n",
    "postulantes_educacion.isnull().any()"
   ]
  },
  {
   "cell_type": "code",
   "execution_count": 9,
   "metadata": {},
   "outputs": [
    {
     "data": {
      "text/plain": [
       "Graduado      721794\n",
       "En Curso      286282\n",
       "Abandonado     95117\n",
       "Name: estado, dtype: int64"
      ]
     },
     "execution_count": 9,
     "metadata": {},
     "output_type": "execute_result"
    }
   ],
   "source": [
    "postulantes_educacion.estado.value_counts()"
   ]
  },
  {
   "cell_type": "code",
   "execution_count": 10,
   "metadata": {},
   "outputs": [],
   "source": [
    "#Para cada postulante, me interesa quedarme solamente con la mayor de sus educaciones\n",
    "\n",
    "postulantes_educacion['Cod_edu'] = np.array([0 if e == 'Secundario' else \n",
    "                                             1 if e == 'Otro' else \n",
    "                                             2 if e == 'Terciario/Técnico' else \n",
    "                                             3 if e == 'Universitario' else \n",
    "                                             4 if e == 'Posgrado' else \n",
    "                                             5 if e == 'Master' else 6 for e in postulantes_educacion.educacion])\n",
    "\n",
    "postulantes_educacion['Cod_est'] = np.array([1 if e == 'Abandonado' else \n",
    "                                             2 if e == 'En curso' else 3 for e in postulantes_educacion.estado])\n",
    "\n",
    "postulantes_educacion = postulantes_educacion.sort_values(['idpostulante','Cod_edu'], ascending = False).drop_duplicates('idpostulante')"
   ]
  },
  {
   "cell_type": "code",
   "execution_count": 11,
   "metadata": {},
   "outputs": [
    {
     "data": {
      "text/html": [
       "<div>\n",
       "<style scoped>\n",
       "    .dataframe tbody tr th:only-of-type {\n",
       "        vertical-align: middle;\n",
       "    }\n",
       "\n",
       "    .dataframe tbody tr th {\n",
       "        vertical-align: top;\n",
       "    }\n",
       "\n",
       "    .dataframe thead th {\n",
       "        text-align: right;\n",
       "    }\n",
       "</style>\n",
       "<table border=\"1\" class=\"dataframe\">\n",
       "  <thead>\n",
       "    <tr style=\"text-align: right;\">\n",
       "      <th></th>\n",
       "      <th>idpostulante</th>\n",
       "      <th>educacion</th>\n",
       "      <th>estado</th>\n",
       "      <th>Cod_edu</th>\n",
       "      <th>Cod_est</th>\n",
       "    </tr>\n",
       "  </thead>\n",
       "  <tbody>\n",
       "    <tr>\n",
       "      <th>53093</th>\n",
       "      <td>zvxzzL6</td>\n",
       "      <td>Otro</td>\n",
       "      <td>Graduado</td>\n",
       "      <td>1</td>\n",
       "      <td>3</td>\n",
       "    </tr>\n",
       "    <tr>\n",
       "      <th>118722</th>\n",
       "      <td>zvxzvD5</td>\n",
       "      <td>Terciario/Técnico</td>\n",
       "      <td>En Curso</td>\n",
       "      <td>2</td>\n",
       "      <td>3</td>\n",
       "    </tr>\n",
       "    <tr>\n",
       "      <th>60154</th>\n",
       "      <td>zvxzrWm</td>\n",
       "      <td>Universitario</td>\n",
       "      <td>Graduado</td>\n",
       "      <td>3</td>\n",
       "      <td>3</td>\n",
       "    </tr>\n",
       "    <tr>\n",
       "      <th>50863</th>\n",
       "      <td>zvxzmED</td>\n",
       "      <td>Secundario</td>\n",
       "      <td>Graduado</td>\n",
       "      <td>0</td>\n",
       "      <td>3</td>\n",
       "    </tr>\n",
       "    <tr>\n",
       "      <th>211836</th>\n",
       "      <td>zvxzjoK</td>\n",
       "      <td>Terciario/Técnico</td>\n",
       "      <td>En Curso</td>\n",
       "      <td>2</td>\n",
       "      <td>3</td>\n",
       "    </tr>\n",
       "  </tbody>\n",
       "</table>\n",
       "</div>"
      ],
      "text/plain": [
       "       idpostulante          educacion    estado  Cod_edu  Cod_est\n",
       "53093       zvxzzL6               Otro  Graduado        1        3\n",
       "118722      zvxzvD5  Terciario/Técnico  En Curso        2        3\n",
       "60154       zvxzrWm      Universitario  Graduado        3        3\n",
       "50863       zvxzmED         Secundario  Graduado        0        3\n",
       "211836      zvxzjoK  Terciario/Técnico  En Curso        2        3"
      ]
     },
     "execution_count": 11,
     "metadata": {},
     "output_type": "execute_result"
    }
   ],
   "source": [
    "postulantes_educacion.head()"
   ]
  },
  {
   "cell_type": "code",
   "execution_count": 12,
   "metadata": {},
   "outputs": [],
   "source": [
    "postulantes_genero_y_edad['Cod_sexo'] = np.array([0 if e == 'MASC' else 1 for e in postulantes_genero_y_edad.sexo])"
   ]
  },
  {
   "cell_type": "code",
   "execution_count": 13,
   "metadata": {},
   "outputs": [
    {
     "data": {
      "text/plain": [
       "idpostulante       False\n",
       "fechanacimiento     True\n",
       "sexo               False\n",
       "Cod_sexo           False\n",
       "dtype: bool"
      ]
     },
     "execution_count": 13,
     "metadata": {},
     "output_type": "execute_result"
    }
   ],
   "source": [
    "#Ojo, fechas de nacimiento nulas\n",
    "\n",
    "postulantes_genero_y_edad.isnull().any()"
   ]
  },
  {
   "cell_type": "code",
   "execution_count": 14,
   "metadata": {},
   "outputs": [],
   "source": [
    "#Convierto la columna fechanacimiento a formato datetime. \n",
    "\n",
    "postulantes_genero_y_edad['fechanacimiento'] = pd.to_datetime(postulantes_genero_y_edad['fechanacimiento'], errors='coerce')"
   ]
  },
  {
   "cell_type": "code",
   "execution_count": 15,
   "metadata": {},
   "outputs": [
    {
     "data": {
      "text/html": [
       "<div>\n",
       "<style scoped>\n",
       "    .dataframe tbody tr th:only-of-type {\n",
       "        vertical-align: middle;\n",
       "    }\n",
       "\n",
       "    .dataframe tbody tr th {\n",
       "        vertical-align: top;\n",
       "    }\n",
       "\n",
       "    .dataframe thead th {\n",
       "        text-align: right;\n",
       "    }\n",
       "</style>\n",
       "<table border=\"1\" class=\"dataframe\">\n",
       "  <thead>\n",
       "    <tr style=\"text-align: right;\">\n",
       "      <th></th>\n",
       "      <th>idpostulante</th>\n",
       "      <th>fechanacimiento</th>\n",
       "      <th>sexo</th>\n",
       "      <th>Cod_sexo</th>\n",
       "    </tr>\n",
       "  </thead>\n",
       "  <tbody>\n",
       "    <tr>\n",
       "      <th>1</th>\n",
       "      <td>8mW</td>\n",
       "      <td>NaT</td>\n",
       "      <td>NO_DECLARA</td>\n",
       "      <td>1</td>\n",
       "    </tr>\n",
       "    <tr>\n",
       "      <th>5</th>\n",
       "      <td>eRYllW</td>\n",
       "      <td>NaT</td>\n",
       "      <td>NO_DECLARA</td>\n",
       "      <td>1</td>\n",
       "    </tr>\n",
       "    <tr>\n",
       "      <th>6</th>\n",
       "      <td>52KB1p</td>\n",
       "      <td>NaT</td>\n",
       "      <td>NO_DECLARA</td>\n",
       "      <td>1</td>\n",
       "    </tr>\n",
       "    <tr>\n",
       "      <th>11</th>\n",
       "      <td>Y0mpjq</td>\n",
       "      <td>NaT</td>\n",
       "      <td>NO_DECLARA</td>\n",
       "      <td>1</td>\n",
       "    </tr>\n",
       "    <tr>\n",
       "      <th>14</th>\n",
       "      <td>a61YjW</td>\n",
       "      <td>NaT</td>\n",
       "      <td>NO_DECLARA</td>\n",
       "      <td>1</td>\n",
       "    </tr>\n",
       "  </tbody>\n",
       "</table>\n",
       "</div>"
      ],
      "text/plain": [
       "   idpostulante fechanacimiento        sexo  Cod_sexo\n",
       "1           8mW             NaT  NO_DECLARA         1\n",
       "5        eRYllW             NaT  NO_DECLARA         1\n",
       "6        52KB1p             NaT  NO_DECLARA         1\n",
       "11       Y0mpjq             NaT  NO_DECLARA         1\n",
       "14       a61YjW             NaT  NO_DECLARA         1"
      ]
     },
     "execution_count": 15,
     "metadata": {},
     "output_type": "execute_result"
    }
   ],
   "source": [
    "#Corregir estas fechas nulas\n",
    "\n",
    "postulantes_genero_y_edad.loc[postulantes_genero_y_edad.fechanacimiento.isnull()].head()"
   ]
  },
  {
   "cell_type": "code",
   "execution_count": 16,
   "metadata": {
    "scrolled": true
   },
   "outputs": [
    {
     "data": {
      "text/html": [
       "<div>\n",
       "<style scoped>\n",
       "    .dataframe tbody tr th:only-of-type {\n",
       "        vertical-align: middle;\n",
       "    }\n",
       "\n",
       "    .dataframe tbody tr th {\n",
       "        vertical-align: top;\n",
       "    }\n",
       "\n",
       "    .dataframe thead th {\n",
       "        text-align: right;\n",
       "    }\n",
       "</style>\n",
       "<table border=\"1\" class=\"dataframe\">\n",
       "  <thead>\n",
       "    <tr style=\"text-align: right;\">\n",
       "      <th></th>\n",
       "      <th>idpostulante</th>\n",
       "      <th>fechanacimiento</th>\n",
       "      <th>sexo</th>\n",
       "      <th>Cod_sexo</th>\n",
       "      <th>edad</th>\n",
       "    </tr>\n",
       "  </thead>\n",
       "  <tbody>\n",
       "    <tr>\n",
       "      <th>0</th>\n",
       "      <td>YZP</td>\n",
       "      <td>1961-05-01</td>\n",
       "      <td>MASC</td>\n",
       "      <td>0</td>\n",
       "      <td>57</td>\n",
       "    </tr>\n",
       "    <tr>\n",
       "      <th>1</th>\n",
       "      <td>8mW</td>\n",
       "      <td>NaT</td>\n",
       "      <td>NO_DECLARA</td>\n",
       "      <td>1</td>\n",
       "      <td>0</td>\n",
       "    </tr>\n",
       "    <tr>\n",
       "      <th>2</th>\n",
       "      <td>aEWON</td>\n",
       "      <td>1967-06-16</td>\n",
       "      <td>FEM</td>\n",
       "      <td>1</td>\n",
       "      <td>50</td>\n",
       "    </tr>\n",
       "    <tr>\n",
       "      <th>3</th>\n",
       "      <td>Zjde31</td>\n",
       "      <td>1964-02-08</td>\n",
       "      <td>MASC</td>\n",
       "      <td>0</td>\n",
       "      <td>54</td>\n",
       "    </tr>\n",
       "    <tr>\n",
       "      <th>4</th>\n",
       "      <td>8wKqoM</td>\n",
       "      <td>1977-08-04</td>\n",
       "      <td>FEM</td>\n",
       "      <td>1</td>\n",
       "      <td>40</td>\n",
       "    </tr>\n",
       "    <tr>\n",
       "      <th>5</th>\n",
       "      <td>eRYllW</td>\n",
       "      <td>NaT</td>\n",
       "      <td>NO_DECLARA</td>\n",
       "      <td>1</td>\n",
       "      <td>0</td>\n",
       "    </tr>\n",
       "    <tr>\n",
       "      <th>6</th>\n",
       "      <td>52KB1p</td>\n",
       "      <td>NaT</td>\n",
       "      <td>NO_DECLARA</td>\n",
       "      <td>1</td>\n",
       "      <td>0</td>\n",
       "    </tr>\n",
       "    <tr>\n",
       "      <th>7</th>\n",
       "      <td>NA8o45</td>\n",
       "      <td>1974-08-16</td>\n",
       "      <td>MASC</td>\n",
       "      <td>0</td>\n",
       "      <td>43</td>\n",
       "    </tr>\n",
       "    <tr>\n",
       "      <th>8</th>\n",
       "      <td>eRYl5r</td>\n",
       "      <td>1975-10-11</td>\n",
       "      <td>FEM</td>\n",
       "      <td>1</td>\n",
       "      <td>42</td>\n",
       "    </tr>\n",
       "    <tr>\n",
       "      <th>9</th>\n",
       "      <td>8wKOlR</td>\n",
       "      <td>1977-12-24</td>\n",
       "      <td>MASC</td>\n",
       "      <td>0</td>\n",
       "      <td>40</td>\n",
       "    </tr>\n",
       "  </tbody>\n",
       "</table>\n",
       "</div>"
      ],
      "text/plain": [
       "  idpostulante fechanacimiento        sexo  Cod_sexo  edad\n",
       "0          YZP      1961-05-01        MASC         0    57\n",
       "1          8mW             NaT  NO_DECLARA         1     0\n",
       "2        aEWON      1967-06-16         FEM         1    50\n",
       "3       Zjde31      1964-02-08        MASC         0    54\n",
       "4       8wKqoM      1977-08-04         FEM         1    40\n",
       "5       eRYllW             NaT  NO_DECLARA         1     0\n",
       "6       52KB1p             NaT  NO_DECLARA         1     0\n",
       "7       NA8o45      1974-08-16        MASC         0    43\n",
       "8       eRYl5r      1975-10-11         FEM         1    42\n",
       "9       8wKOlR      1977-12-24        MASC         0    40"
      ]
     },
     "execution_count": 16,
     "metadata": {},
     "output_type": "execute_result"
    }
   ],
   "source": [
    "#Vamos ahora a agregar una columna adicional al dataframe, de modo que podamos observar la edad de cada persona\n",
    "\n",
    "postulantes_genero_y_edad['edad'] = ((pd.datetime.today() - postulantes_genero_y_edad['fechanacimiento']).dt.days/365)\n",
    "postulantes_genero_y_edad['edad'] = postulantes_genero_y_edad['edad'].fillna(0)\n",
    "postulantes_genero_y_edad['edad'] = postulantes_genero_y_edad['edad'].astype(int)\n",
    "postulantes_genero_y_edad.head(10)"
   ]
  },
  {
   "cell_type": "code",
   "execution_count": 17,
   "metadata": {
    "scrolled": true
   },
   "outputs": [
    {
     "data": {
      "text/html": [
       "<div>\n",
       "<style scoped>\n",
       "    .dataframe tbody tr th:only-of-type {\n",
       "        vertical-align: middle;\n",
       "    }\n",
       "\n",
       "    .dataframe tbody tr th {\n",
       "        vertical-align: top;\n",
       "    }\n",
       "\n",
       "    .dataframe thead th {\n",
       "        text-align: right;\n",
       "    }\n",
       "</style>\n",
       "<table border=\"1\" class=\"dataframe\">\n",
       "  <thead>\n",
       "    <tr style=\"text-align: right;\">\n",
       "      <th></th>\n",
       "      <th>idpostulante</th>\n",
       "      <th>fechanacimiento</th>\n",
       "      <th>sexo</th>\n",
       "      <th>Cod_sexo</th>\n",
       "      <th>edad</th>\n",
       "    </tr>\n",
       "  </thead>\n",
       "  <tbody>\n",
       "    <tr>\n",
       "      <th>11375</th>\n",
       "      <td>VNr1dej</td>\n",
       "      <td>2000-02-29</td>\n",
       "      <td>MASC</td>\n",
       "      <td>0</td>\n",
       "      <td>18</td>\n",
       "    </tr>\n",
       "    <tr>\n",
       "      <th>437559</th>\n",
       "      <td>6rP38R3</td>\n",
       "      <td>2000-02-29</td>\n",
       "      <td>FEM</td>\n",
       "      <td>1</td>\n",
       "      <td>18</td>\n",
       "    </tr>\n",
       "    <tr>\n",
       "      <th>435820</th>\n",
       "      <td>3NP3dAJ</td>\n",
       "      <td>2000-02-29</td>\n",
       "      <td>FEM</td>\n",
       "      <td>1</td>\n",
       "      <td>18</td>\n",
       "    </tr>\n",
       "    <tr>\n",
       "      <th>431417</th>\n",
       "      <td>Bm5dkzR</td>\n",
       "      <td>2000-02-29</td>\n",
       "      <td>MASC</td>\n",
       "      <td>0</td>\n",
       "      <td>18</td>\n",
       "    </tr>\n",
       "    <tr>\n",
       "      <th>180285</th>\n",
       "      <td>96XkKlw</td>\n",
       "      <td>2000-02-29</td>\n",
       "      <td>FEM</td>\n",
       "      <td>1</td>\n",
       "      <td>18</td>\n",
       "    </tr>\n",
       "    <tr>\n",
       "      <th>138853</th>\n",
       "      <td>Yj5p1GX</td>\n",
       "      <td>2000-02-29</td>\n",
       "      <td>MASC</td>\n",
       "      <td>0</td>\n",
       "      <td>18</td>\n",
       "    </tr>\n",
       "    <tr>\n",
       "      <th>148087</th>\n",
       "      <td>1QP82xR</td>\n",
       "      <td>2000-02-29</td>\n",
       "      <td>FEM</td>\n",
       "      <td>1</td>\n",
       "      <td>18</td>\n",
       "    </tr>\n",
       "    <tr>\n",
       "      <th>197610</th>\n",
       "      <td>EzeN2Q4</td>\n",
       "      <td>2000-02-29</td>\n",
       "      <td>FEM</td>\n",
       "      <td>1</td>\n",
       "      <td>18</td>\n",
       "    </tr>\n",
       "    <tr>\n",
       "      <th>355768</th>\n",
       "      <td>JBraa0E</td>\n",
       "      <td>2000-02-29</td>\n",
       "      <td>MASC</td>\n",
       "      <td>0</td>\n",
       "      <td>18</td>\n",
       "    </tr>\n",
       "    <tr>\n",
       "      <th>333738</th>\n",
       "      <td>ekOwAWW</td>\n",
       "      <td>2000-02-29</td>\n",
       "      <td>FEM</td>\n",
       "      <td>1</td>\n",
       "      <td>18</td>\n",
       "    </tr>\n",
       "  </tbody>\n",
       "</table>\n",
       "</div>"
      ],
      "text/plain": [
       "       idpostulante fechanacimiento  sexo  Cod_sexo  edad\n",
       "11375       VNr1dej      2000-02-29  MASC         0    18\n",
       "437559      6rP38R3      2000-02-29   FEM         1    18\n",
       "435820      3NP3dAJ      2000-02-29   FEM         1    18\n",
       "431417      Bm5dkzR      2000-02-29  MASC         0    18\n",
       "180285      96XkKlw      2000-02-29   FEM         1    18\n",
       "138853      Yj5p1GX      2000-02-29  MASC         0    18\n",
       "148087      1QP82xR      2000-02-29   FEM         1    18\n",
       "197610      EzeN2Q4      2000-02-29   FEM         1    18\n",
       "355768      JBraa0E      2000-02-29  MASC         0    18\n",
       "333738      ekOwAWW      2000-02-29   FEM         1    18"
      ]
     },
     "execution_count": 17,
     "metadata": {},
     "output_type": "execute_result"
    }
   ],
   "source": [
    "#Reviso la edad de las personas que cumplen años el 29/02\n",
    "\n",
    "postulantes_nacidos_en_febrero = postulantes_genero_y_edad.loc[postulantes_genero_y_edad['fechanacimiento'].dt.month == 2]\n",
    "postulantes_nacidos_en_febrero.loc[postulantes_nacidos_en_febrero['fechanacimiento'].dt.day == 29].sort_values('fechanacimiento',ascending = False).head(10)"
   ]
  },
  {
   "cell_type": "code",
   "execution_count": 18,
   "metadata": {},
   "outputs": [
    {
     "data": {
      "text/html": [
       "<div>\n",
       "<style scoped>\n",
       "    .dataframe tbody tr th:only-of-type {\n",
       "        vertical-align: middle;\n",
       "    }\n",
       "\n",
       "    .dataframe tbody tr th {\n",
       "        vertical-align: top;\n",
       "    }\n",
       "\n",
       "    .dataframe thead th {\n",
       "        text-align: right;\n",
       "    }\n",
       "</style>\n",
       "<table border=\"1\" class=\"dataframe\">\n",
       "  <thead>\n",
       "    <tr style=\"text-align: right;\">\n",
       "      <th></th>\n",
       "      <th>idpostulante</th>\n",
       "      <th>sexo</th>\n",
       "      <th>Cod_sexo</th>\n",
       "      <th>edad</th>\n",
       "      <th>educacion</th>\n",
       "      <th>estado</th>\n",
       "      <th>Cod_edu</th>\n",
       "      <th>Cod_est</th>\n",
       "    </tr>\n",
       "  </thead>\n",
       "  <tbody>\n",
       "    <tr>\n",
       "      <th>0</th>\n",
       "      <td>YZP</td>\n",
       "      <td>MASC</td>\n",
       "      <td>0</td>\n",
       "      <td>57</td>\n",
       "      <td>Master</td>\n",
       "      <td>En Curso</td>\n",
       "      <td>5.0</td>\n",
       "      <td>3</td>\n",
       "    </tr>\n",
       "    <tr>\n",
       "      <th>1</th>\n",
       "      <td>8mW</td>\n",
       "      <td>NO_DECLARA</td>\n",
       "      <td>1</td>\n",
       "      <td>0</td>\n",
       "      <td>Ninguna</td>\n",
       "      <td>Ninguno</td>\n",
       "      <td>NaN</td>\n",
       "      <td>0</td>\n",
       "    </tr>\n",
       "    <tr>\n",
       "      <th>2</th>\n",
       "      <td>aEWON</td>\n",
       "      <td>FEM</td>\n",
       "      <td>1</td>\n",
       "      <td>50</td>\n",
       "      <td>Ninguna</td>\n",
       "      <td>Ninguno</td>\n",
       "      <td>NaN</td>\n",
       "      <td>0</td>\n",
       "    </tr>\n",
       "    <tr>\n",
       "      <th>3</th>\n",
       "      <td>Zjde31</td>\n",
       "      <td>MASC</td>\n",
       "      <td>0</td>\n",
       "      <td>54</td>\n",
       "      <td>Posgrado</td>\n",
       "      <td>Graduado</td>\n",
       "      <td>4.0</td>\n",
       "      <td>3</td>\n",
       "    </tr>\n",
       "    <tr>\n",
       "      <th>4</th>\n",
       "      <td>8wKqoM</td>\n",
       "      <td>FEM</td>\n",
       "      <td>1</td>\n",
       "      <td>40</td>\n",
       "      <td>Universitario</td>\n",
       "      <td>Graduado</td>\n",
       "      <td>3.0</td>\n",
       "      <td>3</td>\n",
       "    </tr>\n",
       "  </tbody>\n",
       "</table>\n",
       "</div>"
      ],
      "text/plain": [
       "  idpostulante        sexo  Cod_sexo  edad      educacion    estado  Cod_edu  \\\n",
       "0          YZP        MASC         0    57         Master  En Curso      5.0   \n",
       "1          8mW  NO_DECLARA         1     0        Ninguna   Ninguno      NaN   \n",
       "2        aEWON         FEM         1    50        Ninguna   Ninguno      NaN   \n",
       "3       Zjde31        MASC         0    54       Posgrado  Graduado      4.0   \n",
       "4       8wKqoM         FEM         1    40  Universitario  Graduado      3.0   \n",
       "\n",
       "  Cod_est  \n",
       "0       3  \n",
       "1       0  \n",
       "2       0  \n",
       "3       3  \n",
       "4       3  "
      ]
     },
     "execution_count": 18,
     "metadata": {},
     "output_type": "execute_result"
    }
   ],
   "source": [
    "#Merge de los datos de los postulantes\n",
    "\n",
    "postulantes = pd.merge(postulantes_genero_y_edad,postulantes_educacion,how='left',on='idpostulante')\n",
    "postulantes['educacion'] = postulantes['educacion'].fillna('Ninguna')\n",
    "postulantes['estado'] = postulantes['estado'].fillna('Ninguno')\n",
    "postulantes['Cod_est'] = postulantes['Cod_est'].fillna('0')\n",
    "postulantes = postulantes.drop(['fechanacimiento'],axis=1)\n",
    "postulantes.head()"
   ]
  },
  {
   "cell_type": "code",
   "execution_count": 19,
   "metadata": {},
   "outputs": [
    {
     "data": {
      "text/plain": [
       "idpostulante    False\n",
       "sexo            False\n",
       "Cod_sexo        False\n",
       "edad            False\n",
       "educacion       False\n",
       "estado          False\n",
       "Cod_edu          True\n",
       "Cod_est         False\n",
       "dtype: bool"
      ]
     },
     "execution_count": 19,
     "metadata": {},
     "output_type": "execute_result"
    }
   ],
   "source": [
    "postulantes.isnull().any()"
   ]
  },
  {
   "cell_type": "markdown",
   "metadata": {},
   "source": [
    "## Vistas"
   ]
  },
  {
   "cell_type": "code",
   "execution_count": 20,
   "metadata": {},
   "outputs": [],
   "source": [
    "#vistas = pd.read_csv('Datos/fiuba_hasta_15_abril/fiuba_3_vistas.csv')"
   ]
  },
  {
   "cell_type": "code",
   "execution_count": 21,
   "metadata": {},
   "outputs": [],
   "source": [
    "#Vistazo a la estructura del dataframe\n",
    "\n",
    "#vistas.head()"
   ]
  },
  {
   "cell_type": "code",
   "execution_count": 22,
   "metadata": {},
   "outputs": [],
   "source": [
    "#El dataframe posee 5758686 registros\n",
    "\n",
    "#vistas.shape"
   ]
  },
  {
   "cell_type": "code",
   "execution_count": 23,
   "metadata": {},
   "outputs": [],
   "source": [
    "#No tenemos registros nulos\n",
    "\n",
    "#vistas.isnull().any()"
   ]
  },
  {
   "cell_type": "code",
   "execution_count": 24,
   "metadata": {},
   "outputs": [],
   "source": [
    "#En este dataframe tenemos 11223 avisos únicos \n",
    "\n",
    "#vistas['idAviso'].value_counts().size"
   ]
  },
  {
   "cell_type": "code",
   "execution_count": 25,
   "metadata": {
    "scrolled": true
   },
   "outputs": [],
   "source": [
    "#Y de los postulantes del dataset, 272526 han visto al menos un aviso\n",
    "\n",
    "#vistas['idpostulante'].value_counts().size"
   ]
  },
  {
   "cell_type": "code",
   "execution_count": 26,
   "metadata": {
    "scrolled": true
   },
   "outputs": [],
   "source": [
    "#Modifico el nombre de la columna timestamp y en su lugar pongo un nombre más descriptivo.>\n",
    "\n",
    "#vistas = vistas.rename(columns = {'timestamp':'fechahoravisualizacion'})"
   ]
  },
  {
   "cell_type": "code",
   "execution_count": 27,
   "metadata": {
    "scrolled": true
   },
   "outputs": [],
   "source": [
    "#Ordeno la informacion sobre la fecha y hora de visualizaciones, modificando su formato y agregando columnas que me permitan\n",
    "#analizar de forma individual la fecha y la hora.\n",
    "\n",
    "#vistas['fechahoravisualizacion'] = pd.to_datetime(vistas['fechahoravisualizacion'])\n",
    "#vistas['fechavisualizacion'] = vistas['fechahoravisualizacion'].dt.date\n",
    "#vistas['horavisualizacion'] = vistas['fechahoravisualizacion'].dt.time\n",
    "#vistas.sort_values('fechavisualizacion').head(10)"
   ]
  },
  {
   "cell_type": "markdown",
   "metadata": {},
   "source": [
    "## Postulaciones"
   ]
  },
  {
   "cell_type": "code",
   "execution_count": 28,
   "metadata": {},
   "outputs": [],
   "source": [
    "postulaciones_hasta_15_abril = pd.read_csv('Datos/fiuba_hasta_15_abril/fiuba_4_postulaciones.csv')\n",
    "postulaciones_original = pd.read_csv('Datos/datos_navent_fiuba/fiuba_4_postulaciones.csv')"
   ]
  },
  {
   "cell_type": "code",
   "execution_count": 29,
   "metadata": {},
   "outputs": [],
   "source": [
    "postulaciones = pd.concat([postulaciones_hasta_15_abril,postulaciones_original],axis=0).drop_duplicates()"
   ]
  },
  {
   "cell_type": "code",
   "execution_count": 30,
   "metadata": {},
   "outputs": [
    {
     "data": {
      "text/html": [
       "<div>\n",
       "<style scoped>\n",
       "    .dataframe tbody tr th:only-of-type {\n",
       "        vertical-align: middle;\n",
       "    }\n",
       "\n",
       "    .dataframe tbody tr th {\n",
       "        vertical-align: top;\n",
       "    }\n",
       "\n",
       "    .dataframe thead th {\n",
       "        text-align: right;\n",
       "    }\n",
       "</style>\n",
       "<table border=\"1\" class=\"dataframe\">\n",
       "  <thead>\n",
       "    <tr style=\"text-align: right;\">\n",
       "      <th></th>\n",
       "      <th>idaviso</th>\n",
       "      <th>idpostulante</th>\n",
       "      <th>fechapostulacion</th>\n",
       "    </tr>\n",
       "  </thead>\n",
       "  <tbody>\n",
       "    <tr>\n",
       "      <th>0</th>\n",
       "      <td>1112248724</td>\n",
       "      <td>NjlD</td>\n",
       "      <td>2018-01-19 07:39:16</td>\n",
       "    </tr>\n",
       "    <tr>\n",
       "      <th>1</th>\n",
       "      <td>1112286523</td>\n",
       "      <td>ZaO5</td>\n",
       "      <td>2018-01-24 15:07:39</td>\n",
       "    </tr>\n",
       "    <tr>\n",
       "      <th>2</th>\n",
       "      <td>1112272060</td>\n",
       "      <td>ZaO5</td>\n",
       "      <td>2018-01-24 15:20:10</td>\n",
       "    </tr>\n",
       "    <tr>\n",
       "      <th>3</th>\n",
       "      <td>1112288401</td>\n",
       "      <td>ZaO5</td>\n",
       "      <td>2018-01-26 08:37:04</td>\n",
       "    </tr>\n",
       "    <tr>\n",
       "      <th>4</th>\n",
       "      <td>1112300563</td>\n",
       "      <td>ZaO5</td>\n",
       "      <td>2018-01-30 13:35:48</td>\n",
       "    </tr>\n",
       "  </tbody>\n",
       "</table>\n",
       "</div>"
      ],
      "text/plain": [
       "      idaviso idpostulante     fechapostulacion\n",
       "0  1112248724         NjlD  2018-01-19 07:39:16\n",
       "1  1112286523         ZaO5  2018-01-24 15:07:39\n",
       "2  1112272060         ZaO5  2018-01-24 15:20:10\n",
       "3  1112288401         ZaO5  2018-01-26 08:37:04\n",
       "4  1112300563         ZaO5  2018-01-30 13:35:48"
      ]
     },
     "execution_count": 30,
     "metadata": {},
     "output_type": "execute_result"
    }
   ],
   "source": [
    "#Vistazo a la estructura del dataframe\n",
    "\n",
    "postulaciones.head()"
   ]
  },
  {
   "cell_type": "code",
   "execution_count": 31,
   "metadata": {},
   "outputs": [
    {
     "data": {
      "text/plain": [
       "(6604534, 3)"
      ]
     },
     "execution_count": 31,
     "metadata": {},
     "output_type": "execute_result"
    }
   ],
   "source": [
    "#Tenemos 6604534 registros\n",
    "\n",
    "postulaciones.shape"
   ]
  },
  {
   "cell_type": "code",
   "execution_count": 32,
   "metadata": {},
   "outputs": [
    {
     "data": {
      "text/plain": [
       "idaviso             False\n",
       "idpostulante        False\n",
       "fechapostulacion    False\n",
       "dtype: bool"
      ]
     },
     "execution_count": 32,
     "metadata": {},
     "output_type": "execute_result"
    }
   ],
   "source": [
    "#No hay registros nulos\n",
    "\n",
    "postulaciones.isnull().any()"
   ]
  },
  {
   "cell_type": "markdown",
   "metadata": {},
   "source": [
    "## Avisos"
   ]
  },
  {
   "cell_type": "code",
   "execution_count": 33,
   "metadata": {},
   "outputs": [],
   "source": [
    "#avisos_detalle_desde_15_Abril = pd.read_csv('Datos/Fiuba_desde_15_Abril/fiuba_6_avisos_detalle.csv')\n",
    "#avisos_online_hasta_15_abril = pd.read_csv('Datos/fiuba_hasta_15_abril/fiuba_5_avisos_online.csv')\n",
    "#avisos_detalle_hasta_15_abril = pd.read_csv('Datos/fiuba_hasta_15_abril/fiuba_6_avisos_detalle.csv')\n",
    "#avisos_online_original = pd.read_csv('Datos/datos_navent_fiuba/fiuba_5_avisos_online.csv')\n",
    "#avisos_detalle_original = pd.read_csv('Datos/datos_navent_fiuba/fiuba_6_avisos_detalle.csv')\n",
    "#avisos_detalle2 = pd.read('fiuba_6_avisos_detalle_missing_nivel_laboral')"
   ]
  },
  {
   "cell_type": "code",
   "execution_count": 34,
   "metadata": {},
   "outputs": [],
   "source": [
    "#avisos_detalle = pd.concat([avisos_detalle2,avisos_detalle_desde_15_Abril,avisos_detalle_hasta_15_abril,avisos_detalle_original],axis=0).drop_duplicates('idaviso')\n",
    "#avisos_online = pd.concat([avisos_online_hasta_15_abril,avisos_online_original],axis=0).drop_duplicates('idaviso')"
   ]
  },
  {
   "cell_type": "code",
   "execution_count": 35,
   "metadata": {},
   "outputs": [],
   "source": [
    "#avisos_online.shape"
   ]
  },
  {
   "cell_type": "code",
   "execution_count": 36,
   "metadata": {},
   "outputs": [],
   "source": [
    "#avisos_detalle.shape"
   ]
  },
  {
   "cell_type": "code",
   "execution_count": 37,
   "metadata": {},
   "outputs": [],
   "source": [
    "#No hay registros nulos\n",
    "\n",
    "#avisos_online.isnull().any()"
   ]
  },
  {
   "cell_type": "code",
   "execution_count": 38,
   "metadata": {},
   "outputs": [],
   "source": [
    "#avisos_detalle.isnull().any()"
   ]
  },
  {
   "cell_type": "markdown",
   "metadata": {},
   "source": [
    "# Árbol binario"
   ]
  },
  {
   "cell_type": "code",
   "execution_count": 39,
   "metadata": {},
   "outputs": [],
   "source": [
    "#Todas las postulaciones historicas\n",
    "\n",
    "postulaciones_historico = pd.merge(postulantes,postulaciones[['idaviso','idpostulante']],on='idpostulante',how='inner')"
   ]
  },
  {
   "cell_type": "code",
   "execution_count": 40,
   "metadata": {},
   "outputs": [
    {
     "data": {
      "text/html": [
       "<div>\n",
       "<style scoped>\n",
       "    .dataframe tbody tr th:only-of-type {\n",
       "        vertical-align: middle;\n",
       "    }\n",
       "\n",
       "    .dataframe tbody tr th {\n",
       "        vertical-align: top;\n",
       "    }\n",
       "\n",
       "    .dataframe thead th {\n",
       "        text-align: right;\n",
       "    }\n",
       "</style>\n",
       "<table border=\"1\" class=\"dataframe\">\n",
       "  <thead>\n",
       "    <tr style=\"text-align: right;\">\n",
       "      <th></th>\n",
       "      <th>Cod_sexo</th>\n",
       "      <th>edad</th>\n",
       "      <th>Cod_edu</th>\n",
       "      <th>Cod_est</th>\n",
       "      <th>idaviso</th>\n",
       "    </tr>\n",
       "  </thead>\n",
       "  <tbody>\n",
       "    <tr>\n",
       "      <th>0</th>\n",
       "      <td>0</td>\n",
       "      <td>35</td>\n",
       "      <td>3.0</td>\n",
       "      <td>3</td>\n",
       "      <td>1112261798</td>\n",
       "    </tr>\n",
       "    <tr>\n",
       "      <th>1</th>\n",
       "      <td>0</td>\n",
       "      <td>35</td>\n",
       "      <td>3.0</td>\n",
       "      <td>3</td>\n",
       "      <td>1112269651</td>\n",
       "    </tr>\n",
       "    <tr>\n",
       "      <th>2</th>\n",
       "      <td>0</td>\n",
       "      <td>35</td>\n",
       "      <td>3.0</td>\n",
       "      <td>3</td>\n",
       "      <td>1112341049</td>\n",
       "    </tr>\n",
       "    <tr>\n",
       "      <th>3</th>\n",
       "      <td>0</td>\n",
       "      <td>35</td>\n",
       "      <td>3.0</td>\n",
       "      <td>3</td>\n",
       "      <td>1112259997</td>\n",
       "    </tr>\n",
       "    <tr>\n",
       "      <th>4</th>\n",
       "      <td>0</td>\n",
       "      <td>35</td>\n",
       "      <td>3.0</td>\n",
       "      <td>3</td>\n",
       "      <td>1112352499</td>\n",
       "    </tr>\n",
       "  </tbody>\n",
       "</table>\n",
       "</div>"
      ],
      "text/plain": [
       "   Cod_sexo  edad  Cod_edu Cod_est     idaviso\n",
       "0         0    35      3.0       3  1112261798\n",
       "1         0    35      3.0       3  1112269651\n",
       "2         0    35      3.0       3  1112341049\n",
       "3         0    35      3.0       3  1112259997\n",
       "4         0    35      3.0       3  1112352499"
      ]
     },
     "execution_count": 40,
     "metadata": {},
     "output_type": "execute_result"
    }
   ],
   "source": [
    "postulaciones_historico.Cod_edu = postulaciones_historico.Cod_edu.fillna(7)\n",
    "postulaciones_historico = postulaciones_historico.drop(['idpostulante','sexo','educacion','estado'],axis=1)\n",
    "postulaciones_historico.head()"
   ]
  },
  {
   "cell_type": "code",
   "execution_count": 41,
   "metadata": {},
   "outputs": [],
   "source": [
    "y_train = postulaciones_historico['idaviso']\n",
    "x_train = postulaciones_historico.drop(['idaviso'], axis=1).values "
   ]
  },
  {
   "cell_type": "code",
   "execution_count": 42,
   "metadata": {},
   "outputs": [
    {
     "data": {
      "text/plain": [
       "array([[0, 35, 3.0, 3.0],\n",
       "       [0, 35, 3.0, 3.0],\n",
       "       [0, 35, 3.0, 3.0],\n",
       "       ...,\n",
       "       [1, 20, 2.0, 3.0],\n",
       "       [1, 20, 2.0, 3.0],\n",
       "       [1, 0, 7.0, '0']], dtype=object)"
      ]
     },
     "execution_count": 42,
     "metadata": {},
     "output_type": "execute_result"
    }
   ],
   "source": [
    "x_train"
   ]
  },
  {
   "cell_type": "code",
   "execution_count": 43,
   "metadata": {},
   "outputs": [
    {
     "data": {
      "text/plain": [
       "0    1112261798\n",
       "1    1112269651\n",
       "2    1112341049\n",
       "3    1112259997\n",
       "4    1112352499\n",
       "Name: idaviso, dtype: int64"
      ]
     },
     "execution_count": 43,
     "metadata": {},
     "output_type": "execute_result"
    }
   ],
   "source": [
    "y_train.head()"
   ]
  },
  {
   "cell_type": "code",
   "execution_count": 48,
   "metadata": {},
   "outputs": [
    {
     "name": "stdout",
     "output_type": "stream",
     "text": [
      "Max Depth  Average Accuracy\n",
      "        1           0.00354\n",
      "        2           0.00336\n",
      "        3           0.00316\n",
      "        4           0.00252\n",
      "        5           0.00170\n"
     ]
    }
   ],
   "source": [
    "cv = KFold(n_splits=10) # Numero deseado de \"folds\" que haremos\n",
    "accuracies = list()\n",
    "max_attributes = len(list(postulaciones_historico))\n",
    "depth_range = range(1, max_attributes + 1)\n",
    "\n",
    "# Testearemos la profundidad de 1 a cantidad de atributos +1\n",
    "for depth in depth_range:\n",
    "    fold_accuracy = []\n",
    "    tree_model = tree.DecisionTreeClassifier(criterion='entropy',\n",
    "                                             min_samples_split=20,\n",
    "                                             min_samples_leaf=5,\n",
    "                                             max_depth = depth)\n",
    "    for train_fold, valid_fold in cv.split(postulaciones_historico):\n",
    "        f_train = postulaciones_historico.loc[train_fold] \n",
    "        f_valid = postulaciones_historico.loc[valid_fold] \n",
    "\n",
    "        model = tree_model.fit(X = f_train[0:5000].drop(['idaviso'], axis=1), \n",
    "                               y = f_train[0:5000][\"idaviso\"]) \n",
    "        valid_acc = model.score(X = f_valid[0:5000].drop(['idaviso'], axis=1), \n",
    "                                y = f_valid[0:5000][\"idaviso\"]) # calculamos la precision con el segmento de validacion\n",
    "        fold_accuracy.append(valid_acc)\n",
    "\n",
    "    avg = sum(fold_accuracy)/len(fold_accuracy)\n",
    "    accuracies.append(avg)\n",
    "    \n",
    "# Mostramos los resultados obtenidos\n",
    "df = pd.DataFrame({\"Max Depth\": depth_range, \"Average Accuracy\": accuracies})\n",
    "df = df[[\"Max Depth\", \"Average Accuracy\"]]\n",
    "print(df.to_string(index=False))"
   ]
  },
  {
   "cell_type": "code",
   "execution_count": 49,
   "metadata": {},
   "outputs": [],
   "source": [
    "#Crear Arbol de decision con profundidad = 1\n",
    "decision_tree = tree.DecisionTreeClassifier(criterion='entropy',\n",
    "                                            min_samples_split=20,\n",
    "                                            min_samples_leaf=5,\n",
    "                                            max_depth = 1)\n",
    "decision_tree = decision_tree.fit(x_train, y_train)"
   ]
  },
  {
   "cell_type": "code",
   "execution_count": 58,
   "metadata": {
    "scrolled": true
   },
   "outputs": [
    {
     "name": "stdout",
     "output_type": "stream",
     "text": [
      "Prediccion: [1112033906]\n"
     ]
    }
   ],
   "source": [
    "y_pred = decision_tree.predict(x_train[0:1])\n",
    "print(\"Prediccion: \" + str(y_pred))\n"
   ]
  },
  {
   "cell_type": "code",
   "execution_count": 61,
   "metadata": {},
   "outputs": [
    {
     "name": "stdout",
     "output_type": "stream",
     "text": [
      "0.22\n"
     ]
    }
   ],
   "source": [
    "acc_decision_tree = round(decision_tree.score(x_train[0:5000], y_train[0:5000]) * 100, 2)\n",
    "print(acc_decision_tree)"
   ]
  },
  {
   "cell_type": "code",
   "execution_count": null,
   "metadata": {},
   "outputs": [],
   "source": []
  }
 ],
 "metadata": {
  "kernelspec": {
   "display_name": "Python 2",
   "language": "python",
   "name": "python2"
  },
  "language_info": {
   "codemirror_mode": {
    "name": "ipython",
    "version": 2
   },
   "file_extension": ".py",
   "mimetype": "text/x-python",
   "name": "python",
   "nbconvert_exporter": "python",
   "pygments_lexer": "ipython2",
   "version": "2.7.14"
  }
 },
 "nbformat": 4,
 "nbformat_minor": 2
}
