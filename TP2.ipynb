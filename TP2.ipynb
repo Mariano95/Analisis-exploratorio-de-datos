{
 "cells": [
  {
   "cell_type": "code",
   "execution_count": 1,
   "metadata": {},
   "outputs": [],
   "source": [
    "import numpy as np\n",
    "import pandas as pd\n",
    "import seaborn as sb\n",
    "import matplotlib.pyplot as plt\n",
    "%matplotlib inline\n",
    "plt.rcParams['figure.figsize'] = (16, 9)\n",
    "plt.style.use('ggplot')\n",
    "from sklearn import tree\n",
    "from sklearn.metrics import accuracy_score\n",
    "from sklearn.model_selection import KFold\n",
    "from sklearn.model_selection import cross_val_score\n",
    "from IPython.display import Image as PImage\n",
    "from subprocess import check_call\n",
    "from PIL import Image, ImageDraw, ImageFont"
   ]
  },
  {
   "cell_type": "markdown",
   "metadata": {},
   "source": [
    "# Pre procesamiento de los datos\n"
   ]
  },
  {
   "cell_type": "markdown",
   "metadata": {},
   "source": [
    "## Postulantes"
   ]
  },
  {
   "cell_type": "code",
   "execution_count": 2,
   "metadata": {},
   "outputs": [],
   "source": [
    "postulantes_educacion_desde_15_Abril = pd.read_csv('Datos/Fiuba_desde_15_Abril/fiuba_1_postulantes_educacion.csv')\n",
    "postulantes_genero_y_edad_desde_15_Abril = pd.read_csv('Datos/Fiuba_desde_15_Abril/fiuba_2_postulantes_genero_y_edad.csv')\n",
    "postulantes_educacion_hasta_15_abril = pd.read_csv('Datos/fiuba_hasta_15_abril/fiuba_1_postulantes_educacion.csv')\n",
    "postulantes_genero_y_edad_hasta_15_abril = pd.read_csv('Datos/fiuba_hasta_15_abril/fiuba_2_postulantes_genero_y_edad.csv')\n",
    "postulantes_educacion_original = pd.read_csv('Datos/datos_navent_fiuba/fiuba_1_postulantes_educacion.csv')\n",
    "postulantes_genero_y_edad_original = pd.read_csv('Datos/datos_navent_fiuba/fiuba_2_postulantes_genero_y_edad.csv')"
   ]
  },
  {
   "cell_type": "code",
   "execution_count": 12,
   "metadata": {},
   "outputs": [],
   "source": [
    "postulantes_genero_y_edad = pd.concat([postulantes_genero_y_edad_desde_15_Abril,postulantes_genero_y_edad_hasta_15_abril,postulantes_genero_y_edad_original], axis=0)\n",
    "postulantes_genero_y_edad = postulantes_genero_y_edad.drop_duplicates('idpostulante')"
   ]
  },
  {
   "cell_type": "code",
   "execution_count": 19,
   "metadata": {},
   "outputs": [],
   "source": [
    "postulantes_educacion = pd.concat([postulantes_educacion_desde_15_Abril,postulantes_educacion_hasta_15_abril,postulantes_educacion_original], axis=0)\n",
    "postulantes_educacion = postulantes_educacion.drop_duplicates('idpostulante')"
   ]
  },
  {
   "cell_type": "code",
   "execution_count": 24,
   "metadata": {},
   "outputs": [],
   "source": [
    "#Renombro las columnas a un nombre más apropiado\n",
    "\n",
    "postulantes_educacion = postulantes_educacion.rename(columns={\"nombre\":\"educacion\"})"
   ]
  },
  {
   "cell_type": "code",
   "execution_count": 25,
   "metadata": {},
   "outputs": [
    {
     "data": {
      "text/plain": [
       "idpostulante    False\n",
       "educacion       False\n",
       "estado          False\n",
       "dtype: bool"
      ]
     },
     "execution_count": 25,
     "metadata": {},
     "output_type": "execute_result"
    }
   ],
   "source": [
    "#Hay algun dato nulo?\n",
    "\n",
    "postulantes_educacion.isnull().any()"
   ]
  },
  {
   "cell_type": "code",
   "execution_count": 26,
   "metadata": {},
   "outputs": [],
   "source": [
    "#Para cada postulante, me interesa quedarme solamente con la mayor de sus educaciones\n",
    "\n",
    "postulantes_educacion['Cod_edu'] = np.array([0 if e == 'Secundario' else \n",
    "                                             1 if e == 'Otro' else \n",
    "                                             2 if e == 'Terciario/Técnico' else \n",
    "                                             3 if e == 'Universitario' else \n",
    "                                             4 if e == 'Posgrado' else \n",
    "                                             5 if e == 'Master' else 6 for e in postulantes_educacion.educacion])\n",
    "\n",
    "postulantes_educacion = postulantes_educacion.sort_values(['idpostulante','Cod_edu'], ascending = False).drop_duplicates('idpostulante')"
   ]
  },
  {
   "cell_type": "code",
   "execution_count": 27,
   "metadata": {},
   "outputs": [
    {
     "data": {
      "text/html": [
       "<div>\n",
       "<style scoped>\n",
       "    .dataframe tbody tr th:only-of-type {\n",
       "        vertical-align: middle;\n",
       "    }\n",
       "\n",
       "    .dataframe tbody tr th {\n",
       "        vertical-align: top;\n",
       "    }\n",
       "\n",
       "    .dataframe thead th {\n",
       "        text-align: right;\n",
       "    }\n",
       "</style>\n",
       "<table border=\"1\" class=\"dataframe\">\n",
       "  <thead>\n",
       "    <tr style=\"text-align: right;\">\n",
       "      <th></th>\n",
       "      <th>idpostulante</th>\n",
       "      <th>educacion</th>\n",
       "      <th>estado</th>\n",
       "      <th>Cod_edu</th>\n",
       "    </tr>\n",
       "  </thead>\n",
       "  <tbody>\n",
       "    <tr>\n",
       "      <th>53092</th>\n",
       "      <td>zvxzzL6</td>\n",
       "      <td>Secundario</td>\n",
       "      <td>Graduado</td>\n",
       "      <td>0</td>\n",
       "    </tr>\n",
       "    <tr>\n",
       "      <th>118722</th>\n",
       "      <td>zvxzvD5</td>\n",
       "      <td>Terciario/Técnico</td>\n",
       "      <td>En Curso</td>\n",
       "      <td>2</td>\n",
       "    </tr>\n",
       "    <tr>\n",
       "      <th>60153</th>\n",
       "      <td>zvxzrWm</td>\n",
       "      <td>Otro</td>\n",
       "      <td>Graduado</td>\n",
       "      <td>1</td>\n",
       "    </tr>\n",
       "    <tr>\n",
       "      <th>50863</th>\n",
       "      <td>zvxzmED</td>\n",
       "      <td>Secundario</td>\n",
       "      <td>Graduado</td>\n",
       "      <td>0</td>\n",
       "    </tr>\n",
       "    <tr>\n",
       "      <th>211836</th>\n",
       "      <td>zvxzjoK</td>\n",
       "      <td>Terciario/Técnico</td>\n",
       "      <td>En Curso</td>\n",
       "      <td>2</td>\n",
       "    </tr>\n",
       "  </tbody>\n",
       "</table>\n",
       "</div>"
      ],
      "text/plain": [
       "       idpostulante          educacion    estado  Cod_edu\n",
       "53092       zvxzzL6         Secundario  Graduado        0\n",
       "118722      zvxzvD5  Terciario/Técnico  En Curso        2\n",
       "60153       zvxzrWm               Otro  Graduado        1\n",
       "50863       zvxzmED         Secundario  Graduado        0\n",
       "211836      zvxzjoK  Terciario/Técnico  En Curso        2"
      ]
     },
     "execution_count": 27,
     "metadata": {},
     "output_type": "execute_result"
    }
   ],
   "source": [
    "postulantes_educacion.head()"
   ]
  },
  {
   "cell_type": "code",
   "execution_count": 30,
   "metadata": {},
   "outputs": [
    {
     "name": "stderr",
     "output_type": "stream",
     "text": [
      "C:\\Users\\Mariano\\Anaconda2\\lib\\site-packages\\ipykernel_launcher.py:3: SettingWithCopyWarning: \n",
      "A value is trying to be set on a copy of a slice from a DataFrame.\n",
      "Try using .loc[row_indexer,col_indexer] = value instead\n",
      "\n",
      "See the caveats in the documentation: http://pandas.pydata.org/pandas-docs/stable/indexing.html#indexing-view-versus-copy\n",
      "  This is separate from the ipykernel package so we can avoid doing imports until\n"
     ]
    }
   ],
   "source": [
    "#Convierto la columna fechanacimiento a formato datetime. \n",
    "\n",
    "postulantes_genero_y_edad['fechanacimiento'] = pd.to_datetime(postulantes_genero_y_edad['fechanacimiento'], errors='coerce')"
   ]
  },
  {
   "cell_type": "code",
   "execution_count": 32,
   "metadata": {
    "scrolled": true
   },
   "outputs": [
    {
     "name": "stderr",
     "output_type": "stream",
     "text": [
      "C:\\Users\\Mariano\\Anaconda2\\lib\\site-packages\\ipykernel_launcher.py:3: SettingWithCopyWarning: \n",
      "A value is trying to be set on a copy of a slice from a DataFrame.\n",
      "Try using .loc[row_indexer,col_indexer] = value instead\n",
      "\n",
      "See the caveats in the documentation: http://pandas.pydata.org/pandas-docs/stable/indexing.html#indexing-view-versus-copy\n",
      "  This is separate from the ipykernel package so we can avoid doing imports until\n",
      "C:\\Users\\Mariano\\Anaconda2\\lib\\site-packages\\ipykernel_launcher.py:4: SettingWithCopyWarning: \n",
      "A value is trying to be set on a copy of a slice from a DataFrame.\n",
      "Try using .loc[row_indexer,col_indexer] = value instead\n",
      "\n",
      "See the caveats in the documentation: http://pandas.pydata.org/pandas-docs/stable/indexing.html#indexing-view-versus-copy\n",
      "  after removing the cwd from sys.path.\n",
      "C:\\Users\\Mariano\\Anaconda2\\lib\\site-packages\\ipykernel_launcher.py:5: SettingWithCopyWarning: \n",
      "A value is trying to be set on a copy of a slice from a DataFrame.\n",
      "Try using .loc[row_indexer,col_indexer] = value instead\n",
      "\n",
      "See the caveats in the documentation: http://pandas.pydata.org/pandas-docs/stable/indexing.html#indexing-view-versus-copy\n",
      "  \"\"\"\n"
     ]
    },
    {
     "data": {
      "text/html": [
       "<div>\n",
       "<style scoped>\n",
       "    .dataframe tbody tr th:only-of-type {\n",
       "        vertical-align: middle;\n",
       "    }\n",
       "\n",
       "    .dataframe tbody tr th {\n",
       "        vertical-align: top;\n",
       "    }\n",
       "\n",
       "    .dataframe thead th {\n",
       "        text-align: right;\n",
       "    }\n",
       "</style>\n",
       "<table border=\"1\" class=\"dataframe\">\n",
       "  <thead>\n",
       "    <tr style=\"text-align: right;\">\n",
       "      <th></th>\n",
       "      <th>idpostulante</th>\n",
       "      <th>fechanacimiento</th>\n",
       "      <th>sexo</th>\n",
       "      <th>edad</th>\n",
       "    </tr>\n",
       "  </thead>\n",
       "  <tbody>\n",
       "    <tr>\n",
       "      <th>0</th>\n",
       "      <td>6MM</td>\n",
       "      <td>1985-01-01</td>\n",
       "      <td>MASC</td>\n",
       "      <td>33</td>\n",
       "    </tr>\n",
       "    <tr>\n",
       "      <th>1</th>\n",
       "      <td>ZX1</td>\n",
       "      <td>NaT</td>\n",
       "      <td>NO_DECLARA</td>\n",
       "      <td>0</td>\n",
       "    </tr>\n",
       "    <tr>\n",
       "      <th>2</th>\n",
       "      <td>YZP</td>\n",
       "      <td>1961-05-01</td>\n",
       "      <td>MASC</td>\n",
       "      <td>57</td>\n",
       "    </tr>\n",
       "    <tr>\n",
       "      <th>3</th>\n",
       "      <td>ebE</td>\n",
       "      <td>1952-07-07</td>\n",
       "      <td>MASC</td>\n",
       "      <td>65</td>\n",
       "    </tr>\n",
       "    <tr>\n",
       "      <th>4</th>\n",
       "      <td>N1x</td>\n",
       "      <td>NaT</td>\n",
       "      <td>NO_DECLARA</td>\n",
       "      <td>0</td>\n",
       "    </tr>\n",
       "    <tr>\n",
       "      <th>5</th>\n",
       "      <td>8mW</td>\n",
       "      <td>NaT</td>\n",
       "      <td>NO_DECLARA</td>\n",
       "      <td>0</td>\n",
       "    </tr>\n",
       "    <tr>\n",
       "      <th>6</th>\n",
       "      <td>52aw</td>\n",
       "      <td>NaT</td>\n",
       "      <td>NO_DECLARA</td>\n",
       "      <td>0</td>\n",
       "    </tr>\n",
       "    <tr>\n",
       "      <th>7</th>\n",
       "      <td>NAjM</td>\n",
       "      <td>1962-06-09</td>\n",
       "      <td>FEM</td>\n",
       "      <td>56</td>\n",
       "    </tr>\n",
       "    <tr>\n",
       "      <th>8</th>\n",
       "      <td>a6OE</td>\n",
       "      <td>NaT</td>\n",
       "      <td>NO_DECLARA</td>\n",
       "      <td>0</td>\n",
       "    </tr>\n",
       "    <tr>\n",
       "      <th>9</th>\n",
       "      <td>ZjlZ</td>\n",
       "      <td>1970-01-25</td>\n",
       "      <td>MASC</td>\n",
       "      <td>48</td>\n",
       "    </tr>\n",
       "  </tbody>\n",
       "</table>\n",
       "</div>"
      ],
      "text/plain": [
       "  idpostulante fechanacimiento        sexo  edad\n",
       "0          6MM      1985-01-01        MASC    33\n",
       "1          ZX1             NaT  NO_DECLARA     0\n",
       "2          YZP      1961-05-01        MASC    57\n",
       "3          ebE      1952-07-07        MASC    65\n",
       "4          N1x             NaT  NO_DECLARA     0\n",
       "5          8mW             NaT  NO_DECLARA     0\n",
       "6         52aw             NaT  NO_DECLARA     0\n",
       "7         NAjM      1962-06-09         FEM    56\n",
       "8         a6OE             NaT  NO_DECLARA     0\n",
       "9         ZjlZ      1970-01-25        MASC    48"
      ]
     },
     "execution_count": 32,
     "metadata": {},
     "output_type": "execute_result"
    }
   ],
   "source": [
    "#Vamos ahora a agregar una columna adicional al dataframe, de modo que podamos observar la edad de cada persona\n",
    "\n",
    "postulantes_genero_y_edad['edad'] = ((pd.datetime.today() - postulantes_genero_y_edad['fechanacimiento']).dt.days/365)\n",
    "postulantes_genero_y_edad['edad'] = postulantes_genero_y_edad['edad'].fillna(0)\n",
    "postulantes_genero_y_edad['edad'] = postulantes_genero_y_edad['edad'].astype(int)\n",
    "postulantes_genero_y_edad.head(10)"
   ]
  },
  {
   "cell_type": "code",
   "execution_count": 33,
   "metadata": {
    "scrolled": true
   },
   "outputs": [
    {
     "data": {
      "text/html": [
       "<div>\n",
       "<style scoped>\n",
       "    .dataframe tbody tr th:only-of-type {\n",
       "        vertical-align: middle;\n",
       "    }\n",
       "\n",
       "    .dataframe tbody tr th {\n",
       "        vertical-align: top;\n",
       "    }\n",
       "\n",
       "    .dataframe thead th {\n",
       "        text-align: right;\n",
       "    }\n",
       "</style>\n",
       "<table border=\"1\" class=\"dataframe\">\n",
       "  <thead>\n",
       "    <tr style=\"text-align: right;\">\n",
       "      <th></th>\n",
       "      <th>idpostulante</th>\n",
       "      <th>fechanacimiento</th>\n",
       "      <th>sexo</th>\n",
       "      <th>edad</th>\n",
       "    </tr>\n",
       "  </thead>\n",
       "  <tbody>\n",
       "    <tr>\n",
       "      <th>232070</th>\n",
       "      <td>EzeN2Q4</td>\n",
       "      <td>2000-02-29</td>\n",
       "      <td>FEM</td>\n",
       "      <td>18</td>\n",
       "    </tr>\n",
       "    <tr>\n",
       "      <th>213258</th>\n",
       "      <td>96XkKlw</td>\n",
       "      <td>2000-02-29</td>\n",
       "      <td>FEM</td>\n",
       "      <td>18</td>\n",
       "    </tr>\n",
       "    <tr>\n",
       "      <th>297009</th>\n",
       "      <td>JBraa0E</td>\n",
       "      <td>2000-02-29</td>\n",
       "      <td>MASC</td>\n",
       "      <td>18</td>\n",
       "    </tr>\n",
       "    <tr>\n",
       "      <th>259430</th>\n",
       "      <td>ekOwAWW</td>\n",
       "      <td>2000-02-29</td>\n",
       "      <td>FEM</td>\n",
       "      <td>18</td>\n",
       "    </tr>\n",
       "    <tr>\n",
       "      <th>13782</th>\n",
       "      <td>VNr1dej</td>\n",
       "      <td>2000-02-29</td>\n",
       "      <td>MASC</td>\n",
       "      <td>18</td>\n",
       "    </tr>\n",
       "    <tr>\n",
       "      <th>176574</th>\n",
       "      <td>1QP82xR</td>\n",
       "      <td>2000-02-29</td>\n",
       "      <td>FEM</td>\n",
       "      <td>18</td>\n",
       "    </tr>\n",
       "    <tr>\n",
       "      <th>165756</th>\n",
       "      <td>Yj5p1GX</td>\n",
       "      <td>2000-02-29</td>\n",
       "      <td>MASC</td>\n",
       "      <td>18</td>\n",
       "    </tr>\n",
       "    <tr>\n",
       "      <th>186798</th>\n",
       "      <td>Bm5dkzR</td>\n",
       "      <td>2000-02-29</td>\n",
       "      <td>MASC</td>\n",
       "      <td>18</td>\n",
       "    </tr>\n",
       "    <tr>\n",
       "      <th>194211</th>\n",
       "      <td>3NP3dAJ</td>\n",
       "      <td>2000-02-29</td>\n",
       "      <td>FEM</td>\n",
       "      <td>18</td>\n",
       "    </tr>\n",
       "    <tr>\n",
       "      <th>197120</th>\n",
       "      <td>6rP38R3</td>\n",
       "      <td>2000-02-29</td>\n",
       "      <td>FEM</td>\n",
       "      <td>18</td>\n",
       "    </tr>\n",
       "  </tbody>\n",
       "</table>\n",
       "</div>"
      ],
      "text/plain": [
       "       idpostulante fechanacimiento  sexo  edad\n",
       "232070      EzeN2Q4      2000-02-29   FEM    18\n",
       "213258      96XkKlw      2000-02-29   FEM    18\n",
       "297009      JBraa0E      2000-02-29  MASC    18\n",
       "259430      ekOwAWW      2000-02-29   FEM    18\n",
       "13782       VNr1dej      2000-02-29  MASC    18\n",
       "176574      1QP82xR      2000-02-29   FEM    18\n",
       "165756      Yj5p1GX      2000-02-29  MASC    18\n",
       "186798      Bm5dkzR      2000-02-29  MASC    18\n",
       "194211      3NP3dAJ      2000-02-29   FEM    18\n",
       "197120      6rP38R3      2000-02-29   FEM    18"
      ]
     },
     "execution_count": 33,
     "metadata": {},
     "output_type": "execute_result"
    }
   ],
   "source": [
    "#Reviso la edad de las personas que cumplen años el 29/02\n",
    "\n",
    "postulantes_nacidos_en_febrero = postulantes_genero_y_edad.loc[postulantes_genero_y_edad['fechanacimiento'].dt.month == 2]\n",
    "postulantes_nacidos_en_febrero.loc[postulantes_nacidos_en_febrero['fechanacimiento'].dt.day == 29].sort_values('fechanacimiento',ascending = False).head(10)"
   ]
  },
  {
   "cell_type": "code",
   "execution_count": 34,
   "metadata": {},
   "outputs": [
    {
     "data": {
      "text/html": [
       "<div>\n",
       "<style scoped>\n",
       "    .dataframe tbody tr th:only-of-type {\n",
       "        vertical-align: middle;\n",
       "    }\n",
       "\n",
       "    .dataframe tbody tr th {\n",
       "        vertical-align: top;\n",
       "    }\n",
       "\n",
       "    .dataframe thead th {\n",
       "        text-align: right;\n",
       "    }\n",
       "</style>\n",
       "<table border=\"1\" class=\"dataframe\">\n",
       "  <thead>\n",
       "    <tr style=\"text-align: right;\">\n",
       "      <th></th>\n",
       "      <th>idpostulante</th>\n",
       "      <th>sexo</th>\n",
       "      <th>edad</th>\n",
       "      <th>educacion</th>\n",
       "      <th>estado</th>\n",
       "    </tr>\n",
       "  </thead>\n",
       "  <tbody>\n",
       "    <tr>\n",
       "      <th>0</th>\n",
       "      <td>6MM</td>\n",
       "      <td>MASC</td>\n",
       "      <td>33</td>\n",
       "      <td>Ninguna</td>\n",
       "      <td>NaN</td>\n",
       "    </tr>\n",
       "    <tr>\n",
       "      <th>1</th>\n",
       "      <td>ZX1</td>\n",
       "      <td>NO_DECLARA</td>\n",
       "      <td>0</td>\n",
       "      <td>Ninguna</td>\n",
       "      <td>NaN</td>\n",
       "    </tr>\n",
       "    <tr>\n",
       "      <th>2</th>\n",
       "      <td>YZP</td>\n",
       "      <td>MASC</td>\n",
       "      <td>57</td>\n",
       "      <td>Master</td>\n",
       "      <td>En Curso</td>\n",
       "    </tr>\n",
       "    <tr>\n",
       "      <th>3</th>\n",
       "      <td>ebE</td>\n",
       "      <td>MASC</td>\n",
       "      <td>65</td>\n",
       "      <td>Universitario</td>\n",
       "      <td>Graduado</td>\n",
       "    </tr>\n",
       "    <tr>\n",
       "      <th>4</th>\n",
       "      <td>N1x</td>\n",
       "      <td>NO_DECLARA</td>\n",
       "      <td>0</td>\n",
       "      <td>Ninguna</td>\n",
       "      <td>NaN</td>\n",
       "    </tr>\n",
       "    <tr>\n",
       "      <th>5</th>\n",
       "      <td>8mW</td>\n",
       "      <td>NO_DECLARA</td>\n",
       "      <td>0</td>\n",
       "      <td>Ninguna</td>\n",
       "      <td>NaN</td>\n",
       "    </tr>\n",
       "    <tr>\n",
       "      <th>6</th>\n",
       "      <td>52aw</td>\n",
       "      <td>NO_DECLARA</td>\n",
       "      <td>0</td>\n",
       "      <td>Ninguna</td>\n",
       "      <td>NaN</td>\n",
       "    </tr>\n",
       "    <tr>\n",
       "      <th>7</th>\n",
       "      <td>NAjM</td>\n",
       "      <td>FEM</td>\n",
       "      <td>56</td>\n",
       "      <td>Ninguna</td>\n",
       "      <td>NaN</td>\n",
       "    </tr>\n",
       "    <tr>\n",
       "      <th>8</th>\n",
       "      <td>a6OE</td>\n",
       "      <td>NO_DECLARA</td>\n",
       "      <td>0</td>\n",
       "      <td>Ninguna</td>\n",
       "      <td>NaN</td>\n",
       "    </tr>\n",
       "    <tr>\n",
       "      <th>9</th>\n",
       "      <td>ZjlZ</td>\n",
       "      <td>MASC</td>\n",
       "      <td>48</td>\n",
       "      <td>Master</td>\n",
       "      <td>En Curso</td>\n",
       "    </tr>\n",
       "    <tr>\n",
       "      <th>10</th>\n",
       "      <td>aEWON</td>\n",
       "      <td>FEM</td>\n",
       "      <td>50</td>\n",
       "      <td>Ninguna</td>\n",
       "      <td>NaN</td>\n",
       "    </tr>\n",
       "    <tr>\n",
       "      <th>11</th>\n",
       "      <td>aEW8J</td>\n",
       "      <td>FEM</td>\n",
       "      <td>53</td>\n",
       "      <td>Universitario</td>\n",
       "      <td>En Curso</td>\n",
       "    </tr>\n",
       "    <tr>\n",
       "      <th>12</th>\n",
       "      <td>8QGRj</td>\n",
       "      <td>FEM</td>\n",
       "      <td>37</td>\n",
       "      <td>Universitario</td>\n",
       "      <td>En Curso</td>\n",
       "    </tr>\n",
       "    <tr>\n",
       "      <th>13</th>\n",
       "      <td>EDOlOJ</td>\n",
       "      <td>MASC</td>\n",
       "      <td>43</td>\n",
       "      <td>Universitario</td>\n",
       "      <td>Graduado</td>\n",
       "    </tr>\n",
       "    <tr>\n",
       "      <th>14</th>\n",
       "      <td>6kBZLl</td>\n",
       "      <td>MASC</td>\n",
       "      <td>39</td>\n",
       "      <td>Universitario</td>\n",
       "      <td>Graduado</td>\n",
       "    </tr>\n",
       "    <tr>\n",
       "      <th>15</th>\n",
       "      <td>Zjde31</td>\n",
       "      <td>MASC</td>\n",
       "      <td>54</td>\n",
       "      <td>Universitario</td>\n",
       "      <td>Graduado</td>\n",
       "    </tr>\n",
       "    <tr>\n",
       "      <th>16</th>\n",
       "      <td>8wKqoM</td>\n",
       "      <td>FEM</td>\n",
       "      <td>40</td>\n",
       "      <td>Universitario</td>\n",
       "      <td>Graduado</td>\n",
       "    </tr>\n",
       "    <tr>\n",
       "      <th>17</th>\n",
       "      <td>eRYllW</td>\n",
       "      <td>NO_DECLARA</td>\n",
       "      <td>0</td>\n",
       "      <td>Ninguna</td>\n",
       "      <td>NaN</td>\n",
       "    </tr>\n",
       "    <tr>\n",
       "      <th>18</th>\n",
       "      <td>52KB1p</td>\n",
       "      <td>NO_DECLARA</td>\n",
       "      <td>0</td>\n",
       "      <td>Ninguna</td>\n",
       "      <td>NaN</td>\n",
       "    </tr>\n",
       "    <tr>\n",
       "      <th>19</th>\n",
       "      <td>NA8o45</td>\n",
       "      <td>MASC</td>\n",
       "      <td>43</td>\n",
       "      <td>Universitario</td>\n",
       "      <td>Graduado</td>\n",
       "    </tr>\n",
       "    <tr>\n",
       "      <th>20</th>\n",
       "      <td>eRYl5r</td>\n",
       "      <td>FEM</td>\n",
       "      <td>42</td>\n",
       "      <td>Universitario</td>\n",
       "      <td>En Curso</td>\n",
       "    </tr>\n",
       "    <tr>\n",
       "      <th>21</th>\n",
       "      <td>8wKOlR</td>\n",
       "      <td>MASC</td>\n",
       "      <td>40</td>\n",
       "      <td>Universitario</td>\n",
       "      <td>Abandonado</td>\n",
       "    </tr>\n",
       "    <tr>\n",
       "      <th>22</th>\n",
       "      <td>6kKlQv</td>\n",
       "      <td>MASC</td>\n",
       "      <td>39</td>\n",
       "      <td>Universitario</td>\n",
       "      <td>Graduado</td>\n",
       "    </tr>\n",
       "    <tr>\n",
       "      <th>23</th>\n",
       "      <td>Y0mpjq</td>\n",
       "      <td>NO_DECLARA</td>\n",
       "      <td>0</td>\n",
       "      <td>Terciario/Técnico</td>\n",
       "      <td>Graduado</td>\n",
       "    </tr>\n",
       "    <tr>\n",
       "      <th>24</th>\n",
       "      <td>1lKNa3</td>\n",
       "      <td>MASC</td>\n",
       "      <td>42</td>\n",
       "      <td>Universitario</td>\n",
       "      <td>En Curso</td>\n",
       "    </tr>\n",
       "    <tr>\n",
       "      <th>25</th>\n",
       "      <td>52K1qv</td>\n",
       "      <td>MASC</td>\n",
       "      <td>41</td>\n",
       "      <td>Universitario</td>\n",
       "      <td>Graduado</td>\n",
       "    </tr>\n",
       "    <tr>\n",
       "      <th>26</th>\n",
       "      <td>a61YjW</td>\n",
       "      <td>NO_DECLARA</td>\n",
       "      <td>0</td>\n",
       "      <td>Ninguna</td>\n",
       "      <td>NaN</td>\n",
       "    </tr>\n",
       "    <tr>\n",
       "      <th>27</th>\n",
       "      <td>Y0mpRZ</td>\n",
       "      <td>NO_DECLARA</td>\n",
       "      <td>0</td>\n",
       "      <td>Ninguna</td>\n",
       "      <td>NaN</td>\n",
       "    </tr>\n",
       "    <tr>\n",
       "      <th>28</th>\n",
       "      <td>1lKN2O</td>\n",
       "      <td>FEM</td>\n",
       "      <td>43</td>\n",
       "      <td>Universitario</td>\n",
       "      <td>Graduado</td>\n",
       "    </tr>\n",
       "    <tr>\n",
       "      <th>29</th>\n",
       "      <td>52K16q</td>\n",
       "      <td>MASC</td>\n",
       "      <td>42</td>\n",
       "      <td>Universitario</td>\n",
       "      <td>Graduado</td>\n",
       "    </tr>\n",
       "    <tr>\n",
       "      <th>...</th>\n",
       "      <td>...</td>\n",
       "      <td>...</td>\n",
       "      <td>...</td>\n",
       "      <td>...</td>\n",
       "      <td>...</td>\n",
       "    </tr>\n",
       "    <tr>\n",
       "      <th>504377</th>\n",
       "      <td>OqrlEVx</td>\n",
       "      <td>MASC</td>\n",
       "      <td>19</td>\n",
       "      <td>Ninguna</td>\n",
       "      <td>NaN</td>\n",
       "    </tr>\n",
       "    <tr>\n",
       "      <th>504378</th>\n",
       "      <td>PmGP9eY</td>\n",
       "      <td>FEM</td>\n",
       "      <td>22</td>\n",
       "      <td>Secundario</td>\n",
       "      <td>En Curso</td>\n",
       "    </tr>\n",
       "    <tr>\n",
       "      <th>504379</th>\n",
       "      <td>QNrBomV</td>\n",
       "      <td>FEM</td>\n",
       "      <td>22</td>\n",
       "      <td>Secundario</td>\n",
       "      <td>Graduado</td>\n",
       "    </tr>\n",
       "    <tr>\n",
       "      <th>504380</th>\n",
       "      <td>vVja40G</td>\n",
       "      <td>MASC</td>\n",
       "      <td>23</td>\n",
       "      <td>Terciario/Técnico</td>\n",
       "      <td>En Curso</td>\n",
       "    </tr>\n",
       "    <tr>\n",
       "      <th>504381</th>\n",
       "      <td>Nzr1JG5</td>\n",
       "      <td>FEM</td>\n",
       "      <td>21</td>\n",
       "      <td>Secundario</td>\n",
       "      <td>Graduado</td>\n",
       "    </tr>\n",
       "    <tr>\n",
       "      <th>504382</th>\n",
       "      <td>3NP0EJQ</td>\n",
       "      <td>MASC</td>\n",
       "      <td>22</td>\n",
       "      <td>Universitario</td>\n",
       "      <td>En Curso</td>\n",
       "    </tr>\n",
       "    <tr>\n",
       "      <th>504383</th>\n",
       "      <td>6rPEvoL</td>\n",
       "      <td>NO_DECLARA</td>\n",
       "      <td>0</td>\n",
       "      <td>Ninguna</td>\n",
       "      <td>NaN</td>\n",
       "    </tr>\n",
       "    <tr>\n",
       "      <th>504384</th>\n",
       "      <td>3NP0EOQ</td>\n",
       "      <td>FEM</td>\n",
       "      <td>19</td>\n",
       "      <td>Universitario</td>\n",
       "      <td>En Curso</td>\n",
       "    </tr>\n",
       "    <tr>\n",
       "      <th>504385</th>\n",
       "      <td>GNZqAKN</td>\n",
       "      <td>MASC</td>\n",
       "      <td>25</td>\n",
       "      <td>Secundario</td>\n",
       "      <td>Graduado</td>\n",
       "    </tr>\n",
       "    <tr>\n",
       "      <th>504386</th>\n",
       "      <td>akjVlvJ</td>\n",
       "      <td>FEM</td>\n",
       "      <td>26</td>\n",
       "      <td>Universitario</td>\n",
       "      <td>En Curso</td>\n",
       "    </tr>\n",
       "    <tr>\n",
       "      <th>504387</th>\n",
       "      <td>jkjqJ4e</td>\n",
       "      <td>NO_DECLARA</td>\n",
       "      <td>0</td>\n",
       "      <td>Terciario/Técnico</td>\n",
       "      <td>En Curso</td>\n",
       "    </tr>\n",
       "    <tr>\n",
       "      <th>504388</th>\n",
       "      <td>GNZqAbb</td>\n",
       "      <td>MASC</td>\n",
       "      <td>18</td>\n",
       "      <td>Universitario</td>\n",
       "      <td>En Curso</td>\n",
       "    </tr>\n",
       "    <tr>\n",
       "      <th>504389</th>\n",
       "      <td>rmdlBJ9</td>\n",
       "      <td>MASC</td>\n",
       "      <td>23</td>\n",
       "      <td>Universitario</td>\n",
       "      <td>En Curso</td>\n",
       "    </tr>\n",
       "    <tr>\n",
       "      <th>504390</th>\n",
       "      <td>GNZqARp</td>\n",
       "      <td>MASC</td>\n",
       "      <td>36</td>\n",
       "      <td>Terciario/Técnico</td>\n",
       "      <td>Abandonado</td>\n",
       "    </tr>\n",
       "    <tr>\n",
       "      <th>504391</th>\n",
       "      <td>A3X4Em6</td>\n",
       "      <td>FEM</td>\n",
       "      <td>19</td>\n",
       "      <td>Secundario</td>\n",
       "      <td>En Curso</td>\n",
       "    </tr>\n",
       "    <tr>\n",
       "      <th>504392</th>\n",
       "      <td>QNrBoJz</td>\n",
       "      <td>FEM</td>\n",
       "      <td>21</td>\n",
       "      <td>Secundario</td>\n",
       "      <td>Graduado</td>\n",
       "    </tr>\n",
       "    <tr>\n",
       "      <th>504393</th>\n",
       "      <td>akjVl35</td>\n",
       "      <td>FEM</td>\n",
       "      <td>27</td>\n",
       "      <td>Ninguna</td>\n",
       "      <td>NaN</td>\n",
       "    </tr>\n",
       "    <tr>\n",
       "      <th>504394</th>\n",
       "      <td>6rPEvwv</td>\n",
       "      <td>MASC</td>\n",
       "      <td>20</td>\n",
       "      <td>Universitario</td>\n",
       "      <td>En Curso</td>\n",
       "    </tr>\n",
       "    <tr>\n",
       "      <th>504395</th>\n",
       "      <td>vVja45X</td>\n",
       "      <td>MASC</td>\n",
       "      <td>22</td>\n",
       "      <td>Secundario</td>\n",
       "      <td>Graduado</td>\n",
       "    </tr>\n",
       "    <tr>\n",
       "      <th>504396</th>\n",
       "      <td>xkd65wV</td>\n",
       "      <td>FEM</td>\n",
       "      <td>29</td>\n",
       "      <td>Universitario</td>\n",
       "      <td>En Curso</td>\n",
       "    </tr>\n",
       "    <tr>\n",
       "      <th>504397</th>\n",
       "      <td>X95JX3Q</td>\n",
       "      <td>NO_DECLARA</td>\n",
       "      <td>0</td>\n",
       "      <td>Ninguna</td>\n",
       "      <td>NaN</td>\n",
       "    </tr>\n",
       "    <tr>\n",
       "      <th>504398</th>\n",
       "      <td>JBrNMNk</td>\n",
       "      <td>MASC</td>\n",
       "      <td>21</td>\n",
       "      <td>Ninguna</td>\n",
       "      <td>NaN</td>\n",
       "    </tr>\n",
       "    <tr>\n",
       "      <th>504399</th>\n",
       "      <td>Ezem8m6</td>\n",
       "      <td>MASC</td>\n",
       "      <td>25</td>\n",
       "      <td>Secundario</td>\n",
       "      <td>Graduado</td>\n",
       "    </tr>\n",
       "    <tr>\n",
       "      <th>504400</th>\n",
       "      <td>A3X4E41</td>\n",
       "      <td>FEM</td>\n",
       "      <td>23</td>\n",
       "      <td>Secundario</td>\n",
       "      <td>Graduado</td>\n",
       "    </tr>\n",
       "    <tr>\n",
       "      <th>504401</th>\n",
       "      <td>PmGP9vJ</td>\n",
       "      <td>FEM</td>\n",
       "      <td>25</td>\n",
       "      <td>Universitario</td>\n",
       "      <td>En Curso</td>\n",
       "    </tr>\n",
       "    <tr>\n",
       "      <th>504402</th>\n",
       "      <td>GNZqAaE</td>\n",
       "      <td>FEM</td>\n",
       "      <td>20</td>\n",
       "      <td>Universitario</td>\n",
       "      <td>En Curso</td>\n",
       "    </tr>\n",
       "    <tr>\n",
       "      <th>504403</th>\n",
       "      <td>vVja4x5</td>\n",
       "      <td>MASC</td>\n",
       "      <td>20</td>\n",
       "      <td>Secundario</td>\n",
       "      <td>Graduado</td>\n",
       "    </tr>\n",
       "    <tr>\n",
       "      <th>504404</th>\n",
       "      <td>1QPMbX3</td>\n",
       "      <td>MASC</td>\n",
       "      <td>30</td>\n",
       "      <td>Universitario</td>\n",
       "      <td>Abandonado</td>\n",
       "    </tr>\n",
       "    <tr>\n",
       "      <th>504405</th>\n",
       "      <td>0zPa0eq</td>\n",
       "      <td>FEM</td>\n",
       "      <td>20</td>\n",
       "      <td>Terciario/Técnico</td>\n",
       "      <td>En Curso</td>\n",
       "    </tr>\n",
       "    <tr>\n",
       "      <th>504406</th>\n",
       "      <td>2zP6J9V</td>\n",
       "      <td>NO_DECLARA</td>\n",
       "      <td>0</td>\n",
       "      <td>Ninguna</td>\n",
       "      <td>NaN</td>\n",
       "    </tr>\n",
       "  </tbody>\n",
       "</table>\n",
       "<p>504407 rows × 5 columns</p>\n",
       "</div>"
      ],
      "text/plain": [
       "       idpostulante        sexo  edad          educacion      estado\n",
       "0               6MM        MASC    33            Ninguna         NaN\n",
       "1               ZX1  NO_DECLARA     0            Ninguna         NaN\n",
       "2               YZP        MASC    57             Master    En Curso\n",
       "3               ebE        MASC    65      Universitario    Graduado\n",
       "4               N1x  NO_DECLARA     0            Ninguna         NaN\n",
       "5               8mW  NO_DECLARA     0            Ninguna         NaN\n",
       "6              52aw  NO_DECLARA     0            Ninguna         NaN\n",
       "7              NAjM         FEM    56            Ninguna         NaN\n",
       "8              a6OE  NO_DECLARA     0            Ninguna         NaN\n",
       "9              ZjlZ        MASC    48             Master    En Curso\n",
       "10            aEWON         FEM    50            Ninguna         NaN\n",
       "11            aEW8J         FEM    53      Universitario    En Curso\n",
       "12            8QGRj         FEM    37      Universitario    En Curso\n",
       "13           EDOlOJ        MASC    43      Universitario    Graduado\n",
       "14           6kBZLl        MASC    39      Universitario    Graduado\n",
       "15           Zjde31        MASC    54      Universitario    Graduado\n",
       "16           8wKqoM         FEM    40      Universitario    Graduado\n",
       "17           eRYllW  NO_DECLARA     0            Ninguna         NaN\n",
       "18           52KB1p  NO_DECLARA     0            Ninguna         NaN\n",
       "19           NA8o45        MASC    43      Universitario    Graduado\n",
       "20           eRYl5r         FEM    42      Universitario    En Curso\n",
       "21           8wKOlR        MASC    40      Universitario  Abandonado\n",
       "22           6kKlQv        MASC    39      Universitario    Graduado\n",
       "23           Y0mpjq  NO_DECLARA     0  Terciario/Técnico    Graduado\n",
       "24           1lKNa3        MASC    42      Universitario    En Curso\n",
       "25           52K1qv        MASC    41      Universitario    Graduado\n",
       "26           a61YjW  NO_DECLARA     0            Ninguna         NaN\n",
       "27           Y0mpRZ  NO_DECLARA     0            Ninguna         NaN\n",
       "28           1lKN2O         FEM    43      Universitario    Graduado\n",
       "29           52K16q        MASC    42      Universitario    Graduado\n",
       "...             ...         ...   ...                ...         ...\n",
       "504377      OqrlEVx        MASC    19            Ninguna         NaN\n",
       "504378      PmGP9eY         FEM    22         Secundario    En Curso\n",
       "504379      QNrBomV         FEM    22         Secundario    Graduado\n",
       "504380      vVja40G        MASC    23  Terciario/Técnico    En Curso\n",
       "504381      Nzr1JG5         FEM    21         Secundario    Graduado\n",
       "504382      3NP0EJQ        MASC    22      Universitario    En Curso\n",
       "504383      6rPEvoL  NO_DECLARA     0            Ninguna         NaN\n",
       "504384      3NP0EOQ         FEM    19      Universitario    En Curso\n",
       "504385      GNZqAKN        MASC    25         Secundario    Graduado\n",
       "504386      akjVlvJ         FEM    26      Universitario    En Curso\n",
       "504387      jkjqJ4e  NO_DECLARA     0  Terciario/Técnico    En Curso\n",
       "504388      GNZqAbb        MASC    18      Universitario    En Curso\n",
       "504389      rmdlBJ9        MASC    23      Universitario    En Curso\n",
       "504390      GNZqARp        MASC    36  Terciario/Técnico  Abandonado\n",
       "504391      A3X4Em6         FEM    19         Secundario    En Curso\n",
       "504392      QNrBoJz         FEM    21         Secundario    Graduado\n",
       "504393      akjVl35         FEM    27            Ninguna         NaN\n",
       "504394      6rPEvwv        MASC    20      Universitario    En Curso\n",
       "504395      vVja45X        MASC    22         Secundario    Graduado\n",
       "504396      xkd65wV         FEM    29      Universitario    En Curso\n",
       "504397      X95JX3Q  NO_DECLARA     0            Ninguna         NaN\n",
       "504398      JBrNMNk        MASC    21            Ninguna         NaN\n",
       "504399      Ezem8m6        MASC    25         Secundario    Graduado\n",
       "504400      A3X4E41         FEM    23         Secundario    Graduado\n",
       "504401      PmGP9vJ         FEM    25      Universitario    En Curso\n",
       "504402      GNZqAaE         FEM    20      Universitario    En Curso\n",
       "504403      vVja4x5        MASC    20         Secundario    Graduado\n",
       "504404      1QPMbX3        MASC    30      Universitario  Abandonado\n",
       "504405      0zPa0eq         FEM    20  Terciario/Técnico    En Curso\n",
       "504406      2zP6J9V  NO_DECLARA     0            Ninguna         NaN\n",
       "\n",
       "[504407 rows x 5 columns]"
      ]
     },
     "execution_count": 34,
     "metadata": {},
     "output_type": "execute_result"
    }
   ],
   "source": [
    "#Merge de los datos de los postulantes\n",
    "\n",
    "postulantes = pd.merge(postulantes_genero_y_edad,postulantes_educacion,how='left',on='idpostulante')\n",
    "postulantes['educacion'] = postulantes['educacion'].fillna('Ninguna')\n",
    "postulantes = postulantes.drop(['fechanacimiento','Cod_edu'],axis=1)\n",
    "postulantes.head()"
   ]
  },
  {
   "cell_type": "code",
   "execution_count": 38,
   "metadata": {},
   "outputs": [
    {
     "data": {
      "text/plain": [
       "(504407, 5)"
      ]
     },
     "execution_count": 38,
     "metadata": {},
     "output_type": "execute_result"
    }
   ],
   "source": [
    "postulantes.drop_duplicates('idpostulante').shape"
   ]
  },
  {
   "cell_type": "markdown",
   "metadata": {},
   "source": [
    "## Vistas"
   ]
  },
  {
   "cell_type": "code",
   "execution_count": null,
   "metadata": {},
   "outputs": [],
   "source": [
    "vistas = pd.read_csv('Datos/fiuba_hasta_15_abril/fiuba_3_vistas.csv')"
   ]
  },
  {
   "cell_type": "code",
   "execution_count": 29,
   "metadata": {},
   "outputs": [
    {
     "data": {
      "text/html": [
       "<div>\n",
       "<style scoped>\n",
       "    .dataframe tbody tr th:only-of-type {\n",
       "        vertical-align: middle;\n",
       "    }\n",
       "\n",
       "    .dataframe tbody tr th {\n",
       "        vertical-align: top;\n",
       "    }\n",
       "\n",
       "    .dataframe thead th {\n",
       "        text-align: right;\n",
       "    }\n",
       "</style>\n",
       "<table border=\"1\" class=\"dataframe\">\n",
       "  <thead>\n",
       "    <tr style=\"text-align: right;\">\n",
       "      <th></th>\n",
       "      <th>idAviso</th>\n",
       "      <th>timestamp</th>\n",
       "      <th>idpostulante</th>\n",
       "    </tr>\n",
       "  </thead>\n",
       "  <tbody>\n",
       "    <tr>\n",
       "      <th>0</th>\n",
       "      <td>1112400775</td>\n",
       "      <td>2018-04-06T01:43:47.445-0400</td>\n",
       "      <td>kPjr2K0</td>\n",
       "    </tr>\n",
       "    <tr>\n",
       "      <th>1</th>\n",
       "      <td>1112400775</td>\n",
       "      <td>2018-04-06T01:43:48.330-0400</td>\n",
       "      <td>kPjr2K0</td>\n",
       "    </tr>\n",
       "    <tr>\n",
       "      <th>2</th>\n",
       "      <td>1112426664</td>\n",
       "      <td>2018-04-06T01:43:50.042-0400</td>\n",
       "      <td>GNOwZmb</td>\n",
       "    </tr>\n",
       "    <tr>\n",
       "      <th>3</th>\n",
       "      <td>1112426664</td>\n",
       "      <td>2018-04-06T01:43:51.171-0400</td>\n",
       "      <td>GNOwZmb</td>\n",
       "    </tr>\n",
       "    <tr>\n",
       "      <th>4</th>\n",
       "      <td>1112445738</td>\n",
       "      <td>2018-04-06T01:43:46.371-0400</td>\n",
       "      <td>lDLxajz</td>\n",
       "    </tr>\n",
       "  </tbody>\n",
       "</table>\n",
       "</div>"
      ],
      "text/plain": [
       "      idAviso                     timestamp idpostulante\n",
       "0  1112400775  2018-04-06T01:43:47.445-0400      kPjr2K0\n",
       "1  1112400775  2018-04-06T01:43:48.330-0400      kPjr2K0\n",
       "2  1112426664  2018-04-06T01:43:50.042-0400      GNOwZmb\n",
       "3  1112426664  2018-04-06T01:43:51.171-0400      GNOwZmb\n",
       "4  1112445738  2018-04-06T01:43:46.371-0400      lDLxajz"
      ]
     },
     "execution_count": 29,
     "metadata": {},
     "output_type": "execute_result"
    }
   ],
   "source": [
    "#Vistazo a la estructura del dataframe\n",
    "\n",
    "vistas.head()"
   ]
  },
  {
   "cell_type": "code",
   "execution_count": 30,
   "metadata": {},
   "outputs": [
    {
     "data": {
      "text/plain": [
       "(5758686, 3)"
      ]
     },
     "execution_count": 30,
     "metadata": {},
     "output_type": "execute_result"
    }
   ],
   "source": [
    "#El dataframe posee 5758686 registros\n",
    "\n",
    "vistas.shape"
   ]
  },
  {
   "cell_type": "code",
   "execution_count": 31,
   "metadata": {},
   "outputs": [
    {
     "data": {
      "text/plain": [
       "idAviso         False\n",
       "timestamp       False\n",
       "idpostulante    False\n",
       "dtype: bool"
      ]
     },
     "execution_count": 31,
     "metadata": {},
     "output_type": "execute_result"
    }
   ],
   "source": [
    "#No tenemos registros nulos\n",
    "\n",
    "vistas.isnull().any()"
   ]
  },
  {
   "cell_type": "code",
   "execution_count": 32,
   "metadata": {},
   "outputs": [
    {
     "data": {
      "text/plain": [
       "11223"
      ]
     },
     "execution_count": 32,
     "metadata": {},
     "output_type": "execute_result"
    }
   ],
   "source": [
    "#En este dataframe tenemos 11223 avisos únicos \n",
    "\n",
    "vistas['idAviso'].value_counts().size"
   ]
  },
  {
   "cell_type": "code",
   "execution_count": 34,
   "metadata": {
    "scrolled": true
   },
   "outputs": [
    {
     "data": {
      "text/plain": [
       "272526"
      ]
     },
     "execution_count": 34,
     "metadata": {},
     "output_type": "execute_result"
    }
   ],
   "source": [
    "#Y de los postulantes del dataset, 272526 han visto al menos un aviso\n",
    "\n",
    "vistas['idpostulante'].value_counts().size"
   ]
  },
  {
   "cell_type": "code",
   "execution_count": 35,
   "metadata": {
    "scrolled": true
   },
   "outputs": [],
   "source": [
    "#Modifico el nombre de la columna timestamp y en su lugar pongo un nombre más descriptivo.>\n",
    "\n",
    "vistas = vistas.rename(columns = {'timestamp':'fechahoravisualizacion'})"
   ]
  },
  {
   "cell_type": "code",
   "execution_count": 36,
   "metadata": {
    "scrolled": true
   },
   "outputs": [
    {
     "data": {
      "text/html": [
       "<div>\n",
       "<style scoped>\n",
       "    .dataframe tbody tr th:only-of-type {\n",
       "        vertical-align: middle;\n",
       "    }\n",
       "\n",
       "    .dataframe tbody tr th {\n",
       "        vertical-align: top;\n",
       "    }\n",
       "\n",
       "    .dataframe thead th {\n",
       "        text-align: right;\n",
       "    }\n",
       "</style>\n",
       "<table border=\"1\" class=\"dataframe\">\n",
       "  <thead>\n",
       "    <tr style=\"text-align: right;\">\n",
       "      <th></th>\n",
       "      <th>idAviso</th>\n",
       "      <th>fechahoravisualizacion</th>\n",
       "      <th>idpostulante</th>\n",
       "      <th>fechavisualizacion</th>\n",
       "      <th>horavisualizacion</th>\n",
       "    </tr>\n",
       "  </thead>\n",
       "  <tbody>\n",
       "    <tr>\n",
       "      <th>1139203</th>\n",
       "      <td>1112414906</td>\n",
       "      <td>2018-03-22 22:25:05.755</td>\n",
       "      <td>8GmYkR</td>\n",
       "      <td>2018-03-22</td>\n",
       "      <td>22:25:05.755000</td>\n",
       "    </tr>\n",
       "    <tr>\n",
       "      <th>2796318</th>\n",
       "      <td>1112115684</td>\n",
       "      <td>2018-03-22 16:29:35.883</td>\n",
       "      <td>5mlDebG</td>\n",
       "      <td>2018-03-22</td>\n",
       "      <td>16:29:35.883000</td>\n",
       "    </tr>\n",
       "    <tr>\n",
       "      <th>2796319</th>\n",
       "      <td>1112417734</td>\n",
       "      <td>2018-03-22 16:29:36.751</td>\n",
       "      <td>xkv6aEK</td>\n",
       "      <td>2018-03-22</td>\n",
       "      <td>16:29:36.751000</td>\n",
       "    </tr>\n",
       "    <tr>\n",
       "      <th>2796320</th>\n",
       "      <td>1112396603</td>\n",
       "      <td>2018-03-22 16:29:41.338</td>\n",
       "      <td>EzZbro6</td>\n",
       "      <td>2018-03-22</td>\n",
       "      <td>16:29:41.338000</td>\n",
       "    </tr>\n",
       "    <tr>\n",
       "      <th>2796321</th>\n",
       "      <td>1112280484</td>\n",
       "      <td>2018-03-22 16:29:41.417</td>\n",
       "      <td>NE8vdL</td>\n",
       "      <td>2018-03-22</td>\n",
       "      <td>16:29:41.417000</td>\n",
       "    </tr>\n",
       "    <tr>\n",
       "      <th>2796322</th>\n",
       "      <td>1112371748</td>\n",
       "      <td>2018-03-22 16:29:41.689</td>\n",
       "      <td>8MZk5W3</td>\n",
       "      <td>2018-03-22</td>\n",
       "      <td>16:29:41.689000</td>\n",
       "    </tr>\n",
       "    <tr>\n",
       "      <th>2796323</th>\n",
       "      <td>1112403133</td>\n",
       "      <td>2018-03-22 16:29:41.705</td>\n",
       "      <td>8Mabwwz</td>\n",
       "      <td>2018-03-22</td>\n",
       "      <td>16:29:41.705000</td>\n",
       "    </tr>\n",
       "    <tr>\n",
       "      <th>2796317</th>\n",
       "      <td>1112353401</td>\n",
       "      <td>2018-03-22 16:29:31.254</td>\n",
       "      <td>EzeoZ2b</td>\n",
       "      <td>2018-03-22</td>\n",
       "      <td>16:29:31.254000</td>\n",
       "    </tr>\n",
       "    <tr>\n",
       "      <th>2796324</th>\n",
       "      <td>1000851124</td>\n",
       "      <td>2018-03-22 16:29:41.719</td>\n",
       "      <td>0zB8NJ1</td>\n",
       "      <td>2018-03-22</td>\n",
       "      <td>16:29:41.719000</td>\n",
       "    </tr>\n",
       "    <tr>\n",
       "      <th>2796326</th>\n",
       "      <td>1112308737</td>\n",
       "      <td>2018-03-22 16:29:44.367</td>\n",
       "      <td>DrXBrkZ</td>\n",
       "      <td>2018-03-22</td>\n",
       "      <td>16:29:44.367000</td>\n",
       "    </tr>\n",
       "  </tbody>\n",
       "</table>\n",
       "</div>"
      ],
      "text/plain": [
       "            idAviso  fechahoravisualizacion idpostulante fechavisualizacion  \\\n",
       "1139203  1112414906 2018-03-22 22:25:05.755       8GmYkR         2018-03-22   \n",
       "2796318  1112115684 2018-03-22 16:29:35.883      5mlDebG         2018-03-22   \n",
       "2796319  1112417734 2018-03-22 16:29:36.751      xkv6aEK         2018-03-22   \n",
       "2796320  1112396603 2018-03-22 16:29:41.338      EzZbro6         2018-03-22   \n",
       "2796321  1112280484 2018-03-22 16:29:41.417       NE8vdL         2018-03-22   \n",
       "2796322  1112371748 2018-03-22 16:29:41.689      8MZk5W3         2018-03-22   \n",
       "2796323  1112403133 2018-03-22 16:29:41.705      8Mabwwz         2018-03-22   \n",
       "2796317  1112353401 2018-03-22 16:29:31.254      EzeoZ2b         2018-03-22   \n",
       "2796324  1000851124 2018-03-22 16:29:41.719      0zB8NJ1         2018-03-22   \n",
       "2796326  1112308737 2018-03-22 16:29:44.367      DrXBrkZ         2018-03-22   \n",
       "\n",
       "        horavisualizacion  \n",
       "1139203   22:25:05.755000  \n",
       "2796318   16:29:35.883000  \n",
       "2796319   16:29:36.751000  \n",
       "2796320   16:29:41.338000  \n",
       "2796321   16:29:41.417000  \n",
       "2796322   16:29:41.689000  \n",
       "2796323   16:29:41.705000  \n",
       "2796317   16:29:31.254000  \n",
       "2796324   16:29:41.719000  \n",
       "2796326   16:29:44.367000  "
      ]
     },
     "execution_count": 36,
     "metadata": {},
     "output_type": "execute_result"
    }
   ],
   "source": [
    "#Ordeno la informacion sobre la fecha y hora de visualizaciones, modificando su formato y agregando columnas que me permitan\n",
    "#analizar de forma individual la fecha y la hora.\n",
    "\n",
    "vistas['fechahoravisualizacion'] = pd.to_datetime(vistas['fechahoravisualizacion'])\n",
    "vistas['fechavisualizacion'] = vistas['fechahoravisualizacion'].dt.date\n",
    "vistas['horavisualizacion'] = vistas['fechahoravisualizacion'].dt.time\n",
    "vistas.sort_values('fechavisualizacion').head(10)"
   ]
  },
  {
   "cell_type": "markdown",
   "metadata": {},
   "source": [
    "## Postulaciones"
   ]
  },
  {
   "cell_type": "code",
   "execution_count": null,
   "metadata": {},
   "outputs": [],
   "source": [
    "postulaciones = pd.read_csv('Datos/fiuba_hasta_15_abril/fiuba_4_postulaciones.csv')"
   ]
  },
  {
   "cell_type": "code",
   "execution_count": 37,
   "metadata": {},
   "outputs": [
    {
     "data": {
      "text/html": [
       "<div>\n",
       "<style scoped>\n",
       "    .dataframe tbody tr th:only-of-type {\n",
       "        vertical-align: middle;\n",
       "    }\n",
       "\n",
       "    .dataframe tbody tr th {\n",
       "        vertical-align: top;\n",
       "    }\n",
       "\n",
       "    .dataframe thead th {\n",
       "        text-align: right;\n",
       "    }\n",
       "</style>\n",
       "<table border=\"1\" class=\"dataframe\">\n",
       "  <thead>\n",
       "    <tr style=\"text-align: right;\">\n",
       "      <th></th>\n",
       "      <th>idaviso</th>\n",
       "      <th>idpostulante</th>\n",
       "      <th>fechapostulacion</th>\n",
       "    </tr>\n",
       "  </thead>\n",
       "  <tbody>\n",
       "    <tr>\n",
       "      <th>0</th>\n",
       "      <td>1112248724</td>\n",
       "      <td>NjlD</td>\n",
       "      <td>2018-01-19 07:39:16</td>\n",
       "    </tr>\n",
       "    <tr>\n",
       "      <th>1</th>\n",
       "      <td>1112286523</td>\n",
       "      <td>ZaO5</td>\n",
       "      <td>2018-01-24 15:07:39</td>\n",
       "    </tr>\n",
       "    <tr>\n",
       "      <th>2</th>\n",
       "      <td>1112272060</td>\n",
       "      <td>ZaO5</td>\n",
       "      <td>2018-01-24 15:20:10</td>\n",
       "    </tr>\n",
       "    <tr>\n",
       "      <th>3</th>\n",
       "      <td>1112288401</td>\n",
       "      <td>ZaO5</td>\n",
       "      <td>2018-01-26 08:37:04</td>\n",
       "    </tr>\n",
       "    <tr>\n",
       "      <th>4</th>\n",
       "      <td>1112300563</td>\n",
       "      <td>ZaO5</td>\n",
       "      <td>2018-01-30 13:35:48</td>\n",
       "    </tr>\n",
       "  </tbody>\n",
       "</table>\n",
       "</div>"
      ],
      "text/plain": [
       "      idaviso idpostulante     fechapostulacion\n",
       "0  1112248724         NjlD  2018-01-19 07:39:16\n",
       "1  1112286523         ZaO5  2018-01-24 15:07:39\n",
       "2  1112272060         ZaO5  2018-01-24 15:20:10\n",
       "3  1112288401         ZaO5  2018-01-26 08:37:04\n",
       "4  1112300563         ZaO5  2018-01-30 13:35:48"
      ]
     },
     "execution_count": 37,
     "metadata": {},
     "output_type": "execute_result"
    }
   ],
   "source": [
    "#Vistazo a la estructura del dataframe\n",
    "\n",
    "postulaciones.head()"
   ]
  },
  {
   "cell_type": "code",
   "execution_count": 38,
   "metadata": {},
   "outputs": [
    {
     "data": {
      "text/plain": [
       "(4909641, 3)"
      ]
     },
     "execution_count": 38,
     "metadata": {},
     "output_type": "execute_result"
    }
   ],
   "source": [
    "#Tenemos 4909641 registros\n",
    "\n",
    "postulaciones.shape"
   ]
  },
  {
   "cell_type": "code",
   "execution_count": 39,
   "metadata": {},
   "outputs": [
    {
     "data": {
      "text/plain": [
       "idaviso             False\n",
       "idpostulante        False\n",
       "fechapostulacion    False\n",
       "dtype: bool"
      ]
     },
     "execution_count": 39,
     "metadata": {},
     "output_type": "execute_result"
    }
   ],
   "source": [
    "#No hay registros nulos\n",
    "\n",
    "postulaciones.isnull().any()"
   ]
  },
  {
   "cell_type": "code",
   "execution_count": 40,
   "metadata": {},
   "outputs": [
    {
     "data": {
      "text/plain": [
       "20065"
      ]
     },
     "execution_count": 40,
     "metadata": {},
     "output_type": "execute_result"
    }
   ],
   "source": [
    "#Tenemos 20065 avisos con al menos una postulacion\n",
    "\n",
    "postulaciones['idaviso'].value_counts().size"
   ]
  },
  {
   "cell_type": "code",
   "execution_count": 41,
   "metadata": {},
   "outputs": [
    {
     "data": {
      "text/plain": [
       "238482"
      ]
     },
     "execution_count": 41,
     "metadata": {},
     "output_type": "execute_result"
    }
   ],
   "source": [
    "#Hay postulantes que no han realizado ninguna postulacion\n",
    "\n",
    "postulaciones['idpostulante'].value_counts().size"
   ]
  },
  {
   "cell_type": "code",
   "execution_count": 304,
   "metadata": {
    "scrolled": true
   },
   "outputs": [
    {
     "data": {
      "text/html": [
       "<div>\n",
       "<style scoped>\n",
       "    .dataframe tbody tr th:only-of-type {\n",
       "        vertical-align: middle;\n",
       "    }\n",
       "\n",
       "    .dataframe tbody tr th {\n",
       "        vertical-align: top;\n",
       "    }\n",
       "\n",
       "    .dataframe thead th {\n",
       "        text-align: right;\n",
       "    }\n",
       "</style>\n",
       "<table border=\"1\" class=\"dataframe\">\n",
       "  <thead>\n",
       "    <tr style=\"text-align: right;\">\n",
       "      <th></th>\n",
       "      <th>idaviso</th>\n",
       "      <th>idpostulante</th>\n",
       "      <th>fechahorapostulacion</th>\n",
       "      <th>fechapostulacion</th>\n",
       "      <th>horapostulacion</th>\n",
       "    </tr>\n",
       "  </thead>\n",
       "  <tbody>\n",
       "    <tr>\n",
       "      <th>0</th>\n",
       "      <td>1112257047</td>\n",
       "      <td>NM5M</td>\n",
       "      <td>2018-01-15 16:22:34</td>\n",
       "      <td>2018-01-15</td>\n",
       "      <td>16:22:34</td>\n",
       "    </tr>\n",
       "    <tr>\n",
       "      <th>736839</th>\n",
       "      <td>1112261550</td>\n",
       "      <td>qekqr4b</td>\n",
       "      <td>2018-01-15 19:00:07</td>\n",
       "      <td>2018-01-15</td>\n",
       "      <td>19:00:07</td>\n",
       "    </tr>\n",
       "    <tr>\n",
       "      <th>2524985</th>\n",
       "      <td>1112145604</td>\n",
       "      <td>N5Doal</td>\n",
       "      <td>2018-01-15 11:48:56</td>\n",
       "      <td>2018-01-15</td>\n",
       "      <td>11:48:56</td>\n",
       "    </tr>\n",
       "    <tr>\n",
       "      <th>2524984</th>\n",
       "      <td>1112239063</td>\n",
       "      <td>N5Doal</td>\n",
       "      <td>2018-01-15 11:44:57</td>\n",
       "      <td>2018-01-15</td>\n",
       "      <td>11:44:57</td>\n",
       "    </tr>\n",
       "    <tr>\n",
       "      <th>736893</th>\n",
       "      <td>1112257631</td>\n",
       "      <td>PmV48YJ</td>\n",
       "      <td>2018-01-15 10:12:34</td>\n",
       "      <td>2018-01-15</td>\n",
       "      <td>10:12:34</td>\n",
       "    </tr>\n",
       "    <tr>\n",
       "      <th>736894</th>\n",
       "      <td>1112261524</td>\n",
       "      <td>PmV48YJ</td>\n",
       "      <td>2018-01-15 16:26:58</td>\n",
       "      <td>2018-01-15</td>\n",
       "      <td>16:26:58</td>\n",
       "    </tr>\n",
       "    <tr>\n",
       "      <th>736941</th>\n",
       "      <td>1112245598</td>\n",
       "      <td>KBAvVxX</td>\n",
       "      <td>2018-01-15 22:41:33</td>\n",
       "      <td>2018-01-15</td>\n",
       "      <td>22:41:33</td>\n",
       "    </tr>\n",
       "    <tr>\n",
       "      <th>736942</th>\n",
       "      <td>1112247307</td>\n",
       "      <td>KBAvVxX</td>\n",
       "      <td>2018-01-15 22:42:12</td>\n",
       "      <td>2018-01-15</td>\n",
       "      <td>22:42:12</td>\n",
       "    </tr>\n",
       "    <tr>\n",
       "      <th>736943</th>\n",
       "      <td>1111936969</td>\n",
       "      <td>KBAvVxX</td>\n",
       "      <td>2018-01-15 22:42:56</td>\n",
       "      <td>2018-01-15</td>\n",
       "      <td>22:42:56</td>\n",
       "    </tr>\n",
       "    <tr>\n",
       "      <th>736944</th>\n",
       "      <td>1112251166</td>\n",
       "      <td>KBAvVxX</td>\n",
       "      <td>2018-01-15 22:43:08</td>\n",
       "      <td>2018-01-15</td>\n",
       "      <td>22:43:08</td>\n",
       "    </tr>\n",
       "  </tbody>\n",
       "</table>\n",
       "</div>"
      ],
      "text/plain": [
       "            idaviso idpostulante fechahorapostulacion fechapostulacion  \\\n",
       "0        1112257047         NM5M  2018-01-15 16:22:34       2018-01-15   \n",
       "736839   1112261550      qekqr4b  2018-01-15 19:00:07       2018-01-15   \n",
       "2524985  1112145604       N5Doal  2018-01-15 11:48:56       2018-01-15   \n",
       "2524984  1112239063       N5Doal  2018-01-15 11:44:57       2018-01-15   \n",
       "736893   1112257631      PmV48YJ  2018-01-15 10:12:34       2018-01-15   \n",
       "736894   1112261524      PmV48YJ  2018-01-15 16:26:58       2018-01-15   \n",
       "736941   1112245598      KBAvVxX  2018-01-15 22:41:33       2018-01-15   \n",
       "736942   1112247307      KBAvVxX  2018-01-15 22:42:12       2018-01-15   \n",
       "736943   1111936969      KBAvVxX  2018-01-15 22:42:56       2018-01-15   \n",
       "736944   1112251166      KBAvVxX  2018-01-15 22:43:08       2018-01-15   \n",
       "\n",
       "        horapostulacion  \n",
       "0              16:22:34  \n",
       "736839         19:00:07  \n",
       "2524985        11:48:56  \n",
       "2524984        11:44:57  \n",
       "736893         10:12:34  \n",
       "736894         16:26:58  \n",
       "736941         22:41:33  \n",
       "736942         22:42:12  \n",
       "736943         22:42:56  \n",
       "736944         22:43:08  "
      ]
     },
     "execution_count": 304,
     "metadata": {},
     "output_type": "execute_result"
    }
   ],
   "source": [
    "##Ordeno la informacion sobre la fecha y hora de postulación, modificando su formato y agregando columnas que me permitan\n",
    "#analizar de forma individual la fecha y la hora.\n",
    "\n",
    "postulaciones['fechapostulacion'] = pd.to_datetime(postulaciones['fechapostulacion'])\n",
    "postulaciones = postulaciones.rename(columns={'fechapostulacion':'fechahorapostulacion'})\n",
    "postulaciones['fechapostulacion'] = postulaciones['fechahorapostulacion'].dt.date\n",
    "postulaciones['horapostulacion'] = postulaciones['fechahorapostulacion'].dt.time\n",
    "\n",
    "postulaciones.sort_values('fechapostulacion').head(10)"
   ]
  },
  {
   "cell_type": "markdown",
   "metadata": {},
   "source": [
    "## Avisos"
   ]
  },
  {
   "cell_type": "code",
   "execution_count": 30,
   "metadata": {},
   "outputs": [],
   "source": [
    "avisos_online = pd.read_csv('Datos/fiuba_hasta_15_abril/fiuba_5_avisos_online.csv')\n",
    "avisos_detalle = pd.read_csv('Datos/fiuba_hasta_15_abril/fiuba_6_avisos_detalle.csv')"
   ]
  },
  {
   "cell_type": "code",
   "execution_count": 31,
   "metadata": {},
   "outputs": [
    {
     "data": {
      "text/plain": [
       "(18299, 11)"
      ]
     },
     "execution_count": 31,
     "metadata": {},
     "output_type": "execute_result"
    }
   ],
   "source": [
    "avisos_detalle.shape"
   ]
  },
  {
   "cell_type": "code",
   "execution_count": 305,
   "metadata": {},
   "outputs": [
    {
     "data": {
      "text/html": [
       "<div>\n",
       "<style scoped>\n",
       "    .dataframe tbody tr th:only-of-type {\n",
       "        vertical-align: middle;\n",
       "    }\n",
       "\n",
       "    .dataframe tbody tr th {\n",
       "        vertical-align: top;\n",
       "    }\n",
       "\n",
       "    .dataframe thead th {\n",
       "        text-align: right;\n",
       "    }\n",
       "</style>\n",
       "<table border=\"1\" class=\"dataframe\">\n",
       "  <thead>\n",
       "    <tr style=\"text-align: right;\">\n",
       "      <th></th>\n",
       "      <th>idaviso</th>\n",
       "    </tr>\n",
       "  </thead>\n",
       "  <tbody>\n",
       "    <tr>\n",
       "      <th>0</th>\n",
       "      <td>1112355872</td>\n",
       "    </tr>\n",
       "    <tr>\n",
       "      <th>1</th>\n",
       "      <td>1112335374</td>\n",
       "    </tr>\n",
       "    <tr>\n",
       "      <th>2</th>\n",
       "      <td>1112374842</td>\n",
       "    </tr>\n",
       "    <tr>\n",
       "      <th>3</th>\n",
       "      <td>1111984070</td>\n",
       "    </tr>\n",
       "    <tr>\n",
       "      <th>4</th>\n",
       "      <td>1111822480</td>\n",
       "    </tr>\n",
       "  </tbody>\n",
       "</table>\n",
       "</div>"
      ],
      "text/plain": [
       "      idaviso\n",
       "0  1112355872\n",
       "1  1112335374\n",
       "2  1112374842\n",
       "3  1111984070\n",
       "4  1111822480"
      ]
     },
     "execution_count": 305,
     "metadata": {},
     "output_type": "execute_result"
    }
   ],
   "source": [
    "#Vistazo a la estructura del dataframe\n",
    "\n",
    "avisos_online.head()"
   ]
  },
  {
   "cell_type": "code",
   "execution_count": 306,
   "metadata": {},
   "outputs": [
    {
     "data": {
      "text/plain": [
       "(5028, 1)"
      ]
     },
     "execution_count": 306,
     "metadata": {},
     "output_type": "execute_result"
    }
   ],
   "source": [
    "#Existen 5028 avisos online\n",
    "\n",
    "avisos_online.shape"
   ]
  },
  {
   "cell_type": "code",
   "execution_count": 307,
   "metadata": {},
   "outputs": [
    {
     "data": {
      "text/plain": [
       "idaviso    False\n",
       "dtype: bool"
      ]
     },
     "execution_count": 307,
     "metadata": {},
     "output_type": "execute_result"
    }
   ],
   "source": [
    "#No hay registros nulos\n",
    "\n",
    "avisos_online.isnull().any()"
   ]
  },
  {
   "cell_type": "code",
   "execution_count": 308,
   "metadata": {},
   "outputs": [
    {
     "data": {
      "text/plain": [
       "5028"
      ]
     },
     "execution_count": 308,
     "metadata": {},
     "output_type": "execute_result"
    }
   ],
   "source": [
    "#Tampoco hay ids repetidos\n",
    "\n",
    "avisos_online['idaviso'].value_counts().size"
   ]
  },
  {
   "cell_type": "code",
   "execution_count": 309,
   "metadata": {},
   "outputs": [
    {
     "data": {
      "text/html": [
       "<div>\n",
       "<style scoped>\n",
       "    .dataframe tbody tr th:only-of-type {\n",
       "        vertical-align: middle;\n",
       "    }\n",
       "\n",
       "    .dataframe tbody tr th {\n",
       "        vertical-align: top;\n",
       "    }\n",
       "\n",
       "    .dataframe thead th {\n",
       "        text-align: right;\n",
       "    }\n",
       "</style>\n",
       "<table border=\"1\" class=\"dataframe\">\n",
       "  <thead>\n",
       "    <tr style=\"text-align: right;\">\n",
       "      <th></th>\n",
       "      <th>idaviso</th>\n",
       "      <th>idpais</th>\n",
       "      <th>titulo</th>\n",
       "      <th>descripcion</th>\n",
       "      <th>nombre_zona</th>\n",
       "      <th>ciudad</th>\n",
       "      <th>mapacalle</th>\n",
       "      <th>tipo_de_trabajo</th>\n",
       "      <th>nivel_laboral</th>\n",
       "      <th>nombre_area</th>\n",
       "      <th>denominacion_empresa</th>\n",
       "    </tr>\n",
       "  </thead>\n",
       "  <tbody>\n",
       "    <tr>\n",
       "      <th>0</th>\n",
       "      <td>8725750</td>\n",
       "      <td>1</td>\n",
       "      <td>VENDEDOR/A PROVINCIA DE SANTA FE</td>\n",
       "      <td>&lt;p&gt;&lt;strong&gt;&lt;strong&gt;Empresa:&lt;/strong&gt;&lt;/strong&gt; ...</td>\n",
       "      <td>Gran Buenos Aires</td>\n",
       "      <td>NaN</td>\n",
       "      <td>NaN</td>\n",
       "      <td>Full-time</td>\n",
       "      <td>Senior / Semi-Senior</td>\n",
       "      <td>Comercial</td>\n",
       "      <td>VENTOR</td>\n",
       "    </tr>\n",
       "    <tr>\n",
       "      <th>1</th>\n",
       "      <td>17903700</td>\n",
       "      <td>1</td>\n",
       "      <td>Enfermeras</td>\n",
       "      <td>&lt;p&gt;Solicitamos para importante cadena de farma...</td>\n",
       "      <td>Gran Buenos Aires</td>\n",
       "      <td>NaN</td>\n",
       "      <td>NaN</td>\n",
       "      <td>Full-time</td>\n",
       "      <td>Senior / Semi-Senior</td>\n",
       "      <td>Salud</td>\n",
       "      <td>Farmacias Central Oeste</td>\n",
       "    </tr>\n",
       "    <tr>\n",
       "      <th>2</th>\n",
       "      <td>1000150677</td>\n",
       "      <td>1</td>\n",
       "      <td>Chofer de taxi</td>\n",
       "      <td>&lt;p&gt;TE GUSTA MANEJAR? QUERES GANAR PLATA HACIEN...</td>\n",
       "      <td>Capital Federal</td>\n",
       "      <td>NaN</td>\n",
       "      <td>Empedrado 2336</td>\n",
       "      <td>Full-time</td>\n",
       "      <td>Senior / Semi-Senior</td>\n",
       "      <td>Transporte</td>\n",
       "      <td>FAMITAX SRL</td>\n",
       "    </tr>\n",
       "    <tr>\n",
       "      <th>3</th>\n",
       "      <td>1000610287</td>\n",
       "      <td>1</td>\n",
       "      <td>CHOFER DE CAMIONETA BAHIA BLANCA - PUNTA ALTA</td>\n",
       "      <td>&lt;p&gt;&lt;strong&gt;Somos una empresa multinacional que...</td>\n",
       "      <td>Gran Buenos Aires</td>\n",
       "      <td>NaN</td>\n",
       "      <td>NaN</td>\n",
       "      <td>Full-time</td>\n",
       "      <td>Senior / Semi-Senior</td>\n",
       "      <td>Transporte</td>\n",
       "      <td>Wurth Argentina S.A</td>\n",
       "    </tr>\n",
       "    <tr>\n",
       "      <th>4</th>\n",
       "      <td>1000872556</td>\n",
       "      <td>1</td>\n",
       "      <td>Operarios de Planta - Rubro Electrodomésticos</td>\n",
       "      <td>&lt;p&gt;&lt;strong&gt;OPERARIOS DE PLANTA&lt;/strong&gt;&lt;/p&gt;&lt;p&gt;...</td>\n",
       "      <td>Gran Buenos Aires</td>\n",
       "      <td>NaN</td>\n",
       "      <td>NaN</td>\n",
       "      <td>Full-time</td>\n",
       "      <td>Senior / Semi-Senior</td>\n",
       "      <td>Producción</td>\n",
       "      <td>ELECTRO OUTLET SRL</td>\n",
       "    </tr>\n",
       "  </tbody>\n",
       "</table>\n",
       "</div>"
      ],
      "text/plain": [
       "      idaviso  idpais                                         titulo  \\\n",
       "0     8725750       1               VENDEDOR/A PROVINCIA DE SANTA FE   \n",
       "1    17903700       1                                     Enfermeras   \n",
       "2  1000150677       1                                 Chofer de taxi   \n",
       "3  1000610287       1  CHOFER DE CAMIONETA BAHIA BLANCA - PUNTA ALTA   \n",
       "4  1000872556       1  Operarios de Planta - Rubro Electrodomésticos   \n",
       "\n",
       "                                         descripcion        nombre_zona  \\\n",
       "0  <p><strong><strong>Empresa:</strong></strong> ...  Gran Buenos Aires   \n",
       "1  <p>Solicitamos para importante cadena de farma...  Gran Buenos Aires   \n",
       "2  <p>TE GUSTA MANEJAR? QUERES GANAR PLATA HACIEN...    Capital Federal   \n",
       "3  <p><strong>Somos una empresa multinacional que...  Gran Buenos Aires   \n",
       "4  <p><strong>OPERARIOS DE PLANTA</strong></p><p>...  Gran Buenos Aires   \n",
       "\n",
       "  ciudad       mapacalle tipo_de_trabajo         nivel_laboral nombre_area  \\\n",
       "0    NaN             NaN       Full-time  Senior / Semi-Senior   Comercial   \n",
       "1    NaN             NaN       Full-time  Senior / Semi-Senior       Salud   \n",
       "2    NaN  Empedrado 2336       Full-time  Senior / Semi-Senior  Transporte   \n",
       "3    NaN             NaN       Full-time  Senior / Semi-Senior  Transporte   \n",
       "4    NaN             NaN       Full-time  Senior / Semi-Senior  Producción   \n",
       "\n",
       "      denominacion_empresa  \n",
       "0                   VENTOR  \n",
       "1  Farmacias Central Oeste  \n",
       "2              FAMITAX SRL  \n",
       "3      Wurth Argentina S.A  \n",
       "4       ELECTRO OUTLET SRL  "
      ]
     },
     "execution_count": 309,
     "metadata": {},
     "output_type": "execute_result"
    }
   ],
   "source": [
    "#Vistazo a la estructura del dataframe\n",
    "\n",
    "avisos_detalle.head()"
   ]
  },
  {
   "cell_type": "code",
   "execution_count": 310,
   "metadata": {},
   "outputs": [
    {
     "data": {
      "text/plain": [
       "(13534, 11)"
      ]
     },
     "execution_count": 310,
     "metadata": {},
     "output_type": "execute_result"
    }
   ],
   "source": [
    "#Existen 13534 avisos contra los 5028 que teniamos en avisos_online. Significa que los restantes 8506 están inactivos?\n",
    "\n",
    "avisos_detalle.shape"
   ]
  },
  {
   "cell_type": "code",
   "execution_count": 311,
   "metadata": {},
   "outputs": [
    {
     "data": {
      "text/plain": [
       "idaviso                 False\n",
       "idpais                  False\n",
       "titulo                  False\n",
       "descripcion             False\n",
       "nombre_zona             False\n",
       "ciudad                   True\n",
       "mapacalle                True\n",
       "tipo_de_trabajo         False\n",
       "nivel_laboral           False\n",
       "nombre_area             False\n",
       "denominacion_empresa     True\n",
       "dtype: bool"
      ]
     },
     "execution_count": 311,
     "metadata": {},
     "output_type": "execute_result"
    }
   ],
   "source": [
    "#Tenemos nulos en los campos ciudad, mapa y denominacion_empresa\n",
    "\n",
    "avisos_detalle.isnull().any()"
   ]
  },
  {
   "cell_type": "code",
   "execution_count": 312,
   "metadata": {},
   "outputs": [
    {
     "data": {
      "text/plain": [
       "(13487, 11)"
      ]
     },
     "execution_count": 312,
     "metadata": {},
     "output_type": "execute_result"
    }
   ],
   "source": [
    "#13487 no tienen registrada la ciudad\n",
    "\n",
    "avisos_detalle.loc[avisos_detalle['ciudad'].isnull()].shape"
   ]
  },
  {
   "cell_type": "code",
   "execution_count": 313,
   "metadata": {},
   "outputs": [
    {
     "data": {
      "text/plain": [
       "(5, 11)"
      ]
     },
     "execution_count": 313,
     "metadata": {},
     "output_type": "execute_result"
    }
   ],
   "source": [
    "#Cinco avisos no tienen registrada la empresa que lleva a cabo la búsqueda\n",
    "\n",
    "avisos_detalle.loc[avisos_detalle['denominacion_empresa'].isnull()].shape"
   ]
  },
  {
   "cell_type": "code",
   "execution_count": 314,
   "metadata": {},
   "outputs": [
    {
     "data": {
      "text/plain": [
       "1    13534\n",
       "Name: idpais, dtype: int64"
      ]
     },
     "execution_count": 314,
     "metadata": {},
     "output_type": "execute_result"
    }
   ],
   "source": [
    "#Todos los avisos son del mismo país\n",
    "\n",
    "avisos_detalle['idpais'].value_counts()"
   ]
  },
  {
   "cell_type": "code",
   "execution_count": 315,
   "metadata": {
    "scrolled": true
   },
   "outputs": [
    {
     "data": {
      "text/plain": [
       "Gran Buenos Aires              12654\n",
       "Capital Federal                  876\n",
       "GBA Oeste                          2\n",
       "Buenos Aires (fuera de GBA)        2\n",
       "Name: nombre_zona, dtype: int64"
      ]
     },
     "execution_count": 315,
     "metadata": {},
     "output_type": "execute_result"
    }
   ],
   "source": [
    "#Zonas entre las que se reparten los avisos, podemos corroborar que todos los avisos \n",
    "#corresponden a Buenos Aires como dice la consigna\n",
    "\n",
    "avisos_detalle['nombre_zona'].value_counts()"
   ]
  },
  {
   "cell_type": "code",
   "execution_count": 316,
   "metadata": {},
   "outputs": [
    {
     "data": {
      "text/plain": [
       "Secundario           110256\n",
       "Universitario        104295\n",
       "Terciario/Técnico     47733\n",
       "Otro                  24748\n",
       "Posgrado               7387\n",
       "Master                 3598\n",
       "Doctorado               214\n",
       "Name: educacion, dtype: int64"
      ]
     },
     "execution_count": 316,
     "metadata": {},
     "output_type": "execute_result"
    }
   ],
   "source": [
    "postulantes_educacion.educacion.value_counts()"
   ]
  },
  {
   "cell_type": "code",
   "execution_count": null,
   "metadata": {},
   "outputs": [],
   "source": []
  }
 ],
 "metadata": {
  "kernelspec": {
   "display_name": "Python 2",
   "language": "python",
   "name": "python2"
  },
  "language_info": {
   "codemirror_mode": {
    "name": "ipython",
    "version": 2
   },
   "file_extension": ".py",
   "mimetype": "text/x-python",
   "name": "python",
   "nbconvert_exporter": "python",
   "pygments_lexer": "ipython2",
   "version": "2.7.14"
  }
 },
 "nbformat": 4,
 "nbformat_minor": 2
}
