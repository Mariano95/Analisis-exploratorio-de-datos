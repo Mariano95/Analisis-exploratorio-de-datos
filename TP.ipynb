{
 "cells": [
  {
   "cell_type": "code",
   "execution_count": 1,
   "metadata": {},
   "outputs": [],
   "source": [
    "%matplotlib inline\n",
    "\n",
    "import datetime as datetime\n",
    "import pandas as pd\n",
    "import numpy as np\n",
    "import matplotlib.pyplot as plt\n",
    "import seaborn as sns\n",
    "\n",
    "plt.style.use('seaborn-darkgrid')\n",
    "sns.set(rc={'figure.figsize':(15.7,10.27)})"
   ]
  },
  {
   "cell_type": "code",
   "execution_count": 2,
   "metadata": {},
   "outputs": [],
   "source": [
    "#Cargo los datos en memoria\n",
    "\n",
    "postulantes_educacion = pd.read_csv('datos_navent_fiuba/fiuba_1_postulantes_educacion.csv')\n",
    "postulantes_genero_y_edad = pd.read_csv('datos_navent_fiuba/fiuba_2_postulantes_genero_y_edad.csv')\n",
    "avisos_online = pd.read_csv('datos_navent_fiuba/fiuba_5_avisos_online.csv')\n",
    "avisos_detalle = pd.read_csv('datos_navent_fiuba/fiuba_6_avisos_detalle.csv')\n",
    "vistas = pd.read_csv('datos_navent_fiuba/fiuba_3_vistas.csv')\n",
    "postulaciones = pd.read_csv('datos_navent_fiuba/fiuba_4_postulaciones.csv')\n"
   ]
  },
  {
   "cell_type": "markdown",
   "metadata": {},
   "source": [
    "# Primer análisis de los datos\n"
   ]
  },
  {
   "cell_type": "markdown",
   "metadata": {},
   "source": [
    "## Primer dataframe: postulantes_educacion"
   ]
  },
  {
   "cell_type": "code",
   "execution_count": 3,
   "metadata": {
    "scrolled": true
   },
   "outputs": [
    {
     "data": {
      "text/html": [
       "<div>\n",
       "<style scoped>\n",
       "    .dataframe tbody tr th:only-of-type {\n",
       "        vertical-align: middle;\n",
       "    }\n",
       "\n",
       "    .dataframe tbody tr th {\n",
       "        vertical-align: top;\n",
       "    }\n",
       "\n",
       "    .dataframe thead th {\n",
       "        text-align: right;\n",
       "    }\n",
       "</style>\n",
       "<table border=\"1\" class=\"dataframe\">\n",
       "  <thead>\n",
       "    <tr style=\"text-align: right;\">\n",
       "      <th></th>\n",
       "      <th>idpostulante</th>\n",
       "      <th>nombre</th>\n",
       "      <th>estado</th>\n",
       "    </tr>\n",
       "  </thead>\n",
       "  <tbody>\n",
       "    <tr>\n",
       "      <th>0</th>\n",
       "      <td>NdJl</td>\n",
       "      <td>Posgrado</td>\n",
       "      <td>En Curso</td>\n",
       "    </tr>\n",
       "    <tr>\n",
       "      <th>1</th>\n",
       "      <td>8BkL</td>\n",
       "      <td>Universitario</td>\n",
       "      <td>En Curso</td>\n",
       "    </tr>\n",
       "    <tr>\n",
       "      <th>2</th>\n",
       "      <td>1d2B</td>\n",
       "      <td>Universitario</td>\n",
       "      <td>En Curso</td>\n",
       "    </tr>\n",
       "    <tr>\n",
       "      <th>3</th>\n",
       "      <td>NPBx</td>\n",
       "      <td>Universitario</td>\n",
       "      <td>En Curso</td>\n",
       "    </tr>\n",
       "    <tr>\n",
       "      <th>4</th>\n",
       "      <td>NPBx</td>\n",
       "      <td>Master</td>\n",
       "      <td>En Curso</td>\n",
       "    </tr>\n",
       "  </tbody>\n",
       "</table>\n",
       "</div>"
      ],
      "text/plain": [
       "  idpostulante         nombre    estado\n",
       "0         NdJl       Posgrado  En Curso\n",
       "1         8BkL  Universitario  En Curso\n",
       "2         1d2B  Universitario  En Curso\n",
       "3         NPBx  Universitario  En Curso\n",
       "4         NPBx         Master  En Curso"
      ]
     },
     "execution_count": 3,
     "metadata": {},
     "output_type": "execute_result"
    }
   ],
   "source": [
    "#Vistazo a la estructura del dataframe\n",
    "\n",
    "postulantes_educacion.head()"
   ]
  },
  {
   "cell_type": "code",
   "execution_count": 4,
   "metadata": {},
   "outputs": [
    {
     "data": {
      "text/plain": [
       "(298231, 3)"
      ]
     },
     "execution_count": 4,
     "metadata": {},
     "output_type": "execute_result"
    }
   ],
   "source": [
    "#Posee 298231 registros\n",
    "\n",
    "postulantes_educacion.shape"
   ]
  },
  {
   "cell_type": "code",
   "execution_count": 24,
   "metadata": {},
   "outputs": [
    {
     "data": {
      "text/html": [
       "<div>\n",
       "<style scoped>\n",
       "    .dataframe tbody tr th:only-of-type {\n",
       "        vertical-align: middle;\n",
       "    }\n",
       "\n",
       "    .dataframe tbody tr th {\n",
       "        vertical-align: top;\n",
       "    }\n",
       "\n",
       "    .dataframe thead th {\n",
       "        text-align: right;\n",
       "    }\n",
       "</style>\n",
       "<table border=\"1\" class=\"dataframe\">\n",
       "  <thead>\n",
       "    <tr style=\"text-align: right;\">\n",
       "      <th></th>\n",
       "      <th>idpostulante</th>\n",
       "      <th>gradoactual</th>\n",
       "      <th>estado</th>\n",
       "    </tr>\n",
       "  </thead>\n",
       "  <tbody>\n",
       "    <tr>\n",
       "      <th>0</th>\n",
       "      <td>NdJl</td>\n",
       "      <td>Posgrado</td>\n",
       "      <td>En Curso</td>\n",
       "    </tr>\n",
       "    <tr>\n",
       "      <th>1</th>\n",
       "      <td>8BkL</td>\n",
       "      <td>Universitario</td>\n",
       "      <td>En Curso</td>\n",
       "    </tr>\n",
       "    <tr>\n",
       "      <th>2</th>\n",
       "      <td>1d2B</td>\n",
       "      <td>Universitario</td>\n",
       "      <td>En Curso</td>\n",
       "    </tr>\n",
       "    <tr>\n",
       "      <th>3</th>\n",
       "      <td>NPBx</td>\n",
       "      <td>Universitario</td>\n",
       "      <td>En Curso</td>\n",
       "    </tr>\n",
       "    <tr>\n",
       "      <th>4</th>\n",
       "      <td>NPBx</td>\n",
       "      <td>Master</td>\n",
       "      <td>En Curso</td>\n",
       "    </tr>\n",
       "  </tbody>\n",
       "</table>\n",
       "</div>"
      ],
      "text/plain": [
       "  idpostulante    gradoactual    estado\n",
       "0         NdJl       Posgrado  En Curso\n",
       "1         8BkL  Universitario  En Curso\n",
       "2         1d2B  Universitario  En Curso\n",
       "3         NPBx  Universitario  En Curso\n",
       "4         NPBx         Master  En Curso"
      ]
     },
     "execution_count": 24,
     "metadata": {},
     "output_type": "execute_result"
    }
   ],
   "source": [
    "#Renombro las columnas a un nombre más apropiado\n",
    "\n",
    "postulantes_educacion = postulantes_educacion.rename(columns={\"nombre\":\"gradoactual\"})\n",
    "postulantes_educacion.head()"
   ]
  },
  {
   "cell_type": "code",
   "execution_count": 6,
   "metadata": {},
   "outputs": [
    {
     "data": {
      "text/plain": [
       "idpostulante    False\n",
       "gradoactual     False\n",
       "estado          False\n",
       "dtype: bool"
      ]
     },
     "execution_count": 6,
     "metadata": {},
     "output_type": "execute_result"
    }
   ],
   "source": [
    "#Hay algun dato nulo?\n",
    "\n",
    "postulantes_educacion.isnull().any()"
   ]
  },
  {
   "cell_type": "code",
   "execution_count": 7,
   "metadata": {},
   "outputs": [
    {
     "data": {
      "text/plain": [
       "188752"
      ]
     },
     "execution_count": 7,
     "metadata": {},
     "output_type": "execute_result"
    }
   ],
   "source": [
    "#Existen 188752 postulantes diferentes\n",
    "\n",
    "postulantes_educacion['idpostulante'].value_counts().count()"
   ]
  },
  {
   "cell_type": "code",
   "execution_count": 8,
   "metadata": {},
   "outputs": [
    {
     "data": {
      "text/plain": [
       "Secundario           110256\n",
       "Universitario        104295\n",
       "Terciario/Técnico     47733\n",
       "Otro                  24748\n",
       "Posgrado               7387\n",
       "Master                 3598\n",
       "Doctorado               214\n",
       "Name: gradoactual, dtype: int64"
      ]
     },
     "execution_count": 8,
     "metadata": {},
     "output_type": "execute_result"
    }
   ],
   "source": [
    "#La variable gradoactual es categórica, veamos cuáles son sus posibles valores. \n",
    "\n",
    "postulantes_educacion['gradoactual'].value_counts()"
   ]
  },
  {
   "cell_type": "code",
   "execution_count": 9,
   "metadata": {},
   "outputs": [
    {
     "data": {
      "text/plain": [
       "Graduado      194474\n",
       "En Curso       78531\n",
       "Abandonado     25226\n",
       "Name: estado, dtype: int64"
      ]
     },
     "execution_count": 9,
     "metadata": {},
     "output_type": "execute_result"
    }
   ],
   "source": [
    "#Estado también es categórica, veamos sus posibles estados\n",
    "\n",
    "postulantes_educacion['estado'].value_counts()"
   ]
  },
  {
   "cell_type": "markdown",
   "metadata": {},
   "source": [
    "## Segundo dataframe: postulantes_genero_y_edad"
   ]
  },
  {
   "cell_type": "code",
   "execution_count": 10,
   "metadata": {
    "scrolled": true
   },
   "outputs": [
    {
     "data": {
      "text/html": [
       "<div>\n",
       "<style scoped>\n",
       "    .dataframe tbody tr th:only-of-type {\n",
       "        vertical-align: middle;\n",
       "    }\n",
       "\n",
       "    .dataframe tbody tr th {\n",
       "        vertical-align: top;\n",
       "    }\n",
       "\n",
       "    .dataframe thead th {\n",
       "        text-align: right;\n",
       "    }\n",
       "</style>\n",
       "<table border=\"1\" class=\"dataframe\">\n",
       "  <thead>\n",
       "    <tr style=\"text-align: right;\">\n",
       "      <th></th>\n",
       "      <th>idpostulante</th>\n",
       "      <th>fechanacimiento</th>\n",
       "      <th>sexo</th>\n",
       "    </tr>\n",
       "  </thead>\n",
       "  <tbody>\n",
       "    <tr>\n",
       "      <th>0</th>\n",
       "      <td>NM5M</td>\n",
       "      <td>1970-12-03</td>\n",
       "      <td>FEM</td>\n",
       "    </tr>\n",
       "    <tr>\n",
       "      <th>1</th>\n",
       "      <td>5awk</td>\n",
       "      <td>1962-12-04</td>\n",
       "      <td>FEM</td>\n",
       "    </tr>\n",
       "    <tr>\n",
       "      <th>2</th>\n",
       "      <td>ZaO5</td>\n",
       "      <td>1978-08-10</td>\n",
       "      <td>FEM</td>\n",
       "    </tr>\n",
       "    <tr>\n",
       "      <th>3</th>\n",
       "      <td>NdJl</td>\n",
       "      <td>1969-05-09</td>\n",
       "      <td>MASC</td>\n",
       "    </tr>\n",
       "    <tr>\n",
       "      <th>4</th>\n",
       "      <td>eo2p</td>\n",
       "      <td>1981-02-16</td>\n",
       "      <td>MASC</td>\n",
       "    </tr>\n",
       "  </tbody>\n",
       "</table>\n",
       "</div>"
      ],
      "text/plain": [
       "  idpostulante fechanacimiento  sexo\n",
       "0         NM5M      1970-12-03   FEM\n",
       "1         5awk      1962-12-04   FEM\n",
       "2         ZaO5      1978-08-10   FEM\n",
       "3         NdJl      1969-05-09  MASC\n",
       "4         eo2p      1981-02-16  MASC"
      ]
     },
     "execution_count": 10,
     "metadata": {},
     "output_type": "execute_result"
    }
   ],
   "source": [
    "#Vistazo a la estructura del dataframe\n",
    "\n",
    "postulantes_genero_y_edad.head()"
   ]
  },
  {
   "cell_type": "code",
   "execution_count": 11,
   "metadata": {},
   "outputs": [
    {
     "data": {
      "text/plain": [
       "(200888, 3)"
      ]
     },
     "execution_count": 11,
     "metadata": {},
     "output_type": "execute_result"
    }
   ],
   "source": [
    "#200888 registros\n",
    "\n",
    "postulantes_genero_y_edad.shape"
   ]
  },
  {
   "cell_type": "code",
   "execution_count": 12,
   "metadata": {},
   "outputs": [
    {
     "data": {
      "text/plain": [
       "idpostulante       False\n",
       "fechanacimiento     True\n",
       "sexo               False\n",
       "dtype: bool"
      ]
     },
     "execution_count": 12,
     "metadata": {},
     "output_type": "execute_result"
    }
   ],
   "source": [
    "#Hay postulantes sin fecha de nacimiento cargada, luego veremos cuáles son\n",
    "\n",
    "postulantes_genero_y_edad.isnull().any()"
   ]
  },
  {
   "cell_type": "code",
   "execution_count": 13,
   "metadata": {},
   "outputs": [
    {
     "data": {
      "text/plain": [
       "200888"
      ]
     },
     "execution_count": 13,
     "metadata": {},
     "output_type": "execute_result"
    }
   ],
   "source": [
    "#No hay postulantes repetidos en el dataframe, pero son más de los que aparecen en el postulantes_educacion. Luego hay\n",
    "#postulantes que no poseen ninguna educación.\n",
    "\n",
    "postulantes_genero_y_edad['idpostulante'].value_counts().size"
   ]
  },
  {
   "cell_type": "code",
   "execution_count": 14,
   "metadata": {},
   "outputs": [
    {
     "data": {
      "text/plain": [
       "FEM           101981\n",
       "MASC           94339\n",
       "NO_DECLARA      4568\n",
       "Name: sexo, dtype: int64"
      ]
     },
     "execution_count": 14,
     "metadata": {},
     "output_type": "execute_result"
    }
   ],
   "source": [
    "#Comprobamos los posibles valores de sexo\n",
    "\n",
    "postulantes_genero_y_edad['sexo'].value_counts()"
   ]
  },
  {
   "cell_type": "code",
   "execution_count": 15,
   "metadata": {
    "scrolled": true
   },
   "outputs": [
    {
     "data": {
      "text/plain": [
       "4750"
      ]
     },
     "execution_count": 15,
     "metadata": {},
     "output_type": "execute_result"
    }
   ],
   "source": [
    "#Vimos que hay postulantes sin fecha de nacimiento cargada, veamos cuántos son\n",
    "#Tenemos 4750 postulantes sin fecha de nacimiento declarada\n",
    "\n",
    "len(postulantes_genero_y_edad.loc[postulantes_genero_y_edad.fechanacimiento.isnull()])"
   ]
  },
  {
   "cell_type": "code",
   "execution_count": 16,
   "metadata": {
    "scrolled": true
   },
   "outputs": [
    {
     "data": {
      "text/html": [
       "<div>\n",
       "<style scoped>\n",
       "    .dataframe tbody tr th:only-of-type {\n",
       "        vertical-align: middle;\n",
       "    }\n",
       "\n",
       "    .dataframe tbody tr th {\n",
       "        vertical-align: top;\n",
       "    }\n",
       "\n",
       "    .dataframe thead th {\n",
       "        text-align: right;\n",
       "    }\n",
       "</style>\n",
       "<table border=\"1\" class=\"dataframe\">\n",
       "  <thead>\n",
       "    <tr style=\"text-align: right;\">\n",
       "      <th></th>\n",
       "      <th>idpostulante</th>\n",
       "      <th>fechanacimiento</th>\n",
       "      <th>sexo</th>\n",
       "    </tr>\n",
       "  </thead>\n",
       "  <tbody>\n",
       "    <tr>\n",
       "      <th>148638</th>\n",
       "      <td>GNZOvAv</td>\n",
       "      <td>0004-07-19</td>\n",
       "      <td>MASC</td>\n",
       "    </tr>\n",
       "    <tr>\n",
       "      <th>149653</th>\n",
       "      <td>1QPQ8QL</td>\n",
       "      <td>0011-03-08</td>\n",
       "      <td>MASC</td>\n",
       "    </tr>\n",
       "    <tr>\n",
       "      <th>145683</th>\n",
       "      <td>dYjV0rb</td>\n",
       "      <td>0012-11-04</td>\n",
       "      <td>NO_DECLARA</td>\n",
       "    </tr>\n",
       "    <tr>\n",
       "      <th>130846</th>\n",
       "      <td>8M2R6pz</td>\n",
       "      <td>0024-02-09</td>\n",
       "      <td>FEM</td>\n",
       "    </tr>\n",
       "    <tr>\n",
       "      <th>71458</th>\n",
       "      <td>LN85Y3b</td>\n",
       "      <td>0029-05-11</td>\n",
       "      <td>MASC</td>\n",
       "    </tr>\n",
       "    <tr>\n",
       "      <th>56206</th>\n",
       "      <td>xkPwXwY</td>\n",
       "      <td>0031-12-11</td>\n",
       "      <td>FEM</td>\n",
       "    </tr>\n",
       "    <tr>\n",
       "      <th>141832</th>\n",
       "      <td>A36Npjj</td>\n",
       "      <td>0033-09-14</td>\n",
       "      <td>FEM</td>\n",
       "    </tr>\n",
       "    <tr>\n",
       "      <th>154559</th>\n",
       "      <td>xkdvwm0</td>\n",
       "      <td>1775-07-09</td>\n",
       "      <td>MASC</td>\n",
       "    </tr>\n",
       "    <tr>\n",
       "      <th>164618</th>\n",
       "      <td>96X1loa</td>\n",
       "      <td>1917-07-08</td>\n",
       "      <td>MASC</td>\n",
       "    </tr>\n",
       "    <tr>\n",
       "      <th>156483</th>\n",
       "      <td>4rP8l0R</td>\n",
       "      <td>1921-08-18</td>\n",
       "      <td>FEM</td>\n",
       "    </tr>\n",
       "  </tbody>\n",
       "</table>\n",
       "</div>"
      ],
      "text/plain": [
       "       idpostulante fechanacimiento        sexo\n",
       "148638      GNZOvAv      0004-07-19        MASC\n",
       "149653      1QPQ8QL      0011-03-08        MASC\n",
       "145683      dYjV0rb      0012-11-04  NO_DECLARA\n",
       "130846      8M2R6pz      0024-02-09         FEM\n",
       "71458       LN85Y3b      0029-05-11        MASC\n",
       "56206       xkPwXwY      0031-12-11         FEM\n",
       "141832      A36Npjj      0033-09-14         FEM\n",
       "154559      xkdvwm0      1775-07-09        MASC\n",
       "164618      96X1loa      1917-07-08        MASC\n",
       "156483      4rP8l0R      1921-08-18         FEM"
      ]
     },
     "execution_count": 16,
     "metadata": {},
     "output_type": "execute_result"
    }
   ],
   "source": [
    "#Observando el formato de las fechas no nulas, vemos que existen 7 que no respetan el formato AA/MM/DD\n",
    "#Dado que representan un porcentaje ínfimo del total de registros, elegimos ignorarlos para así evitar tener que \n",
    "#asumir qué fecha representan.\n",
    "\n",
    "postulantes_genero_y_edad.loc[postulantes_genero_y_edad.fechanacimiento.isnull()==False].sort_values('fechanacimiento',ascending=True).head(10)"
   ]
  },
  {
   "cell_type": "code",
   "execution_count": 3,
   "metadata": {},
   "outputs": [],
   "source": [
    "#Convierto la columna fechanacimiento a formato datetime. \n",
    "\n",
    "postulantes_genero_y_edad['fechanacimiento'] = pd.to_datetime(postulantes_genero_y_edad['fechanacimiento'], errors='coerce')"
   ]
  },
  {
   "cell_type": "code",
   "execution_count": 18,
   "metadata": {
    "scrolled": true
   },
   "outputs": [
    {
     "data": {
      "text/plain": [
       "4757"
      ]
     },
     "execution_count": 18,
     "metadata": {},
     "output_type": "execute_result"
    }
   ],
   "source": [
    "#Si revisamos ahora a los postulantes sin fecha de nacimiento, observamos que ahora hay 7 más que antes. Estos 7 deberían ser\n",
    "#los que tenían el formato incorrecto.\n",
    "\n",
    "len(postulantes_genero_y_edad.loc[postulantes_genero_y_edad.fechanacimiento.isnull()])"
   ]
  },
  {
   "cell_type": "code",
   "execution_count": 19,
   "metadata": {},
   "outputs": [
    {
     "data": {
      "text/html": [
       "<div>\n",
       "<style scoped>\n",
       "    .dataframe tbody tr th:only-of-type {\n",
       "        vertical-align: middle;\n",
       "    }\n",
       "\n",
       "    .dataframe tbody tr th {\n",
       "        vertical-align: top;\n",
       "    }\n",
       "\n",
       "    .dataframe thead th {\n",
       "        text-align: right;\n",
       "    }\n",
       "</style>\n",
       "<table border=\"1\" class=\"dataframe\">\n",
       "  <thead>\n",
       "    <tr style=\"text-align: right;\">\n",
       "      <th></th>\n",
       "      <th>idpostulante</th>\n",
       "      <th>fechanacimiento</th>\n",
       "      <th>sexo</th>\n",
       "    </tr>\n",
       "  </thead>\n",
       "  <tbody>\n",
       "    <tr>\n",
       "      <th>148638</th>\n",
       "      <td>GNZOvAv</td>\n",
       "      <td>NaT</td>\n",
       "      <td>MASC</td>\n",
       "    </tr>\n",
       "    <tr>\n",
       "      <th>149653</th>\n",
       "      <td>1QPQ8QL</td>\n",
       "      <td>NaT</td>\n",
       "      <td>MASC</td>\n",
       "    </tr>\n",
       "    <tr>\n",
       "      <th>145683</th>\n",
       "      <td>dYjV0rb</td>\n",
       "      <td>NaT</td>\n",
       "      <td>NO_DECLARA</td>\n",
       "    </tr>\n",
       "    <tr>\n",
       "      <th>130846</th>\n",
       "      <td>8M2R6pz</td>\n",
       "      <td>NaT</td>\n",
       "      <td>FEM</td>\n",
       "    </tr>\n",
       "    <tr>\n",
       "      <th>71458</th>\n",
       "      <td>LN85Y3b</td>\n",
       "      <td>NaT</td>\n",
       "      <td>MASC</td>\n",
       "    </tr>\n",
       "    <tr>\n",
       "      <th>56206</th>\n",
       "      <td>xkPwXwY</td>\n",
       "      <td>NaT</td>\n",
       "      <td>FEM</td>\n",
       "    </tr>\n",
       "    <tr>\n",
       "      <th>141832</th>\n",
       "      <td>A36Npjj</td>\n",
       "      <td>NaT</td>\n",
       "      <td>FEM</td>\n",
       "    </tr>\n",
       "  </tbody>\n",
       "</table>\n",
       "</div>"
      ],
      "text/plain": [
       "       idpostulante fechanacimiento        sexo\n",
       "148638      GNZOvAv             NaT        MASC\n",
       "149653      1QPQ8QL             NaT        MASC\n",
       "145683      dYjV0rb             NaT  NO_DECLARA\n",
       "130846      8M2R6pz             NaT         FEM\n",
       "71458       LN85Y3b             NaT        MASC\n",
       "56206       xkPwXwY             NaT         FEM\n",
       "141832      A36Npjj             NaT         FEM"
      ]
     },
     "execution_count": 19,
     "metadata": {},
     "output_type": "execute_result"
    }
   ],
   "source": [
    "#Tal como lo anticipamos, ahora tienen fecha de nacimiento nula.\n",
    "\n",
    "postulantes_genero_y_edad.iloc[[148638,149653,145683,130846,71458,56206,141832],:]"
   ]
  },
  {
   "cell_type": "code",
   "execution_count": 4,
   "metadata": {
    "scrolled": true
   },
   "outputs": [
    {
     "data": {
      "text/html": [
       "<div>\n",
       "<style scoped>\n",
       "    .dataframe tbody tr th:only-of-type {\n",
       "        vertical-align: middle;\n",
       "    }\n",
       "\n",
       "    .dataframe tbody tr th {\n",
       "        vertical-align: top;\n",
       "    }\n",
       "\n",
       "    .dataframe thead th {\n",
       "        text-align: right;\n",
       "    }\n",
       "</style>\n",
       "<table border=\"1\" class=\"dataframe\">\n",
       "  <thead>\n",
       "    <tr style=\"text-align: right;\">\n",
       "      <th></th>\n",
       "      <th>idpostulante</th>\n",
       "      <th>fechanacimiento</th>\n",
       "      <th>sexo</th>\n",
       "      <th>edad</th>\n",
       "    </tr>\n",
       "  </thead>\n",
       "  <tbody>\n",
       "    <tr>\n",
       "      <th>0</th>\n",
       "      <td>NM5M</td>\n",
       "      <td>1970-12-03</td>\n",
       "      <td>FEM</td>\n",
       "      <td>47</td>\n",
       "    </tr>\n",
       "    <tr>\n",
       "      <th>1</th>\n",
       "      <td>5awk</td>\n",
       "      <td>1962-12-04</td>\n",
       "      <td>FEM</td>\n",
       "      <td>55</td>\n",
       "    </tr>\n",
       "    <tr>\n",
       "      <th>2</th>\n",
       "      <td>ZaO5</td>\n",
       "      <td>1978-08-10</td>\n",
       "      <td>FEM</td>\n",
       "      <td>39</td>\n",
       "    </tr>\n",
       "    <tr>\n",
       "      <th>3</th>\n",
       "      <td>NdJl</td>\n",
       "      <td>1969-05-09</td>\n",
       "      <td>MASC</td>\n",
       "      <td>48</td>\n",
       "    </tr>\n",
       "    <tr>\n",
       "      <th>4</th>\n",
       "      <td>eo2p</td>\n",
       "      <td>1981-02-16</td>\n",
       "      <td>MASC</td>\n",
       "      <td>37</td>\n",
       "    </tr>\n",
       "    <tr>\n",
       "      <th>5</th>\n",
       "      <td>Ez8J</td>\n",
       "      <td>1968-12-18</td>\n",
       "      <td>MASC</td>\n",
       "      <td>49</td>\n",
       "    </tr>\n",
       "    <tr>\n",
       "      <th>6</th>\n",
       "      <td>aOQq</td>\n",
       "      <td>1966-07-16</td>\n",
       "      <td>MASC</td>\n",
       "      <td>51</td>\n",
       "    </tr>\n",
       "    <tr>\n",
       "      <th>7</th>\n",
       "      <td>8BkL</td>\n",
       "      <td>1976-07-21</td>\n",
       "      <td>FEM</td>\n",
       "      <td>41</td>\n",
       "    </tr>\n",
       "    <tr>\n",
       "      <th>8</th>\n",
       "      <td>1d2B</td>\n",
       "      <td>1976-02-28</td>\n",
       "      <td>MASC</td>\n",
       "      <td>42</td>\n",
       "    </tr>\n",
       "    <tr>\n",
       "      <th>9</th>\n",
       "      <td>NPBx</td>\n",
       "      <td>1981-03-09</td>\n",
       "      <td>MASC</td>\n",
       "      <td>37</td>\n",
       "    </tr>\n",
       "  </tbody>\n",
       "</table>\n",
       "</div>"
      ],
      "text/plain": [
       "  idpostulante fechanacimiento  sexo  edad\n",
       "0         NM5M      1970-12-03   FEM    47\n",
       "1         5awk      1962-12-04   FEM    55\n",
       "2         ZaO5      1978-08-10   FEM    39\n",
       "3         NdJl      1969-05-09  MASC    48\n",
       "4         eo2p      1981-02-16  MASC    37\n",
       "5         Ez8J      1968-12-18  MASC    49\n",
       "6         aOQq      1966-07-16  MASC    51\n",
       "7         8BkL      1976-07-21   FEM    41\n",
       "8         1d2B      1976-02-28  MASC    42\n",
       "9         NPBx      1981-03-09  MASC    37"
      ]
     },
     "execution_count": 4,
     "metadata": {},
     "output_type": "execute_result"
    }
   ],
   "source": [
    "#Vamos ahora a agregar una columna adicional al dataframe, de modo que podamos observar la edad de cada persona\n",
    "\n",
    "postulantes_genero_y_edad['edad'] = ((pd.datetime.today() - postulantes_genero_y_edad['fechanacimiento']).dt.days/365)\n",
    "postulantes_genero_y_edad['edad'] = postulantes_genero_y_edad['edad'].fillna(0)\n",
    "postulantes_genero_y_edad['edad'] = postulantes_genero_y_edad['edad'].astype(int)\n",
    "postulantes_genero_y_edad.head(10)"
   ]
  },
  {
   "cell_type": "code",
   "execution_count": 21,
   "metadata": {
    "scrolled": true
   },
   "outputs": [
    {
     "data": {
      "text/html": [
       "<div>\n",
       "<style scoped>\n",
       "    .dataframe tbody tr th:only-of-type {\n",
       "        vertical-align: middle;\n",
       "    }\n",
       "\n",
       "    .dataframe tbody tr th {\n",
       "        vertical-align: top;\n",
       "    }\n",
       "\n",
       "    .dataframe thead th {\n",
       "        text-align: right;\n",
       "    }\n",
       "</style>\n",
       "<table border=\"1\" class=\"dataframe\">\n",
       "  <thead>\n",
       "    <tr style=\"text-align: right;\">\n",
       "      <th></th>\n",
       "      <th>idpostulante</th>\n",
       "      <th>fechanacimiento</th>\n",
       "      <th>sexo</th>\n",
       "      <th>edad</th>\n",
       "    </tr>\n",
       "  </thead>\n",
       "  <tbody>\n",
       "    <tr>\n",
       "      <th>197120</th>\n",
       "      <td>6rP38R3</td>\n",
       "      <td>2000-02-29</td>\n",
       "      <td>FEM</td>\n",
       "      <td>18</td>\n",
       "    </tr>\n",
       "    <tr>\n",
       "      <th>194211</th>\n",
       "      <td>3NP3dAJ</td>\n",
       "      <td>2000-02-29</td>\n",
       "      <td>FEM</td>\n",
       "      <td>18</td>\n",
       "    </tr>\n",
       "    <tr>\n",
       "      <th>186798</th>\n",
       "      <td>Bm5dkzR</td>\n",
       "      <td>2000-02-29</td>\n",
       "      <td>MASC</td>\n",
       "      <td>18</td>\n",
       "    </tr>\n",
       "    <tr>\n",
       "      <th>99625</th>\n",
       "      <td>xka3KJz</td>\n",
       "      <td>1996-02-29</td>\n",
       "      <td>MASC</td>\n",
       "      <td>22</td>\n",
       "    </tr>\n",
       "    <tr>\n",
       "      <th>73390</th>\n",
       "      <td>KBzQ4EX</td>\n",
       "      <td>1996-02-29</td>\n",
       "      <td>FEM</td>\n",
       "      <td>22</td>\n",
       "    </tr>\n",
       "    <tr>\n",
       "      <th>129557</th>\n",
       "      <td>rm05XGO</td>\n",
       "      <td>1996-02-29</td>\n",
       "      <td>FEM</td>\n",
       "      <td>22</td>\n",
       "    </tr>\n",
       "    <tr>\n",
       "      <th>129283</th>\n",
       "      <td>pzMVjZL</td>\n",
       "      <td>1996-02-29</td>\n",
       "      <td>FEM</td>\n",
       "      <td>22</td>\n",
       "    </tr>\n",
       "    <tr>\n",
       "      <th>128947</th>\n",
       "      <td>BmB6zNR</td>\n",
       "      <td>1996-02-29</td>\n",
       "      <td>MASC</td>\n",
       "      <td>22</td>\n",
       "    </tr>\n",
       "    <tr>\n",
       "      <th>118090</th>\n",
       "      <td>5mdVq4X</td>\n",
       "      <td>1996-02-29</td>\n",
       "      <td>FEM</td>\n",
       "      <td>22</td>\n",
       "    </tr>\n",
       "    <tr>\n",
       "      <th>111994</th>\n",
       "      <td>4rdGeJA</td>\n",
       "      <td>1996-02-29</td>\n",
       "      <td>FEM</td>\n",
       "      <td>22</td>\n",
       "    </tr>\n",
       "  </tbody>\n",
       "</table>\n",
       "</div>"
      ],
      "text/plain": [
       "       idpostulante fechanacimiento  sexo  edad\n",
       "197120      6rP38R3      2000-02-29   FEM    18\n",
       "194211      3NP3dAJ      2000-02-29   FEM    18\n",
       "186798      Bm5dkzR      2000-02-29  MASC    18\n",
       "99625       xka3KJz      1996-02-29  MASC    22\n",
       "73390       KBzQ4EX      1996-02-29   FEM    22\n",
       "129557      rm05XGO      1996-02-29   FEM    22\n",
       "129283      pzMVjZL      1996-02-29   FEM    22\n",
       "128947      BmB6zNR      1996-02-29  MASC    22\n",
       "118090      5mdVq4X      1996-02-29   FEM    22\n",
       "111994      4rdGeJA      1996-02-29   FEM    22"
      ]
     },
     "execution_count": 21,
     "metadata": {},
     "output_type": "execute_result"
    }
   ],
   "source": [
    "#Reviso la edad de las personas que cumplen años el 29/02\n",
    "\n",
    "postulantes_nacidos_en_febrero = postulantes_genero_y_edad.loc[postulantes_genero_y_edad['fechanacimiento'].dt.month == 2]\n",
    "postulantes_nacidos_en_febrero.loc[postulantes_nacidos_en_febrero['fechanacimiento'].dt.day == 29].sort_values('fechanacimiento',ascending = False).head(10)"
   ]
  },
  {
   "cell_type": "markdown",
   "metadata": {},
   "source": [
    "## Tercer dataframe: vistas"
   ]
  },
  {
   "cell_type": "code",
   "execution_count": 22,
   "metadata": {},
   "outputs": [
    {
     "data": {
      "text/html": [
       "<div>\n",
       "<style scoped>\n",
       "    .dataframe tbody tr th:only-of-type {\n",
       "        vertical-align: middle;\n",
       "    }\n",
       "\n",
       "    .dataframe tbody tr th {\n",
       "        vertical-align: top;\n",
       "    }\n",
       "\n",
       "    .dataframe thead th {\n",
       "        text-align: right;\n",
       "    }\n",
       "</style>\n",
       "<table border=\"1\" class=\"dataframe\">\n",
       "  <thead>\n",
       "    <tr style=\"text-align: right;\">\n",
       "      <th></th>\n",
       "      <th>idAviso</th>\n",
       "      <th>timestamp</th>\n",
       "      <th>idpostulante</th>\n",
       "    </tr>\n",
       "  </thead>\n",
       "  <tbody>\n",
       "    <tr>\n",
       "      <th>0</th>\n",
       "      <td>1111780242</td>\n",
       "      <td>2018-02-23T13:38:13.187-0500</td>\n",
       "      <td>YjVJQ6Z</td>\n",
       "    </tr>\n",
       "    <tr>\n",
       "      <th>1</th>\n",
       "      <td>1112263876</td>\n",
       "      <td>2018-02-23T13:38:14.296-0500</td>\n",
       "      <td>BmVpYoR</td>\n",
       "    </tr>\n",
       "    <tr>\n",
       "      <th>2</th>\n",
       "      <td>1112327963</td>\n",
       "      <td>2018-02-23T13:38:14.329-0500</td>\n",
       "      <td>wVkBzZd</td>\n",
       "    </tr>\n",
       "    <tr>\n",
       "      <th>3</th>\n",
       "      <td>1112318643</td>\n",
       "      <td>2018-02-23T13:38:17.921-0500</td>\n",
       "      <td>OqmP9pv</td>\n",
       "    </tr>\n",
       "    <tr>\n",
       "      <th>4</th>\n",
       "      <td>1111903673</td>\n",
       "      <td>2018-02-23T13:38:18.973-0500</td>\n",
       "      <td>DrpbXDP</td>\n",
       "    </tr>\n",
       "  </tbody>\n",
       "</table>\n",
       "</div>"
      ],
      "text/plain": [
       "      idAviso                     timestamp idpostulante\n",
       "0  1111780242  2018-02-23T13:38:13.187-0500      YjVJQ6Z\n",
       "1  1112263876  2018-02-23T13:38:14.296-0500      BmVpYoR\n",
       "2  1112327963  2018-02-23T13:38:14.329-0500      wVkBzZd\n",
       "3  1112318643  2018-02-23T13:38:17.921-0500      OqmP9pv\n",
       "4  1111903673  2018-02-23T13:38:18.973-0500      DrpbXDP"
      ]
     },
     "execution_count": 22,
     "metadata": {},
     "output_type": "execute_result"
    }
   ],
   "source": [
    "#Vistazo a la estructura del dataframe\n",
    "\n",
    "vistas.head()"
   ]
  },
  {
   "cell_type": "code",
   "execution_count": 23,
   "metadata": {},
   "outputs": [
    {
     "data": {
      "text/plain": [
       "(961897, 3)"
      ]
     },
     "execution_count": 23,
     "metadata": {},
     "output_type": "execute_result"
    }
   ],
   "source": [
    "#El dataframe posee 961897 registros\n",
    "\n",
    "vistas.shape"
   ]
  },
  {
   "cell_type": "code",
   "execution_count": 24,
   "metadata": {},
   "outputs": [
    {
     "data": {
      "text/plain": [
       "idAviso         False\n",
       "timestamp       False\n",
       "idpostulante    False\n",
       "dtype: bool"
      ]
     },
     "execution_count": 24,
     "metadata": {},
     "output_type": "execute_result"
    }
   ],
   "source": [
    "#No tenemos registros nulos\n",
    "\n",
    "vistas.isnull().any()"
   ]
  },
  {
   "cell_type": "code",
   "execution_count": 25,
   "metadata": {},
   "outputs": [
    {
     "data": {
      "text/plain": [
       "7458"
      ]
     },
     "execution_count": 25,
     "metadata": {},
     "output_type": "execute_result"
    }
   ],
   "source": [
    "#En este dataframe tenemos 7459 avisos únicos \n",
    "\n",
    "vistas['idAviso'].value_counts().size"
   ]
  },
  {
   "cell_type": "code",
   "execution_count": 26,
   "metadata": {
    "scrolled": true
   },
   "outputs": [
    {
     "data": {
      "text/plain": [
       "87443"
      ]
     },
     "execution_count": 26,
     "metadata": {},
     "output_type": "execute_result"
    }
   ],
   "source": [
    "#Y de los 200888 postulantes del dataset, solamente 87443 han visto al menos un aviso\n",
    "\n",
    "vistas['idpostulante'].value_counts().size"
   ]
  },
  {
   "cell_type": "code",
   "execution_count": 5,
   "metadata": {
    "scrolled": true
   },
   "outputs": [
    {
     "data": {
      "text/html": [
       "<div>\n",
       "<style scoped>\n",
       "    .dataframe tbody tr th:only-of-type {\n",
       "        vertical-align: middle;\n",
       "    }\n",
       "\n",
       "    .dataframe tbody tr th {\n",
       "        vertical-align: top;\n",
       "    }\n",
       "\n",
       "    .dataframe thead th {\n",
       "        text-align: right;\n",
       "    }\n",
       "</style>\n",
       "<table border=\"1\" class=\"dataframe\">\n",
       "  <thead>\n",
       "    <tr style=\"text-align: right;\">\n",
       "      <th></th>\n",
       "      <th>idAviso</th>\n",
       "      <th>timestamp</th>\n",
       "      <th>idpostulante</th>\n",
       "      <th>fechavisualizacion</th>\n",
       "      <th>horavisualizacion</th>\n",
       "    </tr>\n",
       "  </thead>\n",
       "  <tbody>\n",
       "    <tr>\n",
       "      <th>0</th>\n",
       "      <td>1111780242</td>\n",
       "      <td>2018-02-23 18:38:13.187</td>\n",
       "      <td>YjVJQ6Z</td>\n",
       "      <td>2018-02-23</td>\n",
       "      <td>18:38:13.187000</td>\n",
       "    </tr>\n",
       "    <tr>\n",
       "      <th>31485</th>\n",
       "      <td>1112341841</td>\n",
       "      <td>2018-02-23 21:51:51.982</td>\n",
       "      <td>ekormbo</td>\n",
       "      <td>2018-02-23</td>\n",
       "      <td>21:51:51.982000</td>\n",
       "    </tr>\n",
       "    <tr>\n",
       "      <th>31486</th>\n",
       "      <td>1112200601</td>\n",
       "      <td>2018-02-23 21:51:52.505</td>\n",
       "      <td>OqmKPMx</td>\n",
       "      <td>2018-02-23</td>\n",
       "      <td>21:51:52.505000</td>\n",
       "    </tr>\n",
       "    <tr>\n",
       "      <th>31487</th>\n",
       "      <td>1112359762</td>\n",
       "      <td>2018-02-23 21:51:53.945</td>\n",
       "      <td>dY5xDpa</td>\n",
       "      <td>2018-02-23</td>\n",
       "      <td>21:51:53.945000</td>\n",
       "    </tr>\n",
       "    <tr>\n",
       "      <th>31488</th>\n",
       "      <td>1112359762</td>\n",
       "      <td>2018-02-23 21:51:55.853</td>\n",
       "      <td>dY5xDpa</td>\n",
       "      <td>2018-02-23</td>\n",
       "      <td>21:51:55.853000</td>\n",
       "    </tr>\n",
       "    <tr>\n",
       "      <th>31489</th>\n",
       "      <td>1112325077</td>\n",
       "      <td>2018-02-23 21:51:56.130</td>\n",
       "      <td>LNMLjrb</td>\n",
       "      <td>2018-02-23</td>\n",
       "      <td>21:51:56.130000</td>\n",
       "    </tr>\n",
       "    <tr>\n",
       "      <th>31490</th>\n",
       "      <td>1112206678</td>\n",
       "      <td>2018-02-23 21:51:58.159</td>\n",
       "      <td>W9WedvX</td>\n",
       "      <td>2018-02-23</td>\n",
       "      <td>21:51:58.159000</td>\n",
       "    </tr>\n",
       "    <tr>\n",
       "      <th>31491</th>\n",
       "      <td>1112358985</td>\n",
       "      <td>2018-02-23 21:51:58.338</td>\n",
       "      <td>VNljdJj</td>\n",
       "      <td>2018-02-23</td>\n",
       "      <td>21:51:58.338000</td>\n",
       "    </tr>\n",
       "    <tr>\n",
       "      <th>31492</th>\n",
       "      <td>1112356859</td>\n",
       "      <td>2018-02-23 21:52:01.285</td>\n",
       "      <td>bOJwJp4</td>\n",
       "      <td>2018-02-23</td>\n",
       "      <td>21:52:01.285000</td>\n",
       "    </tr>\n",
       "    <tr>\n",
       "      <th>31493</th>\n",
       "      <td>1112359793</td>\n",
       "      <td>2018-02-23 21:52:01.696</td>\n",
       "      <td>8MaQjP3</td>\n",
       "      <td>2018-02-23</td>\n",
       "      <td>21:52:01.696000</td>\n",
       "    </tr>\n",
       "  </tbody>\n",
       "</table>\n",
       "</div>"
      ],
      "text/plain": [
       "          idAviso               timestamp idpostulante fechavisualizacion  \\\n",
       "0      1111780242 2018-02-23 18:38:13.187      YjVJQ6Z         2018-02-23   \n",
       "31485  1112341841 2018-02-23 21:51:51.982      ekormbo         2018-02-23   \n",
       "31486  1112200601 2018-02-23 21:51:52.505      OqmKPMx         2018-02-23   \n",
       "31487  1112359762 2018-02-23 21:51:53.945      dY5xDpa         2018-02-23   \n",
       "31488  1112359762 2018-02-23 21:51:55.853      dY5xDpa         2018-02-23   \n",
       "31489  1112325077 2018-02-23 21:51:56.130      LNMLjrb         2018-02-23   \n",
       "31490  1112206678 2018-02-23 21:51:58.159      W9WedvX         2018-02-23   \n",
       "31491  1112358985 2018-02-23 21:51:58.338      VNljdJj         2018-02-23   \n",
       "31492  1112356859 2018-02-23 21:52:01.285      bOJwJp4         2018-02-23   \n",
       "31493  1112359793 2018-02-23 21:52:01.696      8MaQjP3         2018-02-23   \n",
       "\n",
       "      horavisualizacion  \n",
       "0       18:38:13.187000  \n",
       "31485   21:51:51.982000  \n",
       "31486   21:51:52.505000  \n",
       "31487   21:51:53.945000  \n",
       "31488   21:51:55.853000  \n",
       "31489   21:51:56.130000  \n",
       "31490   21:51:58.159000  \n",
       "31491   21:51:58.338000  \n",
       "31492   21:52:01.285000  \n",
       "31493   21:52:01.696000  "
      ]
     },
     "execution_count": 5,
     "metadata": {},
     "output_type": "execute_result"
    }
   ],
   "source": [
    "#Ordeno la informacion sobre la fecha y hora de visualizaciones, modificando su formato y agregando columnas que me permitan\n",
    "#analizar de forma individual la fecha y la hora.\n",
    "\n",
    "vistas['timestamp'] = pd.to_datetime(vistas['timestamp'])\n",
    "vistas['fechavisualizacion'] = vistas['timestamp'].dt.date\n",
    "vistas['horavisualizacion'] = vistas['timestamp'].dt.time\n",
    "vistas.sort_values('fechavisualizacion').head(10)"
   ]
  },
  {
   "cell_type": "markdown",
   "metadata": {},
   "source": [
    "## Cuarto dataframe: postulaciones"
   ]
  },
  {
   "cell_type": "code",
   "execution_count": 4,
   "metadata": {},
   "outputs": [
    {
     "data": {
      "text/html": [
       "<div>\n",
       "<style scoped>\n",
       "    .dataframe tbody tr th:only-of-type {\n",
       "        vertical-align: middle;\n",
       "    }\n",
       "\n",
       "    .dataframe tbody tr th {\n",
       "        vertical-align: top;\n",
       "    }\n",
       "\n",
       "    .dataframe thead th {\n",
       "        text-align: right;\n",
       "    }\n",
       "</style>\n",
       "<table border=\"1\" class=\"dataframe\">\n",
       "  <thead>\n",
       "    <tr style=\"text-align: right;\">\n",
       "      <th></th>\n",
       "      <th>idaviso</th>\n",
       "      <th>idpostulante</th>\n",
       "      <th>fechapostulacion</th>\n",
       "    </tr>\n",
       "  </thead>\n",
       "  <tbody>\n",
       "    <tr>\n",
       "      <th>0</th>\n",
       "      <td>1112257047</td>\n",
       "      <td>NM5M</td>\n",
       "      <td>2018-01-15 16:22:34</td>\n",
       "    </tr>\n",
       "    <tr>\n",
       "      <th>1</th>\n",
       "      <td>1111920714</td>\n",
       "      <td>NM5M</td>\n",
       "      <td>2018-02-06 09:04:50</td>\n",
       "    </tr>\n",
       "    <tr>\n",
       "      <th>2</th>\n",
       "      <td>1112346945</td>\n",
       "      <td>NM5M</td>\n",
       "      <td>2018-02-22 09:04:47</td>\n",
       "    </tr>\n",
       "    <tr>\n",
       "      <th>3</th>\n",
       "      <td>1112345547</td>\n",
       "      <td>NM5M</td>\n",
       "      <td>2018-02-22 09:04:59</td>\n",
       "    </tr>\n",
       "    <tr>\n",
       "      <th>4</th>\n",
       "      <td>1112237522</td>\n",
       "      <td>5awk</td>\n",
       "      <td>2018-01-25 18:55:03</td>\n",
       "    </tr>\n",
       "  </tbody>\n",
       "</table>\n",
       "</div>"
      ],
      "text/plain": [
       "      idaviso idpostulante     fechapostulacion\n",
       "0  1112257047         NM5M  2018-01-15 16:22:34\n",
       "1  1111920714         NM5M  2018-02-06 09:04:50\n",
       "2  1112346945         NM5M  2018-02-22 09:04:47\n",
       "3  1112345547         NM5M  2018-02-22 09:04:59\n",
       "4  1112237522         5awk  2018-01-25 18:55:03"
      ]
     },
     "execution_count": 4,
     "metadata": {},
     "output_type": "execute_result"
    }
   ],
   "source": [
    "#Vistazo a la estructura del dataframe\n",
    "\n",
    "postulaciones.head()"
   ]
  },
  {
   "cell_type": "code",
   "execution_count": 29,
   "metadata": {},
   "outputs": [
    {
     "data": {
      "text/plain": [
       "(3401623, 3)"
      ]
     },
     "execution_count": 29,
     "metadata": {},
     "output_type": "execute_result"
    }
   ],
   "source": [
    "#Tenemos 3401623 registros\n",
    "\n",
    "postulaciones.shape"
   ]
  },
  {
   "cell_type": "code",
   "execution_count": 30,
   "metadata": {},
   "outputs": [
    {
     "data": {
      "text/plain": [
       "idaviso             False\n",
       "idpostulante        False\n",
       "fechapostulacion    False\n",
       "dtype: bool"
      ]
     },
     "execution_count": 30,
     "metadata": {},
     "output_type": "execute_result"
    }
   ],
   "source": [
    "#No hay registros nulos\n",
    "\n",
    "postulaciones.isnull().any()"
   ]
  },
  {
   "cell_type": "code",
   "execution_count": 31,
   "metadata": {},
   "outputs": [
    {
     "data": {
      "text/plain": [
       "12692"
      ]
     },
     "execution_count": 31,
     "metadata": {},
     "output_type": "execute_result"
    }
   ],
   "source": [
    "#Tenemos 12692 avisos con al menos una postulacion\n",
    "\n",
    "postulaciones['idaviso'].value_counts().size"
   ]
  },
  {
   "cell_type": "code",
   "execution_count": 32,
   "metadata": {},
   "outputs": [
    {
     "data": {
      "text/plain": [
       "200888"
      ]
     },
     "execution_count": 32,
     "metadata": {},
     "output_type": "execute_result"
    }
   ],
   "source": [
    "#Todos los postulantes del dataset se han postulado al menos a un aviso\n",
    "\n",
    "postulaciones['idpostulante'].value_counts().size"
   ]
  },
  {
   "cell_type": "code",
   "execution_count": 6,
   "metadata": {
    "scrolled": true
   },
   "outputs": [
    {
     "data": {
      "text/html": [
       "<div>\n",
       "<style scoped>\n",
       "    .dataframe tbody tr th:only-of-type {\n",
       "        vertical-align: middle;\n",
       "    }\n",
       "\n",
       "    .dataframe tbody tr th {\n",
       "        vertical-align: top;\n",
       "    }\n",
       "\n",
       "    .dataframe thead th {\n",
       "        text-align: right;\n",
       "    }\n",
       "</style>\n",
       "<table border=\"1\" class=\"dataframe\">\n",
       "  <thead>\n",
       "    <tr style=\"text-align: right;\">\n",
       "      <th></th>\n",
       "      <th>idaviso</th>\n",
       "      <th>idpostulante</th>\n",
       "      <th>fechahorapostulacion</th>\n",
       "      <th>fechapostulacion</th>\n",
       "      <th>horapostulacion</th>\n",
       "    </tr>\n",
       "  </thead>\n",
       "  <tbody>\n",
       "    <tr>\n",
       "      <th>0</th>\n",
       "      <td>1112257047</td>\n",
       "      <td>NM5M</td>\n",
       "      <td>2018-01-15 16:22:34</td>\n",
       "      <td>2018-01-15</td>\n",
       "      <td>16:22:34</td>\n",
       "    </tr>\n",
       "    <tr>\n",
       "      <th>736839</th>\n",
       "      <td>1112261550</td>\n",
       "      <td>qekqr4b</td>\n",
       "      <td>2018-01-15 19:00:07</td>\n",
       "      <td>2018-01-15</td>\n",
       "      <td>19:00:07</td>\n",
       "    </tr>\n",
       "    <tr>\n",
       "      <th>2524985</th>\n",
       "      <td>1112145604</td>\n",
       "      <td>N5Doal</td>\n",
       "      <td>2018-01-15 11:48:56</td>\n",
       "      <td>2018-01-15</td>\n",
       "      <td>11:48:56</td>\n",
       "    </tr>\n",
       "    <tr>\n",
       "      <th>2524984</th>\n",
       "      <td>1112239063</td>\n",
       "      <td>N5Doal</td>\n",
       "      <td>2018-01-15 11:44:57</td>\n",
       "      <td>2018-01-15</td>\n",
       "      <td>11:44:57</td>\n",
       "    </tr>\n",
       "    <tr>\n",
       "      <th>736893</th>\n",
       "      <td>1112257631</td>\n",
       "      <td>PmV48YJ</td>\n",
       "      <td>2018-01-15 10:12:34</td>\n",
       "      <td>2018-01-15</td>\n",
       "      <td>10:12:34</td>\n",
       "    </tr>\n",
       "    <tr>\n",
       "      <th>736894</th>\n",
       "      <td>1112261524</td>\n",
       "      <td>PmV48YJ</td>\n",
       "      <td>2018-01-15 16:26:58</td>\n",
       "      <td>2018-01-15</td>\n",
       "      <td>16:26:58</td>\n",
       "    </tr>\n",
       "    <tr>\n",
       "      <th>736941</th>\n",
       "      <td>1112245598</td>\n",
       "      <td>KBAvVxX</td>\n",
       "      <td>2018-01-15 22:41:33</td>\n",
       "      <td>2018-01-15</td>\n",
       "      <td>22:41:33</td>\n",
       "    </tr>\n",
       "    <tr>\n",
       "      <th>736942</th>\n",
       "      <td>1112247307</td>\n",
       "      <td>KBAvVxX</td>\n",
       "      <td>2018-01-15 22:42:12</td>\n",
       "      <td>2018-01-15</td>\n",
       "      <td>22:42:12</td>\n",
       "    </tr>\n",
       "    <tr>\n",
       "      <th>736943</th>\n",
       "      <td>1111936969</td>\n",
       "      <td>KBAvVxX</td>\n",
       "      <td>2018-01-15 22:42:56</td>\n",
       "      <td>2018-01-15</td>\n",
       "      <td>22:42:56</td>\n",
       "    </tr>\n",
       "    <tr>\n",
       "      <th>736944</th>\n",
       "      <td>1112251166</td>\n",
       "      <td>KBAvVxX</td>\n",
       "      <td>2018-01-15 22:43:08</td>\n",
       "      <td>2018-01-15</td>\n",
       "      <td>22:43:08</td>\n",
       "    </tr>\n",
       "  </tbody>\n",
       "</table>\n",
       "</div>"
      ],
      "text/plain": [
       "            idaviso idpostulante fechahorapostulacion fechapostulacion  \\\n",
       "0        1112257047         NM5M  2018-01-15 16:22:34       2018-01-15   \n",
       "736839   1112261550      qekqr4b  2018-01-15 19:00:07       2018-01-15   \n",
       "2524985  1112145604       N5Doal  2018-01-15 11:48:56       2018-01-15   \n",
       "2524984  1112239063       N5Doal  2018-01-15 11:44:57       2018-01-15   \n",
       "736893   1112257631      PmV48YJ  2018-01-15 10:12:34       2018-01-15   \n",
       "736894   1112261524      PmV48YJ  2018-01-15 16:26:58       2018-01-15   \n",
       "736941   1112245598      KBAvVxX  2018-01-15 22:41:33       2018-01-15   \n",
       "736942   1112247307      KBAvVxX  2018-01-15 22:42:12       2018-01-15   \n",
       "736943   1111936969      KBAvVxX  2018-01-15 22:42:56       2018-01-15   \n",
       "736944   1112251166      KBAvVxX  2018-01-15 22:43:08       2018-01-15   \n",
       "\n",
       "        horapostulacion  \n",
       "0              16:22:34  \n",
       "736839         19:00:07  \n",
       "2524985        11:48:56  \n",
       "2524984        11:44:57  \n",
       "736893         10:12:34  \n",
       "736894         16:26:58  \n",
       "736941         22:41:33  \n",
       "736942         22:42:12  \n",
       "736943         22:42:56  \n",
       "736944         22:43:08  "
      ]
     },
     "execution_count": 6,
     "metadata": {},
     "output_type": "execute_result"
    }
   ],
   "source": [
    "##Ordeno la informacion sobre la fecha y hora de postulación, modificando su formato y agregando columnas que me permitan\n",
    "#analizar de forma individual la fecha y la hora.\n",
    "\n",
    "postulaciones['fechapostulacion'] = pd.to_datetime(postulaciones['fechapostulacion'])\n",
    "postulaciones = postulaciones.rename(columns={'fechapostulacion':'fechahorapostulacion'})\n",
    "postulaciones['fechapostulacion'] = postulaciones['fechahorapostulacion'].dt.date\n",
    "postulaciones['horapostulacion'] = postulaciones['fechahorapostulacion'].dt.time\n",
    "\n",
    "postulaciones.sort_values('fechapostulacion').head(10)"
   ]
  },
  {
   "cell_type": "markdown",
   "metadata": {},
   "source": [
    "## Quinto dataframe: avisos_online"
   ]
  },
  {
   "cell_type": "code",
   "execution_count": 34,
   "metadata": {},
   "outputs": [
    {
     "data": {
      "text/html": [
       "<div>\n",
       "<style scoped>\n",
       "    .dataframe tbody tr th:only-of-type {\n",
       "        vertical-align: middle;\n",
       "    }\n",
       "\n",
       "    .dataframe tbody tr th {\n",
       "        vertical-align: top;\n",
       "    }\n",
       "\n",
       "    .dataframe thead th {\n",
       "        text-align: right;\n",
       "    }\n",
       "</style>\n",
       "<table border=\"1\" class=\"dataframe\">\n",
       "  <thead>\n",
       "    <tr style=\"text-align: right;\">\n",
       "      <th></th>\n",
       "      <th>idaviso</th>\n",
       "    </tr>\n",
       "  </thead>\n",
       "  <tbody>\n",
       "    <tr>\n",
       "      <th>0</th>\n",
       "      <td>1112355872</td>\n",
       "    </tr>\n",
       "    <tr>\n",
       "      <th>1</th>\n",
       "      <td>1112335374</td>\n",
       "    </tr>\n",
       "    <tr>\n",
       "      <th>2</th>\n",
       "      <td>1112374842</td>\n",
       "    </tr>\n",
       "    <tr>\n",
       "      <th>3</th>\n",
       "      <td>1111984070</td>\n",
       "    </tr>\n",
       "    <tr>\n",
       "      <th>4</th>\n",
       "      <td>1111822480</td>\n",
       "    </tr>\n",
       "  </tbody>\n",
       "</table>\n",
       "</div>"
      ],
      "text/plain": [
       "      idaviso\n",
       "0  1112355872\n",
       "1  1112335374\n",
       "2  1112374842\n",
       "3  1111984070\n",
       "4  1111822480"
      ]
     },
     "execution_count": 34,
     "metadata": {},
     "output_type": "execute_result"
    }
   ],
   "source": [
    "#Vistazo a la estructura del dataframe\n",
    "\n",
    "avisos_online.head()"
   ]
  },
  {
   "cell_type": "code",
   "execution_count": 35,
   "metadata": {},
   "outputs": [
    {
     "data": {
      "text/plain": [
       "(5028, 1)"
      ]
     },
     "execution_count": 35,
     "metadata": {},
     "output_type": "execute_result"
    }
   ],
   "source": [
    "#Existen 5028 avisos online\n",
    "\n",
    "avisos_online.shape"
   ]
  },
  {
   "cell_type": "code",
   "execution_count": 36,
   "metadata": {},
   "outputs": [
    {
     "data": {
      "text/plain": [
       "idaviso    False\n",
       "dtype: bool"
      ]
     },
     "execution_count": 36,
     "metadata": {},
     "output_type": "execute_result"
    }
   ],
   "source": [
    "#No hay registros nulos\n",
    "\n",
    "avisos_online.isnull().any()"
   ]
  },
  {
   "cell_type": "code",
   "execution_count": 37,
   "metadata": {},
   "outputs": [
    {
     "data": {
      "text/plain": [
       "5028"
      ]
     },
     "execution_count": 37,
     "metadata": {},
     "output_type": "execute_result"
    }
   ],
   "source": [
    "#Tampoco hay ids repetidos\n",
    "\n",
    "avisos_online['idaviso'].value_counts().size"
   ]
  },
  {
   "cell_type": "markdown",
   "metadata": {},
   "source": [
    "## Sexto dataframe: avisos_detalle"
   ]
  },
  {
   "cell_type": "code",
   "execution_count": 38,
   "metadata": {},
   "outputs": [
    {
     "data": {
      "text/html": [
       "<div>\n",
       "<style scoped>\n",
       "    .dataframe tbody tr th:only-of-type {\n",
       "        vertical-align: middle;\n",
       "    }\n",
       "\n",
       "    .dataframe tbody tr th {\n",
       "        vertical-align: top;\n",
       "    }\n",
       "\n",
       "    .dataframe thead th {\n",
       "        text-align: right;\n",
       "    }\n",
       "</style>\n",
       "<table border=\"1\" class=\"dataframe\">\n",
       "  <thead>\n",
       "    <tr style=\"text-align: right;\">\n",
       "      <th></th>\n",
       "      <th>idaviso</th>\n",
       "      <th>idpais</th>\n",
       "      <th>titulo</th>\n",
       "      <th>descripcion</th>\n",
       "      <th>nombre_zona</th>\n",
       "      <th>ciudad</th>\n",
       "      <th>mapacalle</th>\n",
       "      <th>tipo_de_trabajo</th>\n",
       "      <th>nivel_laboral</th>\n",
       "      <th>nombre_area</th>\n",
       "      <th>denominacion_empresa</th>\n",
       "    </tr>\n",
       "  </thead>\n",
       "  <tbody>\n",
       "    <tr>\n",
       "      <th>0</th>\n",
       "      <td>8725750</td>\n",
       "      <td>1</td>\n",
       "      <td>VENDEDOR/A PROVINCIA DE SANTA FE</td>\n",
       "      <td>&lt;p&gt;&lt;strong&gt;&lt;strong&gt;Empresa:&lt;/strong&gt;&lt;/strong&gt; ...</td>\n",
       "      <td>Gran Buenos Aires</td>\n",
       "      <td>NaN</td>\n",
       "      <td>NaN</td>\n",
       "      <td>Full-time</td>\n",
       "      <td>Senior / Semi-Senior</td>\n",
       "      <td>Comercial</td>\n",
       "      <td>VENTOR</td>\n",
       "    </tr>\n",
       "    <tr>\n",
       "      <th>1</th>\n",
       "      <td>17903700</td>\n",
       "      <td>1</td>\n",
       "      <td>Enfermeras</td>\n",
       "      <td>&lt;p&gt;Solicitamos para importante cadena de farma...</td>\n",
       "      <td>Gran Buenos Aires</td>\n",
       "      <td>NaN</td>\n",
       "      <td>NaN</td>\n",
       "      <td>Full-time</td>\n",
       "      <td>Senior / Semi-Senior</td>\n",
       "      <td>Salud</td>\n",
       "      <td>Farmacias Central Oeste</td>\n",
       "    </tr>\n",
       "    <tr>\n",
       "      <th>2</th>\n",
       "      <td>1000150677</td>\n",
       "      <td>1</td>\n",
       "      <td>Chofer de taxi</td>\n",
       "      <td>&lt;p&gt;TE GUSTA MANEJAR? QUERES GANAR PLATA HACIEN...</td>\n",
       "      <td>Capital Federal</td>\n",
       "      <td>NaN</td>\n",
       "      <td>Empedrado 2336</td>\n",
       "      <td>Full-time</td>\n",
       "      <td>Senior / Semi-Senior</td>\n",
       "      <td>Transporte</td>\n",
       "      <td>FAMITAX SRL</td>\n",
       "    </tr>\n",
       "    <tr>\n",
       "      <th>3</th>\n",
       "      <td>1000610287</td>\n",
       "      <td>1</td>\n",
       "      <td>CHOFER DE CAMIONETA BAHIA BLANCA - PUNTA ALTA</td>\n",
       "      <td>&lt;p&gt;&lt;strong&gt;Somos una empresa multinacional que...</td>\n",
       "      <td>Gran Buenos Aires</td>\n",
       "      <td>NaN</td>\n",
       "      <td>NaN</td>\n",
       "      <td>Full-time</td>\n",
       "      <td>Senior / Semi-Senior</td>\n",
       "      <td>Transporte</td>\n",
       "      <td>Wurth Argentina S.A</td>\n",
       "    </tr>\n",
       "    <tr>\n",
       "      <th>4</th>\n",
       "      <td>1000872556</td>\n",
       "      <td>1</td>\n",
       "      <td>Operarios de Planta - Rubro Electrodomésticos</td>\n",
       "      <td>&lt;p&gt;&lt;strong&gt;OPERARIOS DE PLANTA&lt;/strong&gt;&lt;/p&gt;&lt;p&gt;...</td>\n",
       "      <td>Gran Buenos Aires</td>\n",
       "      <td>NaN</td>\n",
       "      <td>NaN</td>\n",
       "      <td>Full-time</td>\n",
       "      <td>Senior / Semi-Senior</td>\n",
       "      <td>Producción</td>\n",
       "      <td>ELECTRO OUTLET SRL</td>\n",
       "    </tr>\n",
       "  </tbody>\n",
       "</table>\n",
       "</div>"
      ],
      "text/plain": [
       "      idaviso  idpais                                         titulo  \\\n",
       "0     8725750       1               VENDEDOR/A PROVINCIA DE SANTA FE   \n",
       "1    17903700       1                                     Enfermeras   \n",
       "2  1000150677       1                                 Chofer de taxi   \n",
       "3  1000610287       1  CHOFER DE CAMIONETA BAHIA BLANCA - PUNTA ALTA   \n",
       "4  1000872556       1  Operarios de Planta - Rubro Electrodomésticos   \n",
       "\n",
       "                                         descripcion        nombre_zona  \\\n",
       "0  <p><strong><strong>Empresa:</strong></strong> ...  Gran Buenos Aires   \n",
       "1  <p>Solicitamos para importante cadena de farma...  Gran Buenos Aires   \n",
       "2  <p>TE GUSTA MANEJAR? QUERES GANAR PLATA HACIEN...    Capital Federal   \n",
       "3  <p><strong>Somos una empresa multinacional que...  Gran Buenos Aires   \n",
       "4  <p><strong>OPERARIOS DE PLANTA</strong></p><p>...  Gran Buenos Aires   \n",
       "\n",
       "  ciudad       mapacalle tipo_de_trabajo         nivel_laboral nombre_area  \\\n",
       "0    NaN             NaN       Full-time  Senior / Semi-Senior   Comercial   \n",
       "1    NaN             NaN       Full-time  Senior / Semi-Senior       Salud   \n",
       "2    NaN  Empedrado 2336       Full-time  Senior / Semi-Senior  Transporte   \n",
       "3    NaN             NaN       Full-time  Senior / Semi-Senior  Transporte   \n",
       "4    NaN             NaN       Full-time  Senior / Semi-Senior  Producción   \n",
       "\n",
       "      denominacion_empresa  \n",
       "0                   VENTOR  \n",
       "1  Farmacias Central Oeste  \n",
       "2              FAMITAX SRL  \n",
       "3      Wurth Argentina S.A  \n",
       "4       ELECTRO OUTLET SRL  "
      ]
     },
     "execution_count": 38,
     "metadata": {},
     "output_type": "execute_result"
    }
   ],
   "source": [
    "#Vistazo a la estructura del dataframe\n",
    "\n",
    "avisos_detalle.head()"
   ]
  },
  {
   "cell_type": "code",
   "execution_count": 39,
   "metadata": {},
   "outputs": [
    {
     "data": {
      "text/plain": [
       "(13534, 11)"
      ]
     },
     "execution_count": 39,
     "metadata": {},
     "output_type": "execute_result"
    }
   ],
   "source": [
    "#Existen 13534 avisos contra los 5028 que teniamos en avisos_online. Significa que los restantes 8506 están inactivos?\n",
    "\n",
    "avisos_detalle.shape"
   ]
  },
  {
   "cell_type": "code",
   "execution_count": 40,
   "metadata": {},
   "outputs": [
    {
     "data": {
      "text/plain": [
       "idaviso                 False\n",
       "idpais                  False\n",
       "titulo                  False\n",
       "descripcion             False\n",
       "nombre_zona             False\n",
       "ciudad                   True\n",
       "mapacalle                True\n",
       "tipo_de_trabajo         False\n",
       "nivel_laboral           False\n",
       "nombre_area             False\n",
       "denominacion_empresa     True\n",
       "dtype: bool"
      ]
     },
     "execution_count": 40,
     "metadata": {},
     "output_type": "execute_result"
    }
   ],
   "source": [
    "#Tenemos nulos en los campos ciudad, mapa y denominacion_empresa\n",
    "\n",
    "avisos_detalle.isnull().any()"
   ]
  },
  {
   "cell_type": "code",
   "execution_count": 41,
   "metadata": {},
   "outputs": [
    {
     "data": {
      "text/plain": [
       "(13487, 11)"
      ]
     },
     "execution_count": 41,
     "metadata": {},
     "output_type": "execute_result"
    }
   ],
   "source": [
    "#13487 no tienen registrada la ciudad\n",
    "\n",
    "avisos_detalle.loc[avisos_detalle['ciudad'].isnull()].shape"
   ]
  },
  {
   "cell_type": "code",
   "execution_count": 42,
   "metadata": {},
   "outputs": [
    {
     "data": {
      "text/plain": [
       "(5, 11)"
      ]
     },
     "execution_count": 42,
     "metadata": {},
     "output_type": "execute_result"
    }
   ],
   "source": [
    "#Cinco avisos no tienen registrada la empresa que lleva a cabo la búsqueda\n",
    "\n",
    "avisos_detalle.loc[avisos_detalle['denominacion_empresa'].isnull()].shape"
   ]
  },
  {
   "cell_type": "code",
   "execution_count": 43,
   "metadata": {},
   "outputs": [
    {
     "data": {
      "text/plain": [
       "1    13534\n",
       "Name: idpais, dtype: int64"
      ]
     },
     "execution_count": 43,
     "metadata": {},
     "output_type": "execute_result"
    }
   ],
   "source": [
    "#Todos los avisos son del mismo país\n",
    "\n",
    "avisos_detalle['idpais'].value_counts()"
   ]
  },
  {
   "cell_type": "code",
   "execution_count": 44,
   "metadata": {
    "scrolled": true
   },
   "outputs": [
    {
     "data": {
      "text/plain": [
       "Gran Buenos Aires              12654\n",
       "Capital Federal                  876\n",
       "GBA Oeste                          2\n",
       "Buenos Aires (fuera de GBA)        2\n",
       "Name: nombre_zona, dtype: int64"
      ]
     },
     "execution_count": 44,
     "metadata": {},
     "output_type": "execute_result"
    }
   ],
   "source": [
    "#Zonas entre las que se reparten los avisos, podemos corroborar que todos los avisos \n",
    "#corresponden a Buenos Aires como dice la consigna\n",
    "\n",
    "avisos_detalle['nombre_zona'].value_counts()"
   ]
  },
  {
   "cell_type": "markdown",
   "metadata": {},
   "source": [
    "# Exploración de los datos"
   ]
  },
  {
   "cell_type": "markdown",
   "metadata": {},
   "source": [
    "## Cantidad de postulaciones a lo largo del tiempo"
   ]
  },
  {
   "cell_type": "markdown",
   "metadata": {},
   "source": [
    "\n",
    "### Postulaciones por día a lo largo del set de datos"
   ]
  },
  {
   "cell_type": "code",
   "execution_count": 17,
   "metadata": {},
   "outputs": [
    {
     "data": {
      "image/png": "[encoded data removed]",
      "text/plain": [
       "<matplotlib.figure.Figure at 0x66ae7f0>"
      ]
     },
     "metadata": {},
     "output_type": "display_data"
    }
   ],
   "source": [
    "#Observamos un ciclo, aproximadamente cada una semana se da una descenso muy marcado en la cantidad de postulaciones\n",
    "\n",
    "postulaciones['fechahorapostulacion'].dt.date.value_counts().sort_index().plot(kind='line',figsize=(15,5))\n",
    "plt.title(\"Postulaciones por dia a lo largo del set de datos\", size=20)\n",
    "plt.xlabel(\"Dias\",size=15)\n",
    "plt.ylabel(\"Postulaciones\",size=15)\n",
    "plt.show()"
   ]
  },
  {
   "cell_type": "markdown",
   "metadata": {},
   "source": [
    "### ¿Se ven afectadas las postulaciones según el día de la semana en el que estamos?"
   ]
  },
  {
   "cell_type": "code",
   "execution_count": 8,
   "metadata": {},
   "outputs": [
    {
     "data": {
      "text/html": [
       "<div>\n",
       "<style scoped>\n",
       "    .dataframe tbody tr th:only-of-type {\n",
       "        vertical-align: middle;\n",
       "    }\n",
       "\n",
       "    .dataframe tbody tr th {\n",
       "        vertical-align: top;\n",
       "    }\n",
       "\n",
       "    .dataframe thead th {\n",
       "        text-align: right;\n",
       "    }\n",
       "</style>\n",
       "<table border=\"1\" class=\"dataframe\">\n",
       "  <thead>\n",
       "    <tr style=\"text-align: right;\">\n",
       "      <th></th>\n",
       "      <th>idaviso</th>\n",
       "      <th>idpostulante</th>\n",
       "      <th>fechahorapostulacion</th>\n",
       "      <th>fechapostulacion</th>\n",
       "      <th>horapostulacion</th>\n",
       "      <th>diapostulacion</th>\n",
       "    </tr>\n",
       "  </thead>\n",
       "  <tbody>\n",
       "    <tr>\n",
       "      <th>0</th>\n",
       "      <td>1112257047</td>\n",
       "      <td>NM5M</td>\n",
       "      <td>2018-01-15 16:22:34</td>\n",
       "      <td>2018-01-15</td>\n",
       "      <td>16:22:34</td>\n",
       "      <td>Monday</td>\n",
       "    </tr>\n",
       "    <tr>\n",
       "      <th>1</th>\n",
       "      <td>1111920714</td>\n",
       "      <td>NM5M</td>\n",
       "      <td>2018-02-06 09:04:50</td>\n",
       "      <td>2018-02-06</td>\n",
       "      <td>09:04:50</td>\n",
       "      <td>Tuesday</td>\n",
       "    </tr>\n",
       "    <tr>\n",
       "      <th>2</th>\n",
       "      <td>1112346945</td>\n",
       "      <td>NM5M</td>\n",
       "      <td>2018-02-22 09:04:47</td>\n",
       "      <td>2018-02-22</td>\n",
       "      <td>09:04:47</td>\n",
       "      <td>Thursday</td>\n",
       "    </tr>\n",
       "    <tr>\n",
       "      <th>3</th>\n",
       "      <td>1112345547</td>\n",
       "      <td>NM5M</td>\n",
       "      <td>2018-02-22 09:04:59</td>\n",
       "      <td>2018-02-22</td>\n",
       "      <td>09:04:59</td>\n",
       "      <td>Thursday</td>\n",
       "    </tr>\n",
       "    <tr>\n",
       "      <th>4</th>\n",
       "      <td>1112237522</td>\n",
       "      <td>5awk</td>\n",
       "      <td>2018-01-25 18:55:03</td>\n",
       "      <td>2018-01-25</td>\n",
       "      <td>18:55:03</td>\n",
       "      <td>Thursday</td>\n",
       "    </tr>\n",
       "  </tbody>\n",
       "</table>\n",
       "</div>"
      ],
      "text/plain": [
       "      idaviso idpostulante fechahorapostulacion fechapostulacion  \\\n",
       "0  1112257047         NM5M  2018-01-15 16:22:34       2018-01-15   \n",
       "1  1111920714         NM5M  2018-02-06 09:04:50       2018-02-06   \n",
       "2  1112346945         NM5M  2018-02-22 09:04:47       2018-02-22   \n",
       "3  1112345547         NM5M  2018-02-22 09:04:59       2018-02-22   \n",
       "4  1112237522         5awk  2018-01-25 18:55:03       2018-01-25   \n",
       "\n",
       "  horapostulacion diapostulacion  \n",
       "0        16:22:34         Monday  \n",
       "1        09:04:50        Tuesday  \n",
       "2        09:04:47       Thursday  \n",
       "3        09:04:59       Thursday  \n",
       "4        18:55:03       Thursday  "
      ]
     },
     "execution_count": 8,
     "metadata": {},
     "output_type": "execute_result"
    }
   ],
   "source": [
    "#Vamos a responder a la pregunta, para ello pimero necesito identificar en qué día de la semana se realizó cada una\n",
    "#de las postulaciones del set de datos\n",
    "\n",
    "postulaciones['diapostulacion'] = postulaciones['fechahorapostulacion'].dt.weekday_name\n",
    "postulaciones.head()"
   ]
  },
  {
   "cell_type": "code",
   "execution_count": 9,
   "metadata": {},
   "outputs": [
    {
     "data": {
      "text/plain": [
       "Wednesday    677836\n",
       "Monday       668310\n",
       "Tuesday      658428\n",
       "Thursday     506163\n",
       "Friday       446698\n",
       "Sunday       226857\n",
       "Saturday     217331\n",
       "Name: diapostulacion, dtype: int64"
      ]
     },
     "execution_count": 9,
     "metadata": {},
     "output_type": "execute_result"
    }
   ],
   "source": [
    "#Veamos cómo se distribuyen las postulaciones según en qué día de la semana estamos\n",
    "\n",
    "postulaciones_segun_dia = postulaciones['diapostulacion'].value_counts()\n",
    "postulaciones_segun_dia"
   ]
  },
  {
   "cell_type": "code",
   "execution_count": 12,
   "metadata": {},
   "outputs": [
    {
     "data": {
      "image/png": "[encoded data removed]",
      "text/plain": [
       "<matplotlib.figure.Figure at 0x13138438>"
      ]
     },
     "metadata": {},
     "output_type": "display_data"
    }
   ],
   "source": [
    "#Ahora lo volcamos a un gráfico para comunicar el resultado.\n",
    "#La respuesta a la pegunta que formulamos claramente es sí.\n",
    "#Podemos ver cómo decae la actividad durante la segunda mitad de la semana y cómo se concentra en sus \n",
    "#primeros tres días hábiles.\n",
    "\n",
    "postulaciones_segun_dia.plot(kind=\"barh\", figsize=(15,8),grid=True)\n",
    "plt.title('Postulaciones segun dia de la semana',fontsize=20)\n",
    "plt.xlabel(\"Cantidad de postulaciones\",fontsize=15)\n",
    "plt.ylabel(\"Dia de la semana\", fontsize=15)\n",
    "plt.show()"
   ]
  },
  {
   "cell_type": "markdown",
   "metadata": {},
   "source": [
    "### Actividad durante el dia más concurrido de la semana"
   ]
  },
  {
   "cell_type": "code",
   "execution_count": 13,
   "metadata": {},
   "outputs": [],
   "source": [
    "#Obtengo todas las postulaciones de los miércoles\n",
    "\n",
    "postulaciones_miercoles = postulaciones.loc[postulaciones['diapostulacion'] == 'Wednesday']"
   ]
  },
  {
   "cell_type": "code",
   "execution_count": 14,
   "metadata": {},
   "outputs": [
    {
     "data": {
      "image/png": "[encoded data removed]",
      "text/plain": [
       "<matplotlib.figure.Figure at 0xf8a4908>"
      ]
     },
     "metadata": {},
     "output_type": "display_data"
    }
   ],
   "source": [
    "#Vemos que el pico de postulaciones se produce durante el transcurso de las 9 AM y a partir de allí sigue una tendencia\n",
    "#descendente salvo una ligera remontada a las 13 hs (Break para almorzar?)\n",
    "\n",
    "postulaciones_miercoles['fechahorapostulacion'].dt.hour.value_counts().sort_index().plot(kind='bar', figsize=(15,8), grid=True)\n",
    "plt.title('Postulaciones de los miercoles  segun hora del dia',fontsize=20)\n",
    "plt.xlabel(\"Hora del dia\",fontsize=15)\n",
    "plt.ylabel(\"Cantidad de postulaciones\", fontsize=15)\n",
    "plt.show()"
   ]
  },
  {
   "cell_type": "markdown",
   "metadata": {},
   "source": [
    "## Cantidad de avisos"
   ]
  },
  {
   "cell_type": "markdown",
   "metadata": {},
   "source": [
    "###  Cantidad de avisos según nivel laboral "
   ]
  },
  {
   "cell_type": "code",
   "execution_count": 18,
   "metadata": {},
   "outputs": [
    {
     "data": {
      "image/png": "[encoded data removed]",
      "text/plain": [
       "<matplotlib.figure.Figure at 0x353faf28>"
      ]
     },
     "metadata": {},
     "output_type": "display_data"
    }
   ],
   "source": [
    "avisos_detalle['nivel_laboral'].value_counts().head().sort_values().plot(kind='barh', figsize=(15,8))\n",
    "plt.title('Cantidad de avisos segun nivel laboral', fontsize = 20)\n",
    "plt.ylabel('Nivel laboral', fontsize = 15)\n",
    "plt.xlabel('Cantidad de avisos', fontsize = 15)\n",
    "plt.show()"
   ]
  },
  {
   "cell_type": "markdown",
   "metadata": {},
   "source": [
    "### Cantidad de avisos por empresa "
   ]
  },
  {
   "cell_type": "code",
   "execution_count": 19,
   "metadata": {},
   "outputs": [
    {
     "data": {
      "image/png": "[encoded data removed]",
      "text/plain": [
       "<matplotlib.figure.Figure at 0x2b0490b8>"
      ]
     },
     "metadata": {},
     "output_type": "display_data"
    }
   ],
   "source": [
    "avisos_detalle['denominacion_empresa'].value_counts().head().sort_values().plot(kind='barh', figsize=(15,8))\n",
    "plt.title('Cantidad de avisos por empresa', fontsize = 20)\n",
    "plt.ylabel('Empresa', fontsize = 15)\n",
    "plt.xlabel('Cantidad de avisos', fontsize = 15)\n",
    "plt.show()"
   ]
  },
  {
   "cell_type": "markdown",
   "metadata": {},
   "source": [
    "### Cantidad de avisos por zona "
   ]
  },
  {
   "cell_type": "code",
   "execution_count": 20,
   "metadata": {},
   "outputs": [
    {
     "data": {
      "image/png": "[encoded data removed]",
      "text/plain": [
       "<matplotlib.figure.Figure at 0x2ec05b38>"
      ]
     },
     "metadata": {},
     "output_type": "display_data"
    }
   ],
   "source": [
    "avisos_detalle['nombre_zona'].value_counts().head(2).plot(kind='bar',rot=0, figsize=(10,5))\n",
    "plt.title(\"Cantidad de avisos por zona\", size=20)\n",
    "plt.xlabel(\"Zona\",size=15)\n",
    "plt.ylabel(\"Avisos\",size=15)\n",
    "plt.show()"
   ]
  },
  {
   "cell_type": "markdown",
   "metadata": {},
   "source": [
    "### Cantidad de avisos por tipo de trabajo "
   ]
  },
  {
   "cell_type": "code",
   "execution_count": 21,
   "metadata": {},
   "outputs": [
    {
     "data": {
      "image/png": "[encoded data removed]",
      "text/plain": [
       "<matplotlib.figure.Figure at 0x1c2d82b0>"
      ]
     },
     "metadata": {},
     "output_type": "display_data"
    }
   ],
   "source": [
    "avisos_detalle['tipo_de_trabajo'].value_counts().sort_values().plot(logx=True,kind='barh',figsize=(15,5))\n",
    "plt.title(\"Cantidad de avisos por tipo de trabajo\", size=20)\n",
    "plt.xlabel(\"Avisos(log)\",size=15)\n",
    "plt.ylabel(\"Tipo de trabajo\",size=15)\n",
    "plt.show()"
   ]
  },
  {
   "cell_type": "markdown",
   "metadata": {},
   "source": [
    "### Cantidad de avisos por area "
   ]
  },
  {
   "cell_type": "code",
   "execution_count": 22,
   "metadata": {},
   "outputs": [
    {
     "data": {
      "image/png": "[encoded data removed]",
      "text/plain": [
       "<matplotlib.figure.Figure at 0x1e972eb8>"
      ]
     },
     "metadata": {},
     "output_type": "display_data"
    }
   ],
   "source": [
    "avisos_detalle['nombre_area'].value_counts().head(10).sort_values().plot(kind='barh',figsize=(15,5))\n",
    "plt.title(\"Cantidad de avisos por area\", size=20)\n",
    "plt.ylabel(\"Areas\",size=15)\n",
    "plt.xlabel(\"Avisos\",size=15)\n",
    "plt.show()"
   ]
  },
  {
   "cell_type": "markdown",
   "metadata": {},
   "source": [
    "## Cantidad de postulantes "
   ]
  },
  {
   "cell_type": "markdown",
   "metadata": {},
   "source": [
    "### Cantidad de postulantes por educacion y estado"
   ]
  },
  {
   "cell_type": "code",
   "execution_count": 25,
   "metadata": {},
   "outputs": [
    {
     "data": {
      "image/png": "[encoded data removed]",
      "text/plain": [
       "<matplotlib.figure.Figure at 0x35ddfc50>"
      ]
     },
     "metadata": {},
     "output_type": "display_data"
    }
   ],
   "source": [
    "postulantes_educacion.groupby(['gradoactual','estado']).count().unstack()['idpostulante'].drop(['Master','Doctorado','Otro']).plot(kind='bar',rot=80, figsize=(15,5))\n",
    "plt.title(\"Cantidad de postulantes por tipo de educacion y estado\", size=20)\n",
    "plt.xlabel(\"Educacion\",size=15)\n",
    "plt.ylabel(\"Postulantes\",size=15)\n",
    "plt.show()"
   ]
  },
  {
   "cell_type": "markdown",
   "metadata": {},
   "source": [
    "### Top 10 edades  que más postulan"
   ]
  },
  {
   "cell_type": "code",
   "execution_count": 26,
   "metadata": {},
   "outputs": [
    {
     "data": {
      "image/png": "[encoded data removed]",
      "text/plain": [
       "<matplotlib.figure.Figure at 0x189fde80>"
      ]
     },
     "metadata": {},
     "output_type": "display_data"
    }
   ],
   "source": [
    "postulantes_genero_y_edad['edad'].value_counts().head(10).sort_values().plot(kind='bar', rot=0, figsize=(15,5))\n",
    "plt.title(\"Top 10 postulantes por edad\", size=20)\n",
    "plt.xlabel(\"Edad\", size=15)\n",
    "plt.ylabel(\"Postulantes\",size=15)\n",
    "plt.show()"
   ]
  },
  {
   "cell_type": "markdown",
   "metadata": {},
   "source": [
    "### Cantidaad de postulantes por género"
   ]
  },
  {
   "cell_type": "code",
   "execution_count": 27,
   "metadata": {},
   "outputs": [
    {
     "data": {
      "image/png": "[encoded data removed]",
      "text/plain": [
       "<matplotlib.figure.Figure at 0x3ad364a8>"
      ]
     },
     "metadata": {},
     "output_type": "display_data"
    }
   ],
   "source": [
    "postulantes_genero_y_edad['sexo'].value_counts().drop('NO_DECLARA').plot(kind='bar',rot=0,figsize=(8,5))\n",
    "plt.title(\"Cantidad de postulantes por genero\",size=20)\n",
    "plt.xlabel(\"Genero\",size=15)\n",
    "plt.ylabel(\"Postulantes\",size=15)\n",
    "plt.show()"
   ]
  },
  {
   "cell_type": "markdown",
   "metadata": {},
   "source": [
    "## Áreas mas vistas en general"
   ]
  },
  {
   "cell_type": "markdown",
   "metadata": {},
   "source": [
    "### Áreas más vistas a nivel general"
   ]
  },
  {
   "cell_type": "code",
   "execution_count": 28,
   "metadata": {},
   "outputs": [
    {
     "data": {
      "text/html": [
       "<div>\n",
       "<style scoped>\n",
       "    .dataframe tbody tr th:only-of-type {\n",
       "        vertical-align: middle;\n",
       "    }\n",
       "\n",
       "    .dataframe tbody tr th {\n",
       "        vertical-align: top;\n",
       "    }\n",
       "\n",
       "    .dataframe thead th {\n",
       "        text-align: right;\n",
       "    }\n",
       "</style>\n",
       "<table border=\"1\" class=\"dataframe\">\n",
       "  <thead>\n",
       "    <tr style=\"text-align: right;\">\n",
       "      <th></th>\n",
       "      <th>idaviso</th>\n",
       "      <th>nombre_zona</th>\n",
       "      <th>tipo_de_trabajo</th>\n",
       "      <th>nivel_laboral</th>\n",
       "      <th>nombre_area</th>\n",
       "    </tr>\n",
       "  </thead>\n",
       "  <tbody>\n",
       "    <tr>\n",
       "      <th>0</th>\n",
       "      <td>8725750</td>\n",
       "      <td>Gran Buenos Aires</td>\n",
       "      <td>Full-time</td>\n",
       "      <td>Senior / Semi-Senior</td>\n",
       "      <td>Comercial</td>\n",
       "    </tr>\n",
       "    <tr>\n",
       "      <th>1</th>\n",
       "      <td>17903700</td>\n",
       "      <td>Gran Buenos Aires</td>\n",
       "      <td>Full-time</td>\n",
       "      <td>Senior / Semi-Senior</td>\n",
       "      <td>Salud</td>\n",
       "    </tr>\n",
       "    <tr>\n",
       "      <th>2</th>\n",
       "      <td>1000150677</td>\n",
       "      <td>Capital Federal</td>\n",
       "      <td>Full-time</td>\n",
       "      <td>Senior / Semi-Senior</td>\n",
       "      <td>Transporte</td>\n",
       "    </tr>\n",
       "    <tr>\n",
       "      <th>3</th>\n",
       "      <td>1000610287</td>\n",
       "      <td>Gran Buenos Aires</td>\n",
       "      <td>Full-time</td>\n",
       "      <td>Senior / Semi-Senior</td>\n",
       "      <td>Transporte</td>\n",
       "    </tr>\n",
       "    <tr>\n",
       "      <th>4</th>\n",
       "      <td>1000872556</td>\n",
       "      <td>Gran Buenos Aires</td>\n",
       "      <td>Full-time</td>\n",
       "      <td>Senior / Semi-Senior</td>\n",
       "      <td>Producción</td>\n",
       "    </tr>\n",
       "  </tbody>\n",
       "</table>\n",
       "</div>"
      ],
      "text/plain": [
       "      idaviso        nombre_zona tipo_de_trabajo         nivel_laboral  \\\n",
       "0     8725750  Gran Buenos Aires       Full-time  Senior / Semi-Senior   \n",
       "1    17903700  Gran Buenos Aires       Full-time  Senior / Semi-Senior   \n",
       "2  1000150677    Capital Federal       Full-time  Senior / Semi-Senior   \n",
       "3  1000610287  Gran Buenos Aires       Full-time  Senior / Semi-Senior   \n",
       "4  1000872556  Gran Buenos Aires       Full-time  Senior / Semi-Senior   \n",
       "\n",
       "  nombre_area  \n",
       "0   Comercial  \n",
       "1       Salud  \n",
       "2  Transporte  \n",
       "3  Transporte  \n",
       "4  Producción  "
      ]
     },
     "execution_count": 28,
     "metadata": {},
     "output_type": "execute_result"
    }
   ],
   "source": [
    "df_avisos_detalle_min = avisos_detalle.drop(['titulo','idpais','descripcion','ciudad','mapacalle','denominacion_empresa'],axis=1)\n",
    "df_avisos_detalle_min.head()"
   ]
  },
  {
   "cell_type": "code",
   "execution_count": 43,
   "metadata": {},
   "outputs": [
    {
     "data": {
      "text/html": [
       "<div>\n",
       "<style scoped>\n",
       "    .dataframe tbody tr th:only-of-type {\n",
       "        vertical-align: middle;\n",
       "    }\n",
       "\n",
       "    .dataframe tbody tr th {\n",
       "        vertical-align: top;\n",
       "    }\n",
       "\n",
       "    .dataframe thead th {\n",
       "        text-align: right;\n",
       "    }\n",
       "</style>\n",
       "<table border=\"1\" class=\"dataframe\">\n",
       "  <thead>\n",
       "    <tr style=\"text-align: right;\">\n",
       "      <th></th>\n",
       "      <th>idpostulante</th>\n",
       "      <th>fechanacimiento</th>\n",
       "      <th>sexo</th>\n",
       "      <th>edad</th>\n",
       "      <th>idaviso</th>\n",
       "      <th>fechavisualizacion</th>\n",
       "      <th>horavisualizacion</th>\n",
       "      <th>nombre_zona</th>\n",
       "      <th>tipo_de_trabajo</th>\n",
       "      <th>nivel_laboral</th>\n",
       "      <th>nombre_area</th>\n",
       "      <th>gradoactual</th>\n",
       "      <th>estado</th>\n",
       "    </tr>\n",
       "  </thead>\n",
       "  <tbody>\n",
       "    <tr>\n",
       "      <th>0</th>\n",
       "      <td>5awk</td>\n",
       "      <td>1962-12-04</td>\n",
       "      <td>FEM</td>\n",
       "      <td>55</td>\n",
       "      <td>1112315188</td>\n",
       "      <td>2018-02-28</td>\n",
       "      <td>20:53:48.610000</td>\n",
       "      <td>Gran Buenos Aires</td>\n",
       "      <td>Full-time</td>\n",
       "      <td>Senior / Semi-Senior</td>\n",
       "      <td>Contabilidad</td>\n",
       "      <td>Universitario</td>\n",
       "      <td>Graduado</td>\n",
       "    </tr>\n",
       "    <tr>\n",
       "      <th>1</th>\n",
       "      <td>5awk</td>\n",
       "      <td>1962-12-04</td>\n",
       "      <td>FEM</td>\n",
       "      <td>55</td>\n",
       "      <td>1112315188</td>\n",
       "      <td>2018-02-28</td>\n",
       "      <td>20:53:48.610000</td>\n",
       "      <td>Gran Buenos Aires</td>\n",
       "      <td>Full-time</td>\n",
       "      <td>Senior / Semi-Senior</td>\n",
       "      <td>Contabilidad</td>\n",
       "      <td>Terciario/Técnico</td>\n",
       "      <td>Graduado</td>\n",
       "    </tr>\n",
       "    <tr>\n",
       "      <th>2</th>\n",
       "      <td>5awk</td>\n",
       "      <td>1962-12-04</td>\n",
       "      <td>FEM</td>\n",
       "      <td>55</td>\n",
       "      <td>1112315188</td>\n",
       "      <td>2018-02-28</td>\n",
       "      <td>21:14:05.411000</td>\n",
       "      <td>Gran Buenos Aires</td>\n",
       "      <td>Full-time</td>\n",
       "      <td>Senior / Semi-Senior</td>\n",
       "      <td>Contabilidad</td>\n",
       "      <td>Universitario</td>\n",
       "      <td>Graduado</td>\n",
       "    </tr>\n",
       "    <tr>\n",
       "      <th>3</th>\n",
       "      <td>5awk</td>\n",
       "      <td>1962-12-04</td>\n",
       "      <td>FEM</td>\n",
       "      <td>55</td>\n",
       "      <td>1112315188</td>\n",
       "      <td>2018-02-28</td>\n",
       "      <td>21:14:05.411000</td>\n",
       "      <td>Gran Buenos Aires</td>\n",
       "      <td>Full-time</td>\n",
       "      <td>Senior / Semi-Senior</td>\n",
       "      <td>Contabilidad</td>\n",
       "      <td>Terciario/Técnico</td>\n",
       "      <td>Graduado</td>\n",
       "    </tr>\n",
       "    <tr>\n",
       "      <th>4</th>\n",
       "      <td>5awk</td>\n",
       "      <td>1962-12-04</td>\n",
       "      <td>FEM</td>\n",
       "      <td>55</td>\n",
       "      <td>1112315188</td>\n",
       "      <td>2018-02-28</td>\n",
       "      <td>21:14:04.673000</td>\n",
       "      <td>Gran Buenos Aires</td>\n",
       "      <td>Full-time</td>\n",
       "      <td>Senior / Semi-Senior</td>\n",
       "      <td>Contabilidad</td>\n",
       "      <td>Universitario</td>\n",
       "      <td>Graduado</td>\n",
       "    </tr>\n",
       "  </tbody>\n",
       "</table>\n",
       "</div>"
      ],
      "text/plain": [
       "  idpostulante fechanacimiento sexo  edad     idaviso fechavisualizacion  \\\n",
       "0         5awk      1962-12-04  FEM    55  1112315188         2018-02-28   \n",
       "1         5awk      1962-12-04  FEM    55  1112315188         2018-02-28   \n",
       "2         5awk      1962-12-04  FEM    55  1112315188         2018-02-28   \n",
       "3         5awk      1962-12-04  FEM    55  1112315188         2018-02-28   \n",
       "4         5awk      1962-12-04  FEM    55  1112315188         2018-02-28   \n",
       "\n",
       "  horavisualizacion        nombre_zona tipo_de_trabajo         nivel_laboral  \\\n",
       "0   20:53:48.610000  Gran Buenos Aires       Full-time  Senior / Semi-Senior   \n",
       "1   20:53:48.610000  Gran Buenos Aires       Full-time  Senior / Semi-Senior   \n",
       "2   21:14:05.411000  Gran Buenos Aires       Full-time  Senior / Semi-Senior   \n",
       "3   21:14:05.411000  Gran Buenos Aires       Full-time  Senior / Semi-Senior   \n",
       "4   21:14:04.673000  Gran Buenos Aires       Full-time  Senior / Semi-Senior   \n",
       "\n",
       "    nombre_area        gradoactual    estado  \n",
       "0  Contabilidad      Universitario  Graduado  \n",
       "1  Contabilidad  Terciario/Técnico  Graduado  \n",
       "2  Contabilidad      Universitario  Graduado  \n",
       "3  Contabilidad  Terciario/Técnico  Graduado  \n",
       "4  Contabilidad      Universitario  Graduado  "
      ]
     },
     "execution_count": 43,
     "metadata": {},
     "output_type": "execute_result"
    }
   ],
   "source": [
    "df_merge = postulantes_genero_y_edad.merge(vistas,how='inner',on='idpostulante').drop('timestamp', axis=1).rename(str.lower, axis=1)\n",
    "df_merge = df_merge.merge(df_avisos_detalle_min,how='inner',on='idaviso')\n",
    "df_merge = df_merge.merge(postulantes_educacion,how='inner',on='idpostulante').rename({'nombre':'educacion'}, axis=1)\n",
    "df_merge.head()"
   ]
  },
  {
   "cell_type": "code",
   "execution_count": 33,
   "metadata": {},
   "outputs": [
    {
     "data": {
      "image/png": "[encoded data removed]",
      "text/plain": [
       "<matplotlib.figure.Figure at 0x38bd5780>"
      ]
     },
     "metadata": {},
     "output_type": "display_data"
    }
   ],
   "source": [
    "df_merge['nombre_area'].value_counts().head(10).sort_values().plot(kind='barh',figsize=(15,8))\n",
    "plt.title(\"Areas mas vistas en general\", size=20)\n",
    "plt.ylabel(\"Area\", size=15)\n",
    "plt.xlabel(\"Cantidad de vistas\", size=15)\n",
    "plt.show()"
   ]
  },
  {
   "cell_type": "markdown",
   "metadata": {},
   "source": [
    "### Areas mas vistas por el genero fememino "
   ]
  },
  {
   "cell_type": "code",
   "execution_count": 34,
   "metadata": {},
   "outputs": [
    {
     "data": {
      "image/png": "[encoded data removed]",
      "text/plain": [
       "<matplotlib.figure.Figure at 0x3b1443c8>"
      ]
     },
     "metadata": {},
     "output_type": "display_data"
    }
   ],
   "source": [
    "df_merge.groupby(['sexo','nombre_area']).count()['idpostulante']['FEM'].sort_values(ascending=False).head(10).sort_values().plot(kind='barh',figsize=(15,5))\n",
    "plt.title(\"Areas mas vistas por el genero fememino\", size=20)\n",
    "plt.ylabel(\"Area\", size=15)\n",
    "plt.xlabel(\"Cantidad de vistas\", size=15)\n",
    "plt.show()"
   ]
  },
  {
   "cell_type": "markdown",
   "metadata": {},
   "source": [
    "### Areas mas vistas por el genero masculino "
   ]
  },
  {
   "cell_type": "code",
   "execution_count": 35,
   "metadata": {},
   "outputs": [
    {
     "data": {
      "image/png": "[encoded data removed]",
      "text/plain": [
       "<matplotlib.figure.Figure at 0x3a493278>"
      ]
     },
     "metadata": {},
     "output_type": "display_data"
    }
   ],
   "source": [
    "df_merge.groupby(['sexo','nombre_area']).count()['idpostulante']['MASC'].sort_values(ascending=False).head(10).sort_values().plot(kind='barh',figsize=(15,5))\n",
    "plt.title(\"Areas mas vistas por el genero masculino\", size=20)\n",
    "plt.ylabel(\"Area\", size=15)\n",
    "plt.xlabel(\"Cantidad de vistas\", size=15)\n",
    "plt.show()"
   ]
  },
  {
   "cell_type": "markdown",
   "metadata": {},
   "source": [
    "### Areas mas vistas, nivel universitario"
   ]
  },
  {
   "cell_type": "code",
   "execution_count": 36,
   "metadata": {},
   "outputs": [
    {
     "data": {
      "image/png": "[encoded data removed]",
      "text/plain": [
       "<matplotlib.figure.Figure at 0x3c6b4828>"
      ]
     },
     "metadata": {},
     "output_type": "display_data"
    }
   ],
   "source": [
    "df_merge.groupby(['gradoactual','nombre_area']).count()['idpostulante']['Universitario'].sort_values(ascending=False).head(10).sort_values().plot(kind='barh',figsize=(15,5))\n",
    "plt.title(\"Areas mas vistas, universitarios\", size=20)\n",
    "plt.ylabel(\"Area\", size=15)\n",
    "plt.xlabel(\"Cantidad de vistas\", size=15)\n",
    "plt.show()"
   ]
  },
  {
   "cell_type": "markdown",
   "metadata": {},
   "source": [
    "### Areas mas vistas, nivel secundario "
   ]
  },
  {
   "cell_type": "code",
   "execution_count": 37,
   "metadata": {},
   "outputs": [
    {
     "data": {
      "image/png": "[encoded data removed]",
      "text/plain": [
       "<matplotlib.figure.Figure at 0x3571fe80>"
      ]
     },
     "metadata": {},
     "output_type": "display_data"
    }
   ],
   "source": [
    "df_merge.groupby(['gradoactual','nombre_area']).count()['idpostulante']['Secundario'].sort_values(ascending=False).head(10).sort_values().plot(kind='barh',figsize=(15,5))\n",
    "plt.title(\"Areas mas vistas, secundario\", size=20)\n",
    "plt.ylabel(\"Area\", size=15)\n",
    "plt.xlabel(\"Cantidad de vistas\", size=15)\n",
    "plt.show()"
   ]
  },
  {
   "cell_type": "markdown",
   "metadata": {},
   "source": [
    "## Areas mas postuladas "
   ]
  },
  {
   "cell_type": "markdown",
   "metadata": {},
   "source": [
    "### Top 10 áreas de trabajo con más postulaciones"
   ]
  },
  {
   "cell_type": "code",
   "execution_count": 44,
   "metadata": {},
   "outputs": [
    {
     "data": {
      "text/html": [
       "<div>\n",
       "<style scoped>\n",
       "    .dataframe tbody tr th:only-of-type {\n",
       "        vertical-align: middle;\n",
       "    }\n",
       "\n",
       "    .dataframe tbody tr th {\n",
       "        vertical-align: top;\n",
       "    }\n",
       "\n",
       "    .dataframe thead th {\n",
       "        text-align: right;\n",
       "    }\n",
       "</style>\n",
       "<table border=\"1\" class=\"dataframe\">\n",
       "  <thead>\n",
       "    <tr style=\"text-align: right;\">\n",
       "      <th></th>\n",
       "      <th>idaviso</th>\n",
       "      <th>idpais</th>\n",
       "      <th>titulo</th>\n",
       "      <th>descripcion</th>\n",
       "      <th>nombre_zona</th>\n",
       "      <th>ciudad</th>\n",
       "      <th>mapacalle</th>\n",
       "      <th>tipo_de_trabajo</th>\n",
       "      <th>nivel_laboral</th>\n",
       "      <th>nombre_area</th>\n",
       "      <th>denominacion_empresa</th>\n",
       "      <th>idpostulante</th>\n",
       "      <th>fechahorapostulacion</th>\n",
       "      <th>fechapostulacion</th>\n",
       "      <th>horapostulacion</th>\n",
       "      <th>diapostulacion</th>\n",
       "    </tr>\n",
       "  </thead>\n",
       "  <tbody>\n",
       "    <tr>\n",
       "      <th>0</th>\n",
       "      <td>8725750</td>\n",
       "      <td>1</td>\n",
       "      <td>VENDEDOR/A PROVINCIA DE SANTA FE</td>\n",
       "      <td>&lt;p&gt;&lt;strong&gt;&lt;strong&gt;Empresa:&lt;/strong&gt;&lt;/strong&gt; ...</td>\n",
       "      <td>Gran Buenos Aires</td>\n",
       "      <td>NaN</td>\n",
       "      <td>NaN</td>\n",
       "      <td>Full-time</td>\n",
       "      <td>Senior / Semi-Senior</td>\n",
       "      <td>Comercial</td>\n",
       "      <td>VENTOR</td>\n",
       "      <td>4rWEjrA</td>\n",
       "      <td>2018-01-16 21:58:40</td>\n",
       "      <td>2018-01-16</td>\n",
       "      <td>21:58:40</td>\n",
       "      <td>Tuesday</td>\n",
       "    </tr>\n",
       "    <tr>\n",
       "      <th>1</th>\n",
       "      <td>8725750</td>\n",
       "      <td>1</td>\n",
       "      <td>VENDEDOR/A PROVINCIA DE SANTA FE</td>\n",
       "      <td>&lt;p&gt;&lt;strong&gt;&lt;strong&gt;Empresa:&lt;/strong&gt;&lt;/strong&gt; ...</td>\n",
       "      <td>Gran Buenos Aires</td>\n",
       "      <td>NaN</td>\n",
       "      <td>NaN</td>\n",
       "      <td>Full-time</td>\n",
       "      <td>Senior / Semi-Senior</td>\n",
       "      <td>Comercial</td>\n",
       "      <td>VENTOR</td>\n",
       "      <td>qewD0aR</td>\n",
       "      <td>2018-02-06 15:51:54</td>\n",
       "      <td>2018-02-06</td>\n",
       "      <td>15:51:54</td>\n",
       "      <td>Tuesday</td>\n",
       "    </tr>\n",
       "    <tr>\n",
       "      <th>2</th>\n",
       "      <td>8725750</td>\n",
       "      <td>1</td>\n",
       "      <td>VENDEDOR/A PROVINCIA DE SANTA FE</td>\n",
       "      <td>&lt;p&gt;&lt;strong&gt;&lt;strong&gt;Empresa:&lt;/strong&gt;&lt;/strong&gt; ...</td>\n",
       "      <td>Gran Buenos Aires</td>\n",
       "      <td>NaN</td>\n",
       "      <td>NaN</td>\n",
       "      <td>Full-time</td>\n",
       "      <td>Senior / Semi-Senior</td>\n",
       "      <td>Comercial</td>\n",
       "      <td>VENTOR</td>\n",
       "      <td>3N2dBdq</td>\n",
       "      <td>2018-02-08 10:49:43</td>\n",
       "      <td>2018-02-08</td>\n",
       "      <td>10:49:43</td>\n",
       "      <td>Thursday</td>\n",
       "    </tr>\n",
       "    <tr>\n",
       "      <th>3</th>\n",
       "      <td>8725750</td>\n",
       "      <td>1</td>\n",
       "      <td>VENDEDOR/A PROVINCIA DE SANTA FE</td>\n",
       "      <td>&lt;p&gt;&lt;strong&gt;&lt;strong&gt;Empresa:&lt;/strong&gt;&lt;/strong&gt; ...</td>\n",
       "      <td>Gran Buenos Aires</td>\n",
       "      <td>NaN</td>\n",
       "      <td>NaN</td>\n",
       "      <td>Full-time</td>\n",
       "      <td>Senior / Semi-Senior</td>\n",
       "      <td>Comercial</td>\n",
       "      <td>VENTOR</td>\n",
       "      <td>0zkx2dY</td>\n",
       "      <td>2018-02-07 06:32:25</td>\n",
       "      <td>2018-02-07</td>\n",
       "      <td>06:32:25</td>\n",
       "      <td>Wednesday</td>\n",
       "    </tr>\n",
       "    <tr>\n",
       "      <th>4</th>\n",
       "      <td>8725750</td>\n",
       "      <td>1</td>\n",
       "      <td>VENDEDOR/A PROVINCIA DE SANTA FE</td>\n",
       "      <td>&lt;p&gt;&lt;strong&gt;&lt;strong&gt;Empresa:&lt;/strong&gt;&lt;/strong&gt; ...</td>\n",
       "      <td>Gran Buenos Aires</td>\n",
       "      <td>NaN</td>\n",
       "      <td>NaN</td>\n",
       "      <td>Full-time</td>\n",
       "      <td>Senior / Semi-Senior</td>\n",
       "      <td>Comercial</td>\n",
       "      <td>VENTOR</td>\n",
       "      <td>ZDrdPVR</td>\n",
       "      <td>2018-01-15 09:23:40</td>\n",
       "      <td>2018-01-15</td>\n",
       "      <td>09:23:40</td>\n",
       "      <td>Monday</td>\n",
       "    </tr>\n",
       "  </tbody>\n",
       "</table>\n",
       "</div>"
      ],
      "text/plain": [
       "   idaviso  idpais                            titulo  \\\n",
       "0  8725750       1  VENDEDOR/A PROVINCIA DE SANTA FE   \n",
       "1  8725750       1  VENDEDOR/A PROVINCIA DE SANTA FE   \n",
       "2  8725750       1  VENDEDOR/A PROVINCIA DE SANTA FE   \n",
       "3  8725750       1  VENDEDOR/A PROVINCIA DE SANTA FE   \n",
       "4  8725750       1  VENDEDOR/A PROVINCIA DE SANTA FE   \n",
       "\n",
       "                                         descripcion        nombre_zona  \\\n",
       "0  <p><strong><strong>Empresa:</strong></strong> ...  Gran Buenos Aires   \n",
       "1  <p><strong><strong>Empresa:</strong></strong> ...  Gran Buenos Aires   \n",
       "2  <p><strong><strong>Empresa:</strong></strong> ...  Gran Buenos Aires   \n",
       "3  <p><strong><strong>Empresa:</strong></strong> ...  Gran Buenos Aires   \n",
       "4  <p><strong><strong>Empresa:</strong></strong> ...  Gran Buenos Aires   \n",
       "\n",
       "  ciudad mapacalle tipo_de_trabajo         nivel_laboral nombre_area  \\\n",
       "0    NaN       NaN       Full-time  Senior / Semi-Senior   Comercial   \n",
       "1    NaN       NaN       Full-time  Senior / Semi-Senior   Comercial   \n",
       "2    NaN       NaN       Full-time  Senior / Semi-Senior   Comercial   \n",
       "3    NaN       NaN       Full-time  Senior / Semi-Senior   Comercial   \n",
       "4    NaN       NaN       Full-time  Senior / Semi-Senior   Comercial   \n",
       "\n",
       "  denominacion_empresa idpostulante fechahorapostulacion fechapostulacion  \\\n",
       "0               VENTOR      4rWEjrA  2018-01-16 21:58:40       2018-01-16   \n",
       "1               VENTOR      qewD0aR  2018-02-06 15:51:54       2018-02-06   \n",
       "2               VENTOR      3N2dBdq  2018-02-08 10:49:43       2018-02-08   \n",
       "3               VENTOR      0zkx2dY  2018-02-07 06:32:25       2018-02-07   \n",
       "4               VENTOR      ZDrdPVR  2018-01-15 09:23:40       2018-01-15   \n",
       "\n",
       "  horapostulacion diapostulacion  \n",
       "0        21:58:40        Tuesday  \n",
       "1        15:51:54        Tuesday  \n",
       "2        10:49:43       Thursday  \n",
       "3        06:32:25      Wednesday  \n",
       "4        09:23:40         Monday  "
      ]
     },
     "execution_count": 44,
     "metadata": {},
     "output_type": "execute_result"
    }
   ],
   "source": [
    "#Para averiguarlo, vamos a tener que juntar el df de postulaciones con el de avisos_detalle\n",
    "\n",
    "postulaciones_x_avisos_detalle = pd.merge(avisos_detalle, postulaciones, on='idaviso', how='inner')\n",
    "postulaciones_x_avisos_detalle.head()"
   ]
  },
  {
   "cell_type": "code",
   "execution_count": 45,
   "metadata": {},
   "outputs": [],
   "source": [
    "#Obtengo las diez areas con mas postulaciones\n",
    "\n",
    "top_10_areas_con_mas_postulaciones = postulaciones_x_avisos_detalle.groupby('nombre_area').agg({'idaviso':'count'}).sort_values('idaviso',ascending=False).head(10)"
   ]
  },
  {
   "cell_type": "code",
   "execution_count": 47,
   "metadata": {
    "scrolled": false
   },
   "outputs": [
    {
     "data": {
      "image/png": "[encoded data removed]",
      "text/plain": [
       "<matplotlib.figure.Figure at 0x3c9b7f28>"
      ]
     },
     "metadata": {},
     "output_type": "display_data"
    }
   ],
   "source": [
    "#Podemos observar que más del 50% de las postulaciones se reparten entre las áreas de call center, \n",
    "#recepcionista, atención al cliente, comercial, producción, administración y ventas.\n",
    "plot = top_10_areas_con_mas_postulaciones.plot(kind='barh',grid=True,figsize=(15,8))\n",
    "plt.title('Top 10 areas con mas postulaciones', size=20)\n",
    "plt.xlabel(\"Cantidad de postulaciones\", size=15)\n",
    "plt.ylabel(\"Area de trabajo\", size=15)\n",
    "plt.show()"
   ]
  },
  {
   "cell_type": "markdown",
   "metadata": {},
   "source": [
    "### Distribucion de edades de postulantes dentro de las 10 áreas más populares\n"
   ]
  },
  {
   "cell_type": "code",
   "execution_count": 48,
   "metadata": {},
   "outputs": [],
   "source": [
    "#Voy a seguir usando el mismo df que obtuve del merge anterior, ahora lo junto con postulantes_genero_y_edad para obtener las \n",
    "#edades de quienes postulan\n",
    "\n",
    "postulaciones_x_avisos_detalle_x_postulantes = pd.merge(postulaciones_x_avisos_detalle, postulantes_genero_y_edad, on='idpostulante', how='inner')"
   ]
  },
  {
   "cell_type": "code",
   "execution_count": 49,
   "metadata": {},
   "outputs": [],
   "source": [
    "#Del dataframe que acabo de formar me quedo solamente con los registros que pertenecen a las diez areas observadas\n",
    "\n",
    "top_10_areas_con_mas_postulaciones = top_10_areas_con_mas_postulaciones.reset_index()\n",
    "avisos_de_areas_con_mas_postulantes = pd.merge(postulaciones_x_avisos_detalle_x_postulantes, top_10_areas_con_mas_postulaciones, on='nombre_area', how='inner')"
   ]
  },
  {
   "cell_type": "code",
   "execution_count": 75,
   "metadata": {},
   "outputs": [
    {
     "data": {
      "text/html": [
       "<div>\n",
       "<style scoped>\n",
       "    .dataframe tbody tr th:only-of-type {\n",
       "        vertical-align: middle;\n",
       "    }\n",
       "\n",
       "    .dataframe tbody tr th {\n",
       "        vertical-align: top;\n",
       "    }\n",
       "\n",
       "    .dataframe thead th {\n",
       "        text-align: right;\n",
       "    }\n",
       "</style>\n",
       "<table border=\"1\" class=\"dataframe\">\n",
       "  <thead>\n",
       "    <tr style=\"text-align: right;\">\n",
       "      <th></th>\n",
       "      <th>idaviso_x</th>\n",
       "      <th>idpais</th>\n",
       "      <th>titulo</th>\n",
       "      <th>descripcion</th>\n",
       "      <th>nombre_zona</th>\n",
       "      <th>ciudad</th>\n",
       "      <th>mapacalle</th>\n",
       "      <th>tipo_de_trabajo</th>\n",
       "      <th>nivel_laboral</th>\n",
       "      <th>nombre_area</th>\n",
       "      <th>...</th>\n",
       "      <th>fechahorapostulacion</th>\n",
       "      <th>fechapostulacion</th>\n",
       "      <th>horapostulacion</th>\n",
       "      <th>Month</th>\n",
       "      <th>Number</th>\n",
       "      <th>diapostulacion</th>\n",
       "      <th>fechanacimiento</th>\n",
       "      <th>sexo</th>\n",
       "      <th>edad</th>\n",
       "      <th>idaviso_y</th>\n",
       "    </tr>\n",
       "  </thead>\n",
       "  <tbody>\n",
       "    <tr>\n",
       "      <th>0</th>\n",
       "      <td>8725750</td>\n",
       "      <td>1</td>\n",
       "      <td>VENDEDOR/A PROVINCIA DE SANTA FE</td>\n",
       "      <td>&lt;p&gt;&lt;strong&gt;&lt;strong&gt;Empresa:&lt;/strong&gt;&lt;/strong&gt; ...</td>\n",
       "      <td>Gran Buenos Aires</td>\n",
       "      <td>NaN</td>\n",
       "      <td>NaN</td>\n",
       "      <td>Full-time</td>\n",
       "      <td>Senior / Semi-Senior</td>\n",
       "      <td>Comercial</td>\n",
       "      <td>...</td>\n",
       "      <td>2018-01-16 21:58:40</td>\n",
       "      <td>2018-01-16</td>\n",
       "      <td>21:58:40</td>\n",
       "      <td>Jan</td>\n",
       "      <td>16</td>\n",
       "      <td>Tuesday</td>\n",
       "      <td>1984-06-08</td>\n",
       "      <td>MASC</td>\n",
       "      <td>33</td>\n",
       "      <td>216677</td>\n",
       "    </tr>\n",
       "    <tr>\n",
       "      <th>1</th>\n",
       "      <td>1112160508</td>\n",
       "      <td>1</td>\n",
       "      <td>Ejecutivo/a de Ventas para atender clientes re...</td>\n",
       "      <td>&lt;p&gt; &lt;/p&gt;&lt;p style=\"\"&gt;&lt;strong&gt;&lt;span style=\"\"&gt;Ade...</td>\n",
       "      <td>Gran Buenos Aires</td>\n",
       "      <td>NaN</td>\n",
       "      <td>NaN</td>\n",
       "      <td>Full-time</td>\n",
       "      <td>Senior / Semi-Senior</td>\n",
       "      <td>Comercial</td>\n",
       "      <td>...</td>\n",
       "      <td>2018-01-15 22:46:36</td>\n",
       "      <td>2018-01-15</td>\n",
       "      <td>22:46:36</td>\n",
       "      <td>Jan</td>\n",
       "      <td>15</td>\n",
       "      <td>Monday</td>\n",
       "      <td>1984-06-08</td>\n",
       "      <td>MASC</td>\n",
       "      <td>33</td>\n",
       "      <td>216677</td>\n",
       "    </tr>\n",
       "    <tr>\n",
       "      <th>2</th>\n",
       "      <td>1112293493</td>\n",
       "      <td>1</td>\n",
       "      <td>Asesor Comercial SSR - Teletrabajo. Rosario</td>\n",
       "      <td>&lt;p&gt;&lt;em&gt;&lt;strong&gt;Para prestigiosa firma dedicada...</td>\n",
       "      <td>Gran Buenos Aires</td>\n",
       "      <td>NaN</td>\n",
       "      <td>NaN</td>\n",
       "      <td>Teletrabajo</td>\n",
       "      <td>Senior / Semi-Senior</td>\n",
       "      <td>Comercial</td>\n",
       "      <td>...</td>\n",
       "      <td>2018-02-20 12:11:26</td>\n",
       "      <td>2018-02-20</td>\n",
       "      <td>12:11:26</td>\n",
       "      <td>Feb</td>\n",
       "      <td>20</td>\n",
       "      <td>Tuesday</td>\n",
       "      <td>1984-06-08</td>\n",
       "      <td>MASC</td>\n",
       "      <td>33</td>\n",
       "      <td>216677</td>\n",
       "    </tr>\n",
       "    <tr>\n",
       "      <th>3</th>\n",
       "      <td>1112241972</td>\n",
       "      <td>1</td>\n",
       "      <td>Ejecutivo de cuentas para empresa de tecnologi...</td>\n",
       "      <td>&lt;p&gt;Entre sus tareas mas importantes se encuent...</td>\n",
       "      <td>Gran Buenos Aires</td>\n",
       "      <td>NaN</td>\n",
       "      <td>NaN</td>\n",
       "      <td>Full-time</td>\n",
       "      <td>Senior / Semi-Senior</td>\n",
       "      <td>Comercial</td>\n",
       "      <td>...</td>\n",
       "      <td>2018-02-15 22:38:24</td>\n",
       "      <td>2018-02-15</td>\n",
       "      <td>22:38:24</td>\n",
       "      <td>Feb</td>\n",
       "      <td>15</td>\n",
       "      <td>Thursday</td>\n",
       "      <td>1984-06-08</td>\n",
       "      <td>MASC</td>\n",
       "      <td>33</td>\n",
       "      <td>216677</td>\n",
       "    </tr>\n",
       "    <tr>\n",
       "      <th>4</th>\n",
       "      <td>1112336366</td>\n",
       "      <td>1</td>\n",
       "      <td>Ejecutivo de Ventas  (Rosario)</td>\n",
       "      <td>&lt;p&gt;&lt;span lang=\"ES\"&gt;LoJack se encuentra en búsq...</td>\n",
       "      <td>Gran Buenos Aires</td>\n",
       "      <td>NaN</td>\n",
       "      <td>NaN</td>\n",
       "      <td>Full-time</td>\n",
       "      <td>Senior / Semi-Senior</td>\n",
       "      <td>Comercial</td>\n",
       "      <td>...</td>\n",
       "      <td>2018-02-15 22:39:56</td>\n",
       "      <td>2018-02-15</td>\n",
       "      <td>22:39:56</td>\n",
       "      <td>Feb</td>\n",
       "      <td>15</td>\n",
       "      <td>Thursday</td>\n",
       "      <td>1984-06-08</td>\n",
       "      <td>MASC</td>\n",
       "      <td>33</td>\n",
       "      <td>216677</td>\n",
       "    </tr>\n",
       "  </tbody>\n",
       "</table>\n",
       "<p>5 rows × 22 columns</p>\n",
       "</div>"
      ],
      "text/plain": [
       "    idaviso_x  idpais                                             titulo  \\\n",
       "0     8725750       1                   VENDEDOR/A PROVINCIA DE SANTA FE   \n",
       "1  1112160508       1  Ejecutivo/a de Ventas para atender clientes re...   \n",
       "2  1112293493       1        Asesor Comercial SSR - Teletrabajo. Rosario   \n",
       "3  1112241972       1  Ejecutivo de cuentas para empresa de tecnologi...   \n",
       "4  1112336366       1                     Ejecutivo de Ventas  (Rosario)   \n",
       "\n",
       "                                         descripcion        nombre_zona  \\\n",
       "0  <p><strong><strong>Empresa:</strong></strong> ...  Gran Buenos Aires   \n",
       "1  <p> </p><p style=\"\"><strong><span style=\"\">Ade...  Gran Buenos Aires   \n",
       "2  <p><em><strong>Para prestigiosa firma dedicada...  Gran Buenos Aires   \n",
       "3  <p>Entre sus tareas mas importantes se encuent...  Gran Buenos Aires   \n",
       "4  <p><span lang=\"ES\">LoJack se encuentra en búsq...  Gran Buenos Aires   \n",
       "\n",
       "  ciudad mapacalle tipo_de_trabajo         nivel_laboral nombre_area  \\\n",
       "0    NaN       NaN       Full-time  Senior / Semi-Senior   Comercial   \n",
       "1    NaN       NaN       Full-time  Senior / Semi-Senior   Comercial   \n",
       "2    NaN       NaN     Teletrabajo  Senior / Semi-Senior   Comercial   \n",
       "3    NaN       NaN       Full-time  Senior / Semi-Senior   Comercial   \n",
       "4    NaN       NaN       Full-time  Senior / Semi-Senior   Comercial   \n",
       "\n",
       "     ...    fechahorapostulacion fechapostulacion horapostulacion Month  \\\n",
       "0    ...     2018-01-16 21:58:40       2018-01-16        21:58:40   Jan   \n",
       "1    ...     2018-01-15 22:46:36       2018-01-15        22:46:36   Jan   \n",
       "2    ...     2018-02-20 12:11:26       2018-02-20        12:11:26   Feb   \n",
       "3    ...     2018-02-15 22:38:24       2018-02-15        22:38:24   Feb   \n",
       "4    ...     2018-02-15 22:39:56       2018-02-15        22:39:56   Feb   \n",
       "\n",
       "  Number diapostulacion  fechanacimiento  sexo edad idaviso_y  \n",
       "0     16        Tuesday       1984-06-08  MASC   33    216677  \n",
       "1     15         Monday       1984-06-08  MASC   33    216677  \n",
       "2     20        Tuesday       1984-06-08  MASC   33    216677  \n",
       "3     15       Thursday       1984-06-08  MASC   33    216677  \n",
       "4     15       Thursday       1984-06-08  MASC   33    216677  \n",
       "\n",
       "[5 rows x 22 columns]"
      ]
     },
     "execution_count": 75,
     "metadata": {},
     "output_type": "execute_result"
    }
   ],
   "source": [
    "avisos_de_areas_con_mas_postulantes.head()"
   ]
  },
  {
   "cell_type": "code",
   "execution_count": 50,
   "metadata": {},
   "outputs": [],
   "source": [
    "#Tabla pivot para poder graficar un heatmap\n",
    "\n",
    "tabla_pivot_avisos=avisos_de_areas_con_mas_postulantes.pivot_table(index='edad', columns='nombre_area', values='idaviso_x', aggfunc='count')"
   ]
  },
  {
   "cell_type": "code",
   "execution_count": 51,
   "metadata": {
    "scrolled": true
   },
   "outputs": [],
   "source": [
    "#Cambio los nombres de las columnas para evitar problemas con las tildes\n",
    "\n",
    "tabla_pivot_avisos=tabla_pivot_avisos.rename(columns={'Administración':'Administracion','Atención al Cliente':'Atencion al Cliente','Producción':'Produccion','Tesorería':'Tesoreria'})"
   ]
  },
  {
   "cell_type": "code",
   "execution_count": 52,
   "metadata": {},
   "outputs": [
    {
     "data": {
      "text/plain": [
       "Int64Index([  0,  17,  18,  19,  20,  21,  22,  23,  24,  25,  26,  27,  28,\n",
       "             29,  30,  31,  32,  33,  34,  35,  36,  37,  38,  39,  40,  41,\n",
       "             42,  43,  44,  45,  46,  47,  48,  49,  50,  51,  52,  53,  54,\n",
       "             55,  56,  57,  58,  59,  60,  61,  62,  63,  64,  65,  66,  67,\n",
       "             68,  69,  70,  75,  76,  96, 100, 242],\n",
       "           dtype='int64')"
      ]
     },
     "execution_count": 52,
     "metadata": {},
     "output_type": "execute_result"
    }
   ],
   "source": [
    "#Reviso edades ilogicas en el dataframe\n",
    "avisos_de_areas_con_mas_postulantes['edad'].value_counts().sort_index().index"
   ]
  },
  {
   "cell_type": "code",
   "execution_count": 53,
   "metadata": {},
   "outputs": [],
   "source": [
    "#Limpio al pivot de las edades ilogicas encontradas\n",
    "edades_ilogicas = [0,96,100,242]\n",
    "tabla_pivot_avisos.drop(edades_ilogicas,inplace=True)"
   ]
  },
  {
   "cell_type": "code",
   "execution_count": 55,
   "metadata": {
    "scrolled": false
   },
   "outputs": [
    {
     "data": {
      "image/png": "[encoded data removed]",
      "text/plain": [
       "<matplotlib.figure.Figure at 0x204b2080>"
      ]
     },
     "metadata": {},
     "output_type": "display_data"
    }
   ],
   "source": [
    "#Distribucion de postulantes por area segun edad de los mismos\n",
    "\n",
    "g = sns.heatmap(tabla_pivot_avisos,  cmap=\"YlGnBu\")\n",
    "g.set_title(\"Cantidad de postulaciones por area de trabajo y edad del postulante\", fontsize=20)\n",
    "g.set_xlabel(\"Area de trabajo\",fontsize=15)\n",
    "g.set_ylabel(\"Edad del postulante\", fontsize=15)\n",
    "g.set_xticklabels(g.get_xticklabels(),rotation=70)\n",
    "sns.set(rc={'figure.figsize':(15,10)})\n",
    "plt.show()"
   ]
  },
  {
   "cell_type": "markdown",
   "metadata": {},
   "source": [
    "## Relacion vistas vs postulaciones"
   ]
  },
  {
   "cell_type": "markdown",
   "metadata": {},
   "source": [
    "Vamos a estudiar la relacion entre los horarios de vista de publicaciones y los horarios de postulacion, para eso vamos a quedarnos con las postulaciones y vistas pertenecientes al mismo rango de fechas."
   ]
  },
  {
   "cell_type": "code",
   "execution_count": 168,
   "metadata": {
    "scrolled": false
   },
   "outputs": [
    {
     "data": {
      "text/plain": [
       "Index([2018-01-15, 2018-01-16, 2018-01-17, 2018-01-18, 2018-01-19, 2018-01-20,\n",
       "       2018-01-21, 2018-01-22, 2018-01-23, 2018-01-24, 2018-01-25, 2018-01-26,\n",
       "       2018-01-27, 2018-01-28, 2018-01-29, 2018-01-30, 2018-01-31, 2018-02-01,\n",
       "       2018-02-02, 2018-02-03, 2018-02-04, 2018-02-05, 2018-02-06, 2018-02-07,\n",
       "       2018-02-08, 2018-02-09, 2018-02-10, 2018-02-11, 2018-02-12, 2018-02-13,\n",
       "       2018-02-14, 2018-02-15, 2018-02-16, 2018-02-17, 2018-02-18, 2018-02-19,\n",
       "       2018-02-20, 2018-02-21, 2018-02-22, 2018-02-23, 2018-02-24, 2018-02-25,\n",
       "       2018-02-26, 2018-02-27, 2018-02-28],\n",
       "      dtype='object')"
      ]
     },
     "execution_count": 168,
     "metadata": {},
     "output_type": "execute_result"
    }
   ],
   "source": [
    "postulaciones.fechahorapostulacion.dt.date.value_counts().sort_index().index"
   ]
  },
  {
   "cell_type": "code",
   "execution_count": 169,
   "metadata": {},
   "outputs": [
    {
     "data": {
      "text/plain": [
       "Index([2018-02-23, 2018-02-24, 2018-02-25, 2018-02-26, 2018-02-27, 2018-02-28,\n",
       "       2018-03-01],\n",
       "      dtype='object')"
      ]
     },
     "execution_count": 169,
     "metadata": {},
     "output_type": "execute_result"
    }
   ],
   "source": [
    "vistas.timestamp.dt.date.value_counts().sort_index().index"
   ]
  },
  {
   "cell_type": "code",
   "execution_count": 58,
   "metadata": {},
   "outputs": [],
   "source": [
    "#Me quedo con todas las vistas hasta el 28/02 inclusive\n",
    "\n",
    "vistas_hasta_2802 = vistas.loc[vistas['timestamp'] < pd.to_datetime('2018-03-01')]"
   ]
  },
  {
   "cell_type": "code",
   "execution_count": 211,
   "metadata": {},
   "outputs": [
    {
     "data": {
      "text/plain": [
       "Index([2018-02-23, 2018-02-24, 2018-02-25, 2018-02-26, 2018-02-27, 2018-02-28], dtype='object')"
      ]
     },
     "execution_count": 211,
     "metadata": {},
     "output_type": "execute_result"
    }
   ],
   "source": [
    "vistas_hasta_2802 = vistas_hasta_2802.rename(columns={'idAviso':'idaviso'})\n",
    "vistas_hasta_2802.timestamp.dt.date.value_counts().sort_index().index"
   ]
  },
  {
   "cell_type": "code",
   "execution_count": 59,
   "metadata": {},
   "outputs": [],
   "source": [
    "#Me quedo con las postulaciones entre el 23/02 y el 28/02 inclusive\n",
    "\n",
    "postulaciones_desde_2302 = postulaciones.loc[postulaciones['fechahorapostulacion'] >= pd.to_datetime('2018-02-23')]\n",
    "postulaciones_2302_al_2802 = postulaciones_desde_2302.loc[postulaciones_desde_2302['fechahorapostulacion'] < pd.to_datetime('2018-03-01')]"
   ]
  },
  {
   "cell_type": "code",
   "execution_count": 173,
   "metadata": {},
   "outputs": [
    {
     "data": {
      "text/plain": [
       "Index([2018-02-23, 2018-02-24, 2018-02-25, 2018-02-26, 2018-02-27, 2018-02-28], dtype='object')"
      ]
     },
     "execution_count": 173,
     "metadata": {},
     "output_type": "execute_result"
    }
   ],
   "source": [
    "postulaciones_2302_al_2802.fechahorapostulacion.dt.date.value_counts().sort_index().index"
   ]
  },
  {
   "cell_type": "markdown",
   "metadata": {},
   "source": [
    "### Relacion general entre vistas y postulaciones"
   ]
  },
  {
   "cell_type": "code",
   "execution_count": 70,
   "metadata": {
    "scrolled": true
   },
   "outputs": [
    {
     "data": {
      "text/html": [
       "<div>\n",
       "<style scoped>\n",
       "    .dataframe tbody tr th:only-of-type {\n",
       "        vertical-align: middle;\n",
       "    }\n",
       "\n",
       "    .dataframe tbody tr th {\n",
       "        vertical-align: top;\n",
       "    }\n",
       "\n",
       "    .dataframe thead th {\n",
       "        text-align: right;\n",
       "    }\n",
       "</style>\n",
       "<table border=\"1\" class=\"dataframe\">\n",
       "  <thead>\n",
       "    <tr style=\"text-align: right;\">\n",
       "      <th></th>\n",
       "      <th>idaviso</th>\n",
       "      <th>timestamp</th>\n",
       "      <th>idpostulante</th>\n",
       "      <th>fechavisualizacion</th>\n",
       "      <th>horavisualizacion</th>\n",
       "      <th>fechahorapostulacion</th>\n",
       "      <th>fechapostulacion</th>\n",
       "      <th>horapostulacion</th>\n",
       "      <th>diapostulacion</th>\n",
       "    </tr>\n",
       "  </thead>\n",
       "  <tbody>\n",
       "    <tr>\n",
       "      <th>0</th>\n",
       "      <td>1111780242</td>\n",
       "      <td>2018-02-23 18:38:13.187</td>\n",
       "      <td>YjVJQ6Z</td>\n",
       "      <td>2018-02-23</td>\n",
       "      <td>18:38:13.187000</td>\n",
       "      <td>2018-02-23 13:38:49</td>\n",
       "      <td>2018-02-23</td>\n",
       "      <td>13:38:49</td>\n",
       "      <td>Friday</td>\n",
       "    </tr>\n",
       "    <tr>\n",
       "      <th>1</th>\n",
       "      <td>1112263876</td>\n",
       "      <td>2018-02-23 18:38:14.296</td>\n",
       "      <td>BmVpYoR</td>\n",
       "      <td>2018-02-23</td>\n",
       "      <td>18:38:14.296000</td>\n",
       "      <td>NaT</td>\n",
       "      <td>NaN</td>\n",
       "      <td>NaN</td>\n",
       "      <td>NaN</td>\n",
       "    </tr>\n",
       "    <tr>\n",
       "      <th>2</th>\n",
       "      <td>1112327963</td>\n",
       "      <td>2018-02-23 18:38:14.329</td>\n",
       "      <td>wVkBzZd</td>\n",
       "      <td>2018-02-23</td>\n",
       "      <td>18:38:14.329000</td>\n",
       "      <td>2018-02-23 13:39:23</td>\n",
       "      <td>2018-02-23</td>\n",
       "      <td>13:39:23</td>\n",
       "      <td>Friday</td>\n",
       "    </tr>\n",
       "    <tr>\n",
       "      <th>3</th>\n",
       "      <td>1112318643</td>\n",
       "      <td>2018-02-23 18:38:17.921</td>\n",
       "      <td>OqmP9pv</td>\n",
       "      <td>2018-02-23</td>\n",
       "      <td>18:38:17.921000</td>\n",
       "      <td>NaT</td>\n",
       "      <td>NaN</td>\n",
       "      <td>NaN</td>\n",
       "      <td>NaN</td>\n",
       "    </tr>\n",
       "    <tr>\n",
       "      <th>4</th>\n",
       "      <td>1111903673</td>\n",
       "      <td>2018-02-23 18:38:18.973</td>\n",
       "      <td>DrpbXDP</td>\n",
       "      <td>2018-02-23</td>\n",
       "      <td>18:38:18.973000</td>\n",
       "      <td>2018-02-23 13:38:40</td>\n",
       "      <td>2018-02-23</td>\n",
       "      <td>13:38:40</td>\n",
       "      <td>Friday</td>\n",
       "    </tr>\n",
       "  </tbody>\n",
       "</table>\n",
       "</div>"
      ],
      "text/plain": [
       "      idaviso               timestamp idpostulante fechavisualizacion  \\\n",
       "0  1111780242 2018-02-23 18:38:13.187      YjVJQ6Z         2018-02-23   \n",
       "1  1112263876 2018-02-23 18:38:14.296      BmVpYoR         2018-02-23   \n",
       "2  1112327963 2018-02-23 18:38:14.329      wVkBzZd         2018-02-23   \n",
       "3  1112318643 2018-02-23 18:38:17.921      OqmP9pv         2018-02-23   \n",
       "4  1111903673 2018-02-23 18:38:18.973      DrpbXDP         2018-02-23   \n",
       "\n",
       "  horavisualizacion fechahorapostulacion fechapostulacion horapostulacion  \\\n",
       "0   18:38:13.187000  2018-02-23 13:38:49       2018-02-23        13:38:49   \n",
       "1   18:38:14.296000                  NaT              NaN             NaN   \n",
       "2   18:38:14.329000  2018-02-23 13:39:23       2018-02-23        13:39:23   \n",
       "3   18:38:17.921000                  NaT              NaN             NaN   \n",
       "4   18:38:18.973000  2018-02-23 13:38:40       2018-02-23        13:38:40   \n",
       "\n",
       "  diapostulacion  \n",
       "0         Friday  \n",
       "1            NaN  \n",
       "2         Friday  \n",
       "3            NaN  \n",
       "4         Friday  "
      ]
     },
     "execution_count": 70,
     "metadata": {},
     "output_type": "execute_result"
    }
   ],
   "source": [
    "#Existen casos donde hay registros en el dataframe de postulaciones que no tienen su correspondiente visualizacion en vistas.\n",
    "#Entendemos que se trata de un error en los datos puesto que no tiene sentido postularse en un anuncio que uno no miró primero.\n",
    "#Por lo tanto, elegimos el left join para filtrar esos registros.\n",
    "\n",
    "vistas_postulaciones = pd.merge(vistas_hasta_2802,postulaciones_2302_al_2802,on=['idaviso','idpostulante'],how='left')\n",
    "vistas_postulaciones.head()"
   ]
  },
  {
   "cell_type": "code",
   "execution_count": 235,
   "metadata": {},
   "outputs": [
    {
     "data": {
      "text/html": [
       "<div>\n",
       "<style scoped>\n",
       "    .dataframe tbody tr th:only-of-type {\n",
       "        vertical-align: middle;\n",
       "    }\n",
       "\n",
       "    .dataframe tbody tr th {\n",
       "        vertical-align: top;\n",
       "    }\n",
       "\n",
       "    .dataframe thead th {\n",
       "        text-align: right;\n",
       "    }\n",
       "</style>\n",
       "<table border=\"1\" class=\"dataframe\">\n",
       "  <thead>\n",
       "    <tr style=\"text-align: right;\">\n",
       "      <th></th>\n",
       "      <th>idaviso</th>\n",
       "      <th>timestamp</th>\n",
       "      <th>idpostulante</th>\n",
       "      <th>fechavisualizacion</th>\n",
       "      <th>horavisualizacion</th>\n",
       "      <th>fechahorapostulacion</th>\n",
       "      <th>fechapostulacion</th>\n",
       "      <th>horapostulacion</th>\n",
       "      <th>Number</th>\n",
       "      <th>diapostulacion</th>\n",
       "    </tr>\n",
       "  </thead>\n",
       "  <tbody>\n",
       "    <tr>\n",
       "      <th>0</th>\n",
       "      <td>1111780242</td>\n",
       "      <td>2018-02-23 18:38:13.187</td>\n",
       "      <td>YjVJQ6Z</td>\n",
       "      <td>2018-02-23</td>\n",
       "      <td>18:38:13.187000</td>\n",
       "      <td>2018-02-23 13:38:49</td>\n",
       "      <td>2018-02-23</td>\n",
       "      <td>13:38:49</td>\n",
       "      <td>23.0</td>\n",
       "      <td>Friday</td>\n",
       "    </tr>\n",
       "    <tr>\n",
       "      <th>585650</th>\n",
       "      <td>1112301574</td>\n",
       "      <td>2018-02-27 16:28:37.162</td>\n",
       "      <td>YjVJQ6Z</td>\n",
       "      <td>2018-02-27</td>\n",
       "      <td>16:28:37.162000</td>\n",
       "      <td>NaT</td>\n",
       "      <td>NaN</td>\n",
       "      <td>NaN</td>\n",
       "      <td>NaN</td>\n",
       "      <td>NaN</td>\n",
       "    </tr>\n",
       "    <tr>\n",
       "      <th>592489</th>\n",
       "      <td>1112319451</td>\n",
       "      <td>2018-02-27 16:26:31.101</td>\n",
       "      <td>YjVJQ6Z</td>\n",
       "      <td>2018-02-27</td>\n",
       "      <td>16:26:31.101000</td>\n",
       "      <td>2018-02-23 13:35:44</td>\n",
       "      <td>2018-02-23</td>\n",
       "      <td>13:35:44</td>\n",
       "      <td>23.0</td>\n",
       "      <td>Friday</td>\n",
       "    </tr>\n",
       "    <tr>\n",
       "      <th>598376</th>\n",
       "      <td>1112326950</td>\n",
       "      <td>2018-02-27 16:28:43.417</td>\n",
       "      <td>YjVJQ6Z</td>\n",
       "      <td>2018-02-27</td>\n",
       "      <td>16:28:43.417000</td>\n",
       "      <td>2018-02-27 11:28:56</td>\n",
       "      <td>2018-02-27</td>\n",
       "      <td>11:28:56</td>\n",
       "      <td>27.0</td>\n",
       "      <td>Tuesday</td>\n",
       "    </tr>\n",
       "  </tbody>\n",
       "</table>\n",
       "</div>"
      ],
      "text/plain": [
       "           idaviso               timestamp idpostulante fechavisualizacion  \\\n",
       "0       1111780242 2018-02-23 18:38:13.187      YjVJQ6Z         2018-02-23   \n",
       "585650  1112301574 2018-02-27 16:28:37.162      YjVJQ6Z         2018-02-27   \n",
       "592489  1112319451 2018-02-27 16:26:31.101      YjVJQ6Z         2018-02-27   \n",
       "598376  1112326950 2018-02-27 16:28:43.417      YjVJQ6Z         2018-02-27   \n",
       "\n",
       "       horavisualizacion fechahorapostulacion fechapostulacion  \\\n",
       "0        18:38:13.187000  2018-02-23 13:38:49       2018-02-23   \n",
       "585650   16:28:37.162000                  NaT              NaN   \n",
       "592489   16:26:31.101000  2018-02-23 13:35:44       2018-02-23   \n",
       "598376   16:28:43.417000  2018-02-27 11:28:56       2018-02-27   \n",
       "\n",
       "       horapostulacion  Number diapostulacion  \n",
       "0             13:38:49    23.0         Friday  \n",
       "585650             NaN     NaN            NaN  \n",
       "592489        13:35:44    23.0         Friday  \n",
       "598376        11:28:56    27.0        Tuesday  "
      ]
     },
     "execution_count": 235,
     "metadata": {},
     "output_type": "execute_result"
    }
   ],
   "source": [
    "vistas_postulaciones.loc[vistas_postulaciones.idpostulante == 'YjVJQ6Z']"
   ]
  },
  {
   "cell_type": "markdown",
   "metadata": {},
   "source": [
    "### ¿Existe relación entre la hora de vista de una publicación y la fecha de postulación a la misma?"
   ]
  },
  {
   "cell_type": "code",
   "execution_count": 126,
   "metadata": {},
   "outputs": [],
   "source": [
    "#Preparo los datos para poder armar la visualizacion\n",
    "\n",
    "cantidad_postulaciones_por_hora = pd.DataFrame(vistas_postulaciones['horapostulacion'].value_counts())\n",
    "cantidad_postulaciones_por_hora = cantidad_postulaciones_por_hora.rename(columns={'horapostulacion':'postulaciones'})\n",
    "cantidad_vistas_por_hora = pd.DataFrame(vistas_postulaciones['horavisualizacion'].apply(lambda x: x.replace(microsecond=0)).value_counts())\n",
    "cantidad_vistas_por_hora = cantidad_vistas_por_hora.rename(columns={'horavisualizacion':'visualizaciones'})\n",
    "cantidad_postulaciones_por_hora = cantidad_postulaciones_por_hora.reset_index()\n",
    "cantidad_vistas_por_hora = cantidad_vistas_por_hora.reset_index()\n",
    "cantidad_vistas_postulaciones_por_hora = pd.merge(cantidad_postulaciones_por_hora,cantidad_vistas_por_hora,how='outer',on='index').fillna(0).set_index('index')"
   ]
  },
  {
   "cell_type": "code",
   "execution_count": 231,
   "metadata": {
    "scrolled": true
   },
   "outputs": [
    {
     "data": {
      "image/png": "[encoded data removed]",
      "text/plain": [
       "<matplotlib.figure.Figure at 0xf3b66b70>"
      ]
     },
     "metadata": {},
     "output_type": "display_data"
    }
   ],
   "source": [
    "cantidad_vistas_postulaciones_por_hora[['postulaciones','visualizaciones']].plot(kind='line', figsize=(17,5),rot=50,alpha=0.8)\n",
    "plt.title(\"Vistas vs postulaciones segun el horario\", size=20)\n",
    "plt.xticks(horas)\n",
    "plt.xlabel(\"Hora\", size=15)\n",
    "plt.ylabel(\"Cantidad\", size=15)\n",
    "plt.show()"
   ]
  },
  {
   "cell_type": "markdown",
   "metadata": {},
   "source": [
    "### ¿Influye el nivel de educacion en el porcentaje vista-postulacion? "
   ]
  },
  {
   "cell_type": "code",
   "execution_count": null,
   "metadata": {},
   "outputs": [],
   "source": [
    "##FALTA HACER"
   ]
  },
  {
   "cell_type": "markdown",
   "metadata": {},
   "source": [
    "### Areas con mejor porcentaje vista-postulacion "
   ]
  },
  {
   "cell_type": "code",
   "execution_count": null,
   "metadata": {},
   "outputs": [],
   "source": [
    "##FALTA HACER"
   ]
  },
  {
   "cell_type": "markdown",
   "metadata": {},
   "source": [
    "### Relacion vista-postulacion en las diez areas mas postuladas "
   ]
  },
  {
   "cell_type": "code",
   "execution_count": 97,
   "metadata": {},
   "outputs": [
    {
     "data": {
      "text/html": [
       "<div>\n",
       "<style scoped>\n",
       "    .dataframe tbody tr th:only-of-type {\n",
       "        vertical-align: middle;\n",
       "    }\n",
       "\n",
       "    .dataframe tbody tr th {\n",
       "        vertical-align: top;\n",
       "    }\n",
       "\n",
       "    .dataframe thead th {\n",
       "        text-align: right;\n",
       "    }\n",
       "</style>\n",
       "<table border=\"1\" class=\"dataframe\">\n",
       "  <thead>\n",
       "    <tr style=\"text-align: right;\">\n",
       "      <th></th>\n",
       "      <th>fechahorapostulacion</th>\n",
       "      <th>timestamp</th>\n",
       "    </tr>\n",
       "    <tr>\n",
       "      <th>idaviso</th>\n",
       "      <th></th>\n",
       "      <th></th>\n",
       "    </tr>\n",
       "  </thead>\n",
       "  <tbody>\n",
       "    <tr>\n",
       "      <th>1585950</th>\n",
       "      <td>0</td>\n",
       "      <td>1</td>\n",
       "    </tr>\n",
       "    <tr>\n",
       "      <th>1672250</th>\n",
       "      <td>0</td>\n",
       "      <td>2</td>\n",
       "    </tr>\n",
       "    <tr>\n",
       "      <th>1799300</th>\n",
       "      <td>0</td>\n",
       "      <td>1</td>\n",
       "    </tr>\n",
       "    <tr>\n",
       "      <th>2613010</th>\n",
       "      <td>0</td>\n",
       "      <td>4</td>\n",
       "    </tr>\n",
       "    <tr>\n",
       "      <th>3006520</th>\n",
       "      <td>0</td>\n",
       "      <td>1</td>\n",
       "    </tr>\n",
       "  </tbody>\n",
       "</table>\n",
       "</div>"
      ],
      "text/plain": [
       "         fechahorapostulacion  timestamp\n",
       "idaviso                                 \n",
       "1585950                     0          1\n",
       "1672250                     0          2\n",
       "1799300                     0          1\n",
       "2613010                     0          4\n",
       "3006520                     0          1"
      ]
     },
     "execution_count": 97,
     "metadata": {},
     "output_type": "execute_result"
    }
   ],
   "source": [
    "grouped_vistas_postulaciones = vistas_postulaciones.groupby('idaviso').agg({'timestamp':'count','fechahorapostulacion':'count'})\n",
    "grouped_vistas_postulaciones.head()"
   ]
  },
  {
   "cell_type": "code",
   "execution_count": 116,
   "metadata": {},
   "outputs": [],
   "source": [
    "grouped_vistas_postulaciones = grouped_vistas_postulaciones.reset_index().merge(avisos_detalle,on='idaviso',how='inner')\n",
    "grouped_vistas_postulaciones = grouped_vistas_postulaciones.groupby('nombre_area_y').agg({'fechahorapostulacion':'sum','timestamp':'sum'})"
   ]
  },
  {
   "cell_type": "code",
   "execution_count": 125,
   "metadata": {},
   "outputs": [
    {
     "data": {
      "text/plain": [
       "Text(0.5,0,u'Cantidad')"
      ]
     },
     "execution_count": 125,
     "metadata": {},
     "output_type": "execute_result"
    },
    {
     "data": {
      "image/png": "[encoded data removed]",
      "text/plain": [
       "<matplotlib.figure.Figure at 0x45f691d0>"
      ]
     },
     "metadata": {},
     "output_type": "display_data"
    }
   ],
   "source": [
    "#Modifico nombres de columnas y ordeno para tomar las diez areas mas postuladas\n",
    "\n",
    "grouped_vistas_postulaciones = grouped_vistas_postulaciones.rename(columns = {'fechahorapostulacion':'postulaciones','timestamp':'vistas'})\n",
    "grouped_vistas_postulaciones.sort_values('postulaciones',ascending=False).head(10).plot(kind='barh')\n",
    "plt.title('Relacion vista-postulacion en las diez areas mas postuladas', size=20)\n",
    "plt.ylabel('Area', size=15)\n",
    "plt.xlabel('Cantidad', size=15)"
   ]
  }
 ],
 "metadata": {
  "kernelspec": {
   "display_name": "Python 2",
   "language": "python",
   "name": "python2"
  },
  "language_info": {
   "codemirror_mode": {
    "name": "ipython",
    "version": 2
   },
   "file_extension": ".py",
   "mimetype": "text/x-python",
   "name": "python",
   "nbconvert_exporter": "python",
   "pygments_lexer": "ipython2",
   "version": "2.7.14"
  }
 },
 "nbformat": 4,
 "nbformat_minor": 2
}
